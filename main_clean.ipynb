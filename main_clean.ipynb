{
  "nbformat": 4,
  "nbformat_minor": 0,
  "metadata": {
    "colab": {
      "provenance": [],
      "include_colab_link": true
    },
    "kernelspec": {
      "name": "python3",
      "display_name": "Python 3"
    },
    "language_info": {
      "name": "python"
    },
    "widgets": {
      "application/vnd.jupyter.widget-state+json": {
        "8ec6794fcf7746b287e83994290021f6": {
          "model_module": "@jupyter-widgets/controls",
          "model_name": "HBoxModel",
          "model_module_version": "1.5.0",
          "state": {
            "_dom_classes": [],
            "_model_module": "@jupyter-widgets/controls",
            "_model_module_version": "1.5.0",
            "_model_name": "HBoxModel",
            "_view_count": null,
            "_view_module": "@jupyter-widgets/controls",
            "_view_module_version": "1.5.0",
            "_view_name": "HBoxView",
            "box_style": "",
            "children": [
              "IPY_MODEL_a9a6f1916b8e4e8dba5c46d8a651e21d",
              "IPY_MODEL_585abdb2b0e34318aa0dbd436fd0b6e2",
              "IPY_MODEL_f9c4cd6dc9e547d18d71656bfd07991f"
            ],
            "layout": "IPY_MODEL_577431c61acb4ce98a11ac5fc14376fe"
          }
        },
        "a9a6f1916b8e4e8dba5c46d8a651e21d": {
          "model_module": "@jupyter-widgets/controls",
          "model_name": "HTMLModel",
          "model_module_version": "1.5.0",
          "state": {
            "_dom_classes": [],
            "_model_module": "@jupyter-widgets/controls",
            "_model_module_version": "1.5.0",
            "_model_name": "HTMLModel",
            "_view_count": null,
            "_view_module": "@jupyter-widgets/controls",
            "_view_module_version": "1.5.0",
            "_view_name": "HTMLView",
            "description": "",
            "description_tooltip": null,
            "layout": "IPY_MODEL_adae5e98f55d47f2b88ee0cdab59948c",
            "placeholder": "​",
            "style": "IPY_MODEL_660f3b0e675144a88183cf7384be1d0a",
            "value": "Downloading (…)okenizer_config.json: 100%"
          }
        },
        "585abdb2b0e34318aa0dbd436fd0b6e2": {
          "model_module": "@jupyter-widgets/controls",
          "model_name": "FloatProgressModel",
          "model_module_version": "1.5.0",
          "state": {
            "_dom_classes": [],
            "_model_module": "@jupyter-widgets/controls",
            "_model_module_version": "1.5.0",
            "_model_name": "FloatProgressModel",
            "_view_count": null,
            "_view_module": "@jupyter-widgets/controls",
            "_view_module_version": "1.5.0",
            "_view_name": "ProgressView",
            "bar_style": "success",
            "description": "",
            "description_tooltip": null,
            "layout": "IPY_MODEL_7ff5f89574e745fc902e389a39d45099",
            "max": 28,
            "min": 0,
            "orientation": "horizontal",
            "style": "IPY_MODEL_94c3d20f49c84b08833337f5293efe81",
            "value": 28
          }
        },
        "f9c4cd6dc9e547d18d71656bfd07991f": {
          "model_module": "@jupyter-widgets/controls",
          "model_name": "HTMLModel",
          "model_module_version": "1.5.0",
          "state": {
            "_dom_classes": [],
            "_model_module": "@jupyter-widgets/controls",
            "_model_module_version": "1.5.0",
            "_model_name": "HTMLModel",
            "_view_count": null,
            "_view_module": "@jupyter-widgets/controls",
            "_view_module_version": "1.5.0",
            "_view_name": "HTMLView",
            "description": "",
            "description_tooltip": null,
            "layout": "IPY_MODEL_27f507c05dc24028a39b530e702a57f3",
            "placeholder": "​",
            "style": "IPY_MODEL_552c9c24f1474caf9d3743ed19708148",
            "value": " 28.0/28.0 [00:00&lt;00:00, 1.34kB/s]"
          }
        },
        "577431c61acb4ce98a11ac5fc14376fe": {
          "model_module": "@jupyter-widgets/base",
          "model_name": "LayoutModel",
          "model_module_version": "1.2.0",
          "state": {
            "_model_module": "@jupyter-widgets/base",
            "_model_module_version": "1.2.0",
            "_model_name": "LayoutModel",
            "_view_count": null,
            "_view_module": "@jupyter-widgets/base",
            "_view_module_version": "1.2.0",
            "_view_name": "LayoutView",
            "align_content": null,
            "align_items": null,
            "align_self": null,
            "border": null,
            "bottom": null,
            "display": null,
            "flex": null,
            "flex_flow": null,
            "grid_area": null,
            "grid_auto_columns": null,
            "grid_auto_flow": null,
            "grid_auto_rows": null,
            "grid_column": null,
            "grid_gap": null,
            "grid_row": null,
            "grid_template_areas": null,
            "grid_template_columns": null,
            "grid_template_rows": null,
            "height": null,
            "justify_content": null,
            "justify_items": null,
            "left": null,
            "margin": null,
            "max_height": null,
            "max_width": null,
            "min_height": null,
            "min_width": null,
            "object_fit": null,
            "object_position": null,
            "order": null,
            "overflow": null,
            "overflow_x": null,
            "overflow_y": null,
            "padding": null,
            "right": null,
            "top": null,
            "visibility": null,
            "width": null
          }
        },
        "adae5e98f55d47f2b88ee0cdab59948c": {
          "model_module": "@jupyter-widgets/base",
          "model_name": "LayoutModel",
          "model_module_version": "1.2.0",
          "state": {
            "_model_module": "@jupyter-widgets/base",
            "_model_module_version": "1.2.0",
            "_model_name": "LayoutModel",
            "_view_count": null,
            "_view_module": "@jupyter-widgets/base",
            "_view_module_version": "1.2.0",
            "_view_name": "LayoutView",
            "align_content": null,
            "align_items": null,
            "align_self": null,
            "border": null,
            "bottom": null,
            "display": null,
            "flex": null,
            "flex_flow": null,
            "grid_area": null,
            "grid_auto_columns": null,
            "grid_auto_flow": null,
            "grid_auto_rows": null,
            "grid_column": null,
            "grid_gap": null,
            "grid_row": null,
            "grid_template_areas": null,
            "grid_template_columns": null,
            "grid_template_rows": null,
            "height": null,
            "justify_content": null,
            "justify_items": null,
            "left": null,
            "margin": null,
            "max_height": null,
            "max_width": null,
            "min_height": null,
            "min_width": null,
            "object_fit": null,
            "object_position": null,
            "order": null,
            "overflow": null,
            "overflow_x": null,
            "overflow_y": null,
            "padding": null,
            "right": null,
            "top": null,
            "visibility": null,
            "width": null
          }
        },
        "660f3b0e675144a88183cf7384be1d0a": {
          "model_module": "@jupyter-widgets/controls",
          "model_name": "DescriptionStyleModel",
          "model_module_version": "1.5.0",
          "state": {
            "_model_module": "@jupyter-widgets/controls",
            "_model_module_version": "1.5.0",
            "_model_name": "DescriptionStyleModel",
            "_view_count": null,
            "_view_module": "@jupyter-widgets/base",
            "_view_module_version": "1.2.0",
            "_view_name": "StyleView",
            "description_width": ""
          }
        },
        "7ff5f89574e745fc902e389a39d45099": {
          "model_module": "@jupyter-widgets/base",
          "model_name": "LayoutModel",
          "model_module_version": "1.2.0",
          "state": {
            "_model_module": "@jupyter-widgets/base",
            "_model_module_version": "1.2.0",
            "_model_name": "LayoutModel",
            "_view_count": null,
            "_view_module": "@jupyter-widgets/base",
            "_view_module_version": "1.2.0",
            "_view_name": "LayoutView",
            "align_content": null,
            "align_items": null,
            "align_self": null,
            "border": null,
            "bottom": null,
            "display": null,
            "flex": null,
            "flex_flow": null,
            "grid_area": null,
            "grid_auto_columns": null,
            "grid_auto_flow": null,
            "grid_auto_rows": null,
            "grid_column": null,
            "grid_gap": null,
            "grid_row": null,
            "grid_template_areas": null,
            "grid_template_columns": null,
            "grid_template_rows": null,
            "height": null,
            "justify_content": null,
            "justify_items": null,
            "left": null,
            "margin": null,
            "max_height": null,
            "max_width": null,
            "min_height": null,
            "min_width": null,
            "object_fit": null,
            "object_position": null,
            "order": null,
            "overflow": null,
            "overflow_x": null,
            "overflow_y": null,
            "padding": null,
            "right": null,
            "top": null,
            "visibility": null,
            "width": null
          }
        },
        "94c3d20f49c84b08833337f5293efe81": {
          "model_module": "@jupyter-widgets/controls",
          "model_name": "ProgressStyleModel",
          "model_module_version": "1.5.0",
          "state": {
            "_model_module": "@jupyter-widgets/controls",
            "_model_module_version": "1.5.0",
            "_model_name": "ProgressStyleModel",
            "_view_count": null,
            "_view_module": "@jupyter-widgets/base",
            "_view_module_version": "1.2.0",
            "_view_name": "StyleView",
            "bar_color": null,
            "description_width": ""
          }
        },
        "27f507c05dc24028a39b530e702a57f3": {
          "model_module": "@jupyter-widgets/base",
          "model_name": "LayoutModel",
          "model_module_version": "1.2.0",
          "state": {
            "_model_module": "@jupyter-widgets/base",
            "_model_module_version": "1.2.0",
            "_model_name": "LayoutModel",
            "_view_count": null,
            "_view_module": "@jupyter-widgets/base",
            "_view_module_version": "1.2.0",
            "_view_name": "LayoutView",
            "align_content": null,
            "align_items": null,
            "align_self": null,
            "border": null,
            "bottom": null,
            "display": null,
            "flex": null,
            "flex_flow": null,
            "grid_area": null,
            "grid_auto_columns": null,
            "grid_auto_flow": null,
            "grid_auto_rows": null,
            "grid_column": null,
            "grid_gap": null,
            "grid_row": null,
            "grid_template_areas": null,
            "grid_template_columns": null,
            "grid_template_rows": null,
            "height": null,
            "justify_content": null,
            "justify_items": null,
            "left": null,
            "margin": null,
            "max_height": null,
            "max_width": null,
            "min_height": null,
            "min_width": null,
            "object_fit": null,
            "object_position": null,
            "order": null,
            "overflow": null,
            "overflow_x": null,
            "overflow_y": null,
            "padding": null,
            "right": null,
            "top": null,
            "visibility": null,
            "width": null
          }
        },
        "552c9c24f1474caf9d3743ed19708148": {
          "model_module": "@jupyter-widgets/controls",
          "model_name": "DescriptionStyleModel",
          "model_module_version": "1.5.0",
          "state": {
            "_model_module": "@jupyter-widgets/controls",
            "_model_module_version": "1.5.0",
            "_model_name": "DescriptionStyleModel",
            "_view_count": null,
            "_view_module": "@jupyter-widgets/base",
            "_view_module_version": "1.2.0",
            "_view_name": "StyleView",
            "description_width": ""
          }
        },
        "2f945c5d3dfe4736b45ff83ccd1a3d34": {
          "model_module": "@jupyter-widgets/controls",
          "model_name": "HBoxModel",
          "model_module_version": "1.5.0",
          "state": {
            "_dom_classes": [],
            "_model_module": "@jupyter-widgets/controls",
            "_model_module_version": "1.5.0",
            "_model_name": "HBoxModel",
            "_view_count": null,
            "_view_module": "@jupyter-widgets/controls",
            "_view_module_version": "1.5.0",
            "_view_name": "HBoxView",
            "box_style": "",
            "children": [
              "IPY_MODEL_75056adbfdc34ef8b866947cd653eba6",
              "IPY_MODEL_b05cea82a51749da9bb44ec4369b0022",
              "IPY_MODEL_ccdedd851a5140908683f533c54e22e1"
            ],
            "layout": "IPY_MODEL_560b076e0efe422f85eb98d769999c89"
          }
        },
        "75056adbfdc34ef8b866947cd653eba6": {
          "model_module": "@jupyter-widgets/controls",
          "model_name": "HTMLModel",
          "model_module_version": "1.5.0",
          "state": {
            "_dom_classes": [],
            "_model_module": "@jupyter-widgets/controls",
            "_model_module_version": "1.5.0",
            "_model_name": "HTMLModel",
            "_view_count": null,
            "_view_module": "@jupyter-widgets/controls",
            "_view_module_version": "1.5.0",
            "_view_name": "HTMLView",
            "description": "",
            "description_tooltip": null,
            "layout": "IPY_MODEL_9cd5832610144fc3a643191a348722c3",
            "placeholder": "​",
            "style": "IPY_MODEL_d5347ee5d04f46fb97bfbab47f0c03b5",
            "value": "Downloading (…)solve/main/vocab.txt: 100%"
          }
        },
        "b05cea82a51749da9bb44ec4369b0022": {
          "model_module": "@jupyter-widgets/controls",
          "model_name": "FloatProgressModel",
          "model_module_version": "1.5.0",
          "state": {
            "_dom_classes": [],
            "_model_module": "@jupyter-widgets/controls",
            "_model_module_version": "1.5.0",
            "_model_name": "FloatProgressModel",
            "_view_count": null,
            "_view_module": "@jupyter-widgets/controls",
            "_view_module_version": "1.5.0",
            "_view_name": "ProgressView",
            "bar_style": "success",
            "description": "",
            "description_tooltip": null,
            "layout": "IPY_MODEL_cf8c407e5ac140e687fdc6759ca0e422",
            "max": 231508,
            "min": 0,
            "orientation": "horizontal",
            "style": "IPY_MODEL_45c0d5121285446f93fcb2d0d1b33e2f",
            "value": 231508
          }
        },
        "ccdedd851a5140908683f533c54e22e1": {
          "model_module": "@jupyter-widgets/controls",
          "model_name": "HTMLModel",
          "model_module_version": "1.5.0",
          "state": {
            "_dom_classes": [],
            "_model_module": "@jupyter-widgets/controls",
            "_model_module_version": "1.5.0",
            "_model_name": "HTMLModel",
            "_view_count": null,
            "_view_module": "@jupyter-widgets/controls",
            "_view_module_version": "1.5.0",
            "_view_name": "HTMLView",
            "description": "",
            "description_tooltip": null,
            "layout": "IPY_MODEL_5957cdd9d76f4549b588ae845bab32b0",
            "placeholder": "​",
            "style": "IPY_MODEL_98cf9f6b9f934691930483687b23c12b",
            "value": " 232k/232k [00:00&lt;00:00, 5.22MB/s]"
          }
        },
        "560b076e0efe422f85eb98d769999c89": {
          "model_module": "@jupyter-widgets/base",
          "model_name": "LayoutModel",
          "model_module_version": "1.2.0",
          "state": {
            "_model_module": "@jupyter-widgets/base",
            "_model_module_version": "1.2.0",
            "_model_name": "LayoutModel",
            "_view_count": null,
            "_view_module": "@jupyter-widgets/base",
            "_view_module_version": "1.2.0",
            "_view_name": "LayoutView",
            "align_content": null,
            "align_items": null,
            "align_self": null,
            "border": null,
            "bottom": null,
            "display": null,
            "flex": null,
            "flex_flow": null,
            "grid_area": null,
            "grid_auto_columns": null,
            "grid_auto_flow": null,
            "grid_auto_rows": null,
            "grid_column": null,
            "grid_gap": null,
            "grid_row": null,
            "grid_template_areas": null,
            "grid_template_columns": null,
            "grid_template_rows": null,
            "height": null,
            "justify_content": null,
            "justify_items": null,
            "left": null,
            "margin": null,
            "max_height": null,
            "max_width": null,
            "min_height": null,
            "min_width": null,
            "object_fit": null,
            "object_position": null,
            "order": null,
            "overflow": null,
            "overflow_x": null,
            "overflow_y": null,
            "padding": null,
            "right": null,
            "top": null,
            "visibility": null,
            "width": null
          }
        },
        "9cd5832610144fc3a643191a348722c3": {
          "model_module": "@jupyter-widgets/base",
          "model_name": "LayoutModel",
          "model_module_version": "1.2.0",
          "state": {
            "_model_module": "@jupyter-widgets/base",
            "_model_module_version": "1.2.0",
            "_model_name": "LayoutModel",
            "_view_count": null,
            "_view_module": "@jupyter-widgets/base",
            "_view_module_version": "1.2.0",
            "_view_name": "LayoutView",
            "align_content": null,
            "align_items": null,
            "align_self": null,
            "border": null,
            "bottom": null,
            "display": null,
            "flex": null,
            "flex_flow": null,
            "grid_area": null,
            "grid_auto_columns": null,
            "grid_auto_flow": null,
            "grid_auto_rows": null,
            "grid_column": null,
            "grid_gap": null,
            "grid_row": null,
            "grid_template_areas": null,
            "grid_template_columns": null,
            "grid_template_rows": null,
            "height": null,
            "justify_content": null,
            "justify_items": null,
            "left": null,
            "margin": null,
            "max_height": null,
            "max_width": null,
            "min_height": null,
            "min_width": null,
            "object_fit": null,
            "object_position": null,
            "order": null,
            "overflow": null,
            "overflow_x": null,
            "overflow_y": null,
            "padding": null,
            "right": null,
            "top": null,
            "visibility": null,
            "width": null
          }
        },
        "d5347ee5d04f46fb97bfbab47f0c03b5": {
          "model_module": "@jupyter-widgets/controls",
          "model_name": "DescriptionStyleModel",
          "model_module_version": "1.5.0",
          "state": {
            "_model_module": "@jupyter-widgets/controls",
            "_model_module_version": "1.5.0",
            "_model_name": "DescriptionStyleModel",
            "_view_count": null,
            "_view_module": "@jupyter-widgets/base",
            "_view_module_version": "1.2.0",
            "_view_name": "StyleView",
            "description_width": ""
          }
        },
        "cf8c407e5ac140e687fdc6759ca0e422": {
          "model_module": "@jupyter-widgets/base",
          "model_name": "LayoutModel",
          "model_module_version": "1.2.0",
          "state": {
            "_model_module": "@jupyter-widgets/base",
            "_model_module_version": "1.2.0",
            "_model_name": "LayoutModel",
            "_view_count": null,
            "_view_module": "@jupyter-widgets/base",
            "_view_module_version": "1.2.0",
            "_view_name": "LayoutView",
            "align_content": null,
            "align_items": null,
            "align_self": null,
            "border": null,
            "bottom": null,
            "display": null,
            "flex": null,
            "flex_flow": null,
            "grid_area": null,
            "grid_auto_columns": null,
            "grid_auto_flow": null,
            "grid_auto_rows": null,
            "grid_column": null,
            "grid_gap": null,
            "grid_row": null,
            "grid_template_areas": null,
            "grid_template_columns": null,
            "grid_template_rows": null,
            "height": null,
            "justify_content": null,
            "justify_items": null,
            "left": null,
            "margin": null,
            "max_height": null,
            "max_width": null,
            "min_height": null,
            "min_width": null,
            "object_fit": null,
            "object_position": null,
            "order": null,
            "overflow": null,
            "overflow_x": null,
            "overflow_y": null,
            "padding": null,
            "right": null,
            "top": null,
            "visibility": null,
            "width": null
          }
        },
        "45c0d5121285446f93fcb2d0d1b33e2f": {
          "model_module": "@jupyter-widgets/controls",
          "model_name": "ProgressStyleModel",
          "model_module_version": "1.5.0",
          "state": {
            "_model_module": "@jupyter-widgets/controls",
            "_model_module_version": "1.5.0",
            "_model_name": "ProgressStyleModel",
            "_view_count": null,
            "_view_module": "@jupyter-widgets/base",
            "_view_module_version": "1.2.0",
            "_view_name": "StyleView",
            "bar_color": null,
            "description_width": ""
          }
        },
        "5957cdd9d76f4549b588ae845bab32b0": {
          "model_module": "@jupyter-widgets/base",
          "model_name": "LayoutModel",
          "model_module_version": "1.2.0",
          "state": {
            "_model_module": "@jupyter-widgets/base",
            "_model_module_version": "1.2.0",
            "_model_name": "LayoutModel",
            "_view_count": null,
            "_view_module": "@jupyter-widgets/base",
            "_view_module_version": "1.2.0",
            "_view_name": "LayoutView",
            "align_content": null,
            "align_items": null,
            "align_self": null,
            "border": null,
            "bottom": null,
            "display": null,
            "flex": null,
            "flex_flow": null,
            "grid_area": null,
            "grid_auto_columns": null,
            "grid_auto_flow": null,
            "grid_auto_rows": null,
            "grid_column": null,
            "grid_gap": null,
            "grid_row": null,
            "grid_template_areas": null,
            "grid_template_columns": null,
            "grid_template_rows": null,
            "height": null,
            "justify_content": null,
            "justify_items": null,
            "left": null,
            "margin": null,
            "max_height": null,
            "max_width": null,
            "min_height": null,
            "min_width": null,
            "object_fit": null,
            "object_position": null,
            "order": null,
            "overflow": null,
            "overflow_x": null,
            "overflow_y": null,
            "padding": null,
            "right": null,
            "top": null,
            "visibility": null,
            "width": null
          }
        },
        "98cf9f6b9f934691930483687b23c12b": {
          "model_module": "@jupyter-widgets/controls",
          "model_name": "DescriptionStyleModel",
          "model_module_version": "1.5.0",
          "state": {
            "_model_module": "@jupyter-widgets/controls",
            "_model_module_version": "1.5.0",
            "_model_name": "DescriptionStyleModel",
            "_view_count": null,
            "_view_module": "@jupyter-widgets/base",
            "_view_module_version": "1.2.0",
            "_view_name": "StyleView",
            "description_width": ""
          }
        },
        "8e2f5d0ec5064afc96eb1adfe1ad6547": {
          "model_module": "@jupyter-widgets/controls",
          "model_name": "HBoxModel",
          "model_module_version": "1.5.0",
          "state": {
            "_dom_classes": [],
            "_model_module": "@jupyter-widgets/controls",
            "_model_module_version": "1.5.0",
            "_model_name": "HBoxModel",
            "_view_count": null,
            "_view_module": "@jupyter-widgets/controls",
            "_view_module_version": "1.5.0",
            "_view_name": "HBoxView",
            "box_style": "",
            "children": [
              "IPY_MODEL_1834034fb01e4e7f90f427f6852d79b2",
              "IPY_MODEL_843d77ed424c4d0b81c086668c4989ad",
              "IPY_MODEL_2107dc7c4d214d2b88ee60e3f4df2f74"
            ],
            "layout": "IPY_MODEL_29d0923675f549888c0e318c85b54dd6"
          }
        },
        "1834034fb01e4e7f90f427f6852d79b2": {
          "model_module": "@jupyter-widgets/controls",
          "model_name": "HTMLModel",
          "model_module_version": "1.5.0",
          "state": {
            "_dom_classes": [],
            "_model_module": "@jupyter-widgets/controls",
            "_model_module_version": "1.5.0",
            "_model_name": "HTMLModel",
            "_view_count": null,
            "_view_module": "@jupyter-widgets/controls",
            "_view_module_version": "1.5.0",
            "_view_name": "HTMLView",
            "description": "",
            "description_tooltip": null,
            "layout": "IPY_MODEL_48e7e61ec56a422ba03bf5603049bae7",
            "placeholder": "​",
            "style": "IPY_MODEL_09bb4b5b1b1a431eadbb8309b5690ef9",
            "value": "Downloading (…)/main/tokenizer.json: 100%"
          }
        },
        "843d77ed424c4d0b81c086668c4989ad": {
          "model_module": "@jupyter-widgets/controls",
          "model_name": "FloatProgressModel",
          "model_module_version": "1.5.0",
          "state": {
            "_dom_classes": [],
            "_model_module": "@jupyter-widgets/controls",
            "_model_module_version": "1.5.0",
            "_model_name": "FloatProgressModel",
            "_view_count": null,
            "_view_module": "@jupyter-widgets/controls",
            "_view_module_version": "1.5.0",
            "_view_name": "ProgressView",
            "bar_style": "success",
            "description": "",
            "description_tooltip": null,
            "layout": "IPY_MODEL_15d1ebe64b6e4e09b2a06e5bacf9b0a9",
            "max": 466062,
            "min": 0,
            "orientation": "horizontal",
            "style": "IPY_MODEL_6097f1b79ef84143afa357927a3d11b9",
            "value": 466062
          }
        },
        "2107dc7c4d214d2b88ee60e3f4df2f74": {
          "model_module": "@jupyter-widgets/controls",
          "model_name": "HTMLModel",
          "model_module_version": "1.5.0",
          "state": {
            "_dom_classes": [],
            "_model_module": "@jupyter-widgets/controls",
            "_model_module_version": "1.5.0",
            "_model_name": "HTMLModel",
            "_view_count": null,
            "_view_module": "@jupyter-widgets/controls",
            "_view_module_version": "1.5.0",
            "_view_name": "HTMLView",
            "description": "",
            "description_tooltip": null,
            "layout": "IPY_MODEL_08b6fa87ad1e46ccb69aa6187895f1a4",
            "placeholder": "​",
            "style": "IPY_MODEL_9ab39d77a82e4c86a2e6a05f6e0cc030",
            "value": " 466k/466k [00:00&lt;00:00, 5.70MB/s]"
          }
        },
        "29d0923675f549888c0e318c85b54dd6": {
          "model_module": "@jupyter-widgets/base",
          "model_name": "LayoutModel",
          "model_module_version": "1.2.0",
          "state": {
            "_model_module": "@jupyter-widgets/base",
            "_model_module_version": "1.2.0",
            "_model_name": "LayoutModel",
            "_view_count": null,
            "_view_module": "@jupyter-widgets/base",
            "_view_module_version": "1.2.0",
            "_view_name": "LayoutView",
            "align_content": null,
            "align_items": null,
            "align_self": null,
            "border": null,
            "bottom": null,
            "display": null,
            "flex": null,
            "flex_flow": null,
            "grid_area": null,
            "grid_auto_columns": null,
            "grid_auto_flow": null,
            "grid_auto_rows": null,
            "grid_column": null,
            "grid_gap": null,
            "grid_row": null,
            "grid_template_areas": null,
            "grid_template_columns": null,
            "grid_template_rows": null,
            "height": null,
            "justify_content": null,
            "justify_items": null,
            "left": null,
            "margin": null,
            "max_height": null,
            "max_width": null,
            "min_height": null,
            "min_width": null,
            "object_fit": null,
            "object_position": null,
            "order": null,
            "overflow": null,
            "overflow_x": null,
            "overflow_y": null,
            "padding": null,
            "right": null,
            "top": null,
            "visibility": null,
            "width": null
          }
        },
        "48e7e61ec56a422ba03bf5603049bae7": {
          "model_module": "@jupyter-widgets/base",
          "model_name": "LayoutModel",
          "model_module_version": "1.2.0",
          "state": {
            "_model_module": "@jupyter-widgets/base",
            "_model_module_version": "1.2.0",
            "_model_name": "LayoutModel",
            "_view_count": null,
            "_view_module": "@jupyter-widgets/base",
            "_view_module_version": "1.2.0",
            "_view_name": "LayoutView",
            "align_content": null,
            "align_items": null,
            "align_self": null,
            "border": null,
            "bottom": null,
            "display": null,
            "flex": null,
            "flex_flow": null,
            "grid_area": null,
            "grid_auto_columns": null,
            "grid_auto_flow": null,
            "grid_auto_rows": null,
            "grid_column": null,
            "grid_gap": null,
            "grid_row": null,
            "grid_template_areas": null,
            "grid_template_columns": null,
            "grid_template_rows": null,
            "height": null,
            "justify_content": null,
            "justify_items": null,
            "left": null,
            "margin": null,
            "max_height": null,
            "max_width": null,
            "min_height": null,
            "min_width": null,
            "object_fit": null,
            "object_position": null,
            "order": null,
            "overflow": null,
            "overflow_x": null,
            "overflow_y": null,
            "padding": null,
            "right": null,
            "top": null,
            "visibility": null,
            "width": null
          }
        },
        "09bb4b5b1b1a431eadbb8309b5690ef9": {
          "model_module": "@jupyter-widgets/controls",
          "model_name": "DescriptionStyleModel",
          "model_module_version": "1.5.0",
          "state": {
            "_model_module": "@jupyter-widgets/controls",
            "_model_module_version": "1.5.0",
            "_model_name": "DescriptionStyleModel",
            "_view_count": null,
            "_view_module": "@jupyter-widgets/base",
            "_view_module_version": "1.2.0",
            "_view_name": "StyleView",
            "description_width": ""
          }
        },
        "15d1ebe64b6e4e09b2a06e5bacf9b0a9": {
          "model_module": "@jupyter-widgets/base",
          "model_name": "LayoutModel",
          "model_module_version": "1.2.0",
          "state": {
            "_model_module": "@jupyter-widgets/base",
            "_model_module_version": "1.2.0",
            "_model_name": "LayoutModel",
            "_view_count": null,
            "_view_module": "@jupyter-widgets/base",
            "_view_module_version": "1.2.0",
            "_view_name": "LayoutView",
            "align_content": null,
            "align_items": null,
            "align_self": null,
            "border": null,
            "bottom": null,
            "display": null,
            "flex": null,
            "flex_flow": null,
            "grid_area": null,
            "grid_auto_columns": null,
            "grid_auto_flow": null,
            "grid_auto_rows": null,
            "grid_column": null,
            "grid_gap": null,
            "grid_row": null,
            "grid_template_areas": null,
            "grid_template_columns": null,
            "grid_template_rows": null,
            "height": null,
            "justify_content": null,
            "justify_items": null,
            "left": null,
            "margin": null,
            "max_height": null,
            "max_width": null,
            "min_height": null,
            "min_width": null,
            "object_fit": null,
            "object_position": null,
            "order": null,
            "overflow": null,
            "overflow_x": null,
            "overflow_y": null,
            "padding": null,
            "right": null,
            "top": null,
            "visibility": null,
            "width": null
          }
        },
        "6097f1b79ef84143afa357927a3d11b9": {
          "model_module": "@jupyter-widgets/controls",
          "model_name": "ProgressStyleModel",
          "model_module_version": "1.5.0",
          "state": {
            "_model_module": "@jupyter-widgets/controls",
            "_model_module_version": "1.5.0",
            "_model_name": "ProgressStyleModel",
            "_view_count": null,
            "_view_module": "@jupyter-widgets/base",
            "_view_module_version": "1.2.0",
            "_view_name": "StyleView",
            "bar_color": null,
            "description_width": ""
          }
        },
        "08b6fa87ad1e46ccb69aa6187895f1a4": {
          "model_module": "@jupyter-widgets/base",
          "model_name": "LayoutModel",
          "model_module_version": "1.2.0",
          "state": {
            "_model_module": "@jupyter-widgets/base",
            "_model_module_version": "1.2.0",
            "_model_name": "LayoutModel",
            "_view_count": null,
            "_view_module": "@jupyter-widgets/base",
            "_view_module_version": "1.2.0",
            "_view_name": "LayoutView",
            "align_content": null,
            "align_items": null,
            "align_self": null,
            "border": null,
            "bottom": null,
            "display": null,
            "flex": null,
            "flex_flow": null,
            "grid_area": null,
            "grid_auto_columns": null,
            "grid_auto_flow": null,
            "grid_auto_rows": null,
            "grid_column": null,
            "grid_gap": null,
            "grid_row": null,
            "grid_template_areas": null,
            "grid_template_columns": null,
            "grid_template_rows": null,
            "height": null,
            "justify_content": null,
            "justify_items": null,
            "left": null,
            "margin": null,
            "max_height": null,
            "max_width": null,
            "min_height": null,
            "min_width": null,
            "object_fit": null,
            "object_position": null,
            "order": null,
            "overflow": null,
            "overflow_x": null,
            "overflow_y": null,
            "padding": null,
            "right": null,
            "top": null,
            "visibility": null,
            "width": null
          }
        },
        "9ab39d77a82e4c86a2e6a05f6e0cc030": {
          "model_module": "@jupyter-widgets/controls",
          "model_name": "DescriptionStyleModel",
          "model_module_version": "1.5.0",
          "state": {
            "_model_module": "@jupyter-widgets/controls",
            "_model_module_version": "1.5.0",
            "_model_name": "DescriptionStyleModel",
            "_view_count": null,
            "_view_module": "@jupyter-widgets/base",
            "_view_module_version": "1.2.0",
            "_view_name": "StyleView",
            "description_width": ""
          }
        },
        "8d067d3747824887a3e6602e889e7cf9": {
          "model_module": "@jupyter-widgets/controls",
          "model_name": "HBoxModel",
          "model_module_version": "1.5.0",
          "state": {
            "_dom_classes": [],
            "_model_module": "@jupyter-widgets/controls",
            "_model_module_version": "1.5.0",
            "_model_name": "HBoxModel",
            "_view_count": null,
            "_view_module": "@jupyter-widgets/controls",
            "_view_module_version": "1.5.0",
            "_view_name": "HBoxView",
            "box_style": "",
            "children": [
              "IPY_MODEL_a5fc2cd7aac94b5a838045f73129e2fe",
              "IPY_MODEL_6ad9ed89434c4a23b266248ffaf173c8",
              "IPY_MODEL_99b612b3262e42fda9ec9ef4fbed48bd"
            ],
            "layout": "IPY_MODEL_ed1adc30de854806a544824b8d653254"
          }
        },
        "a5fc2cd7aac94b5a838045f73129e2fe": {
          "model_module": "@jupyter-widgets/controls",
          "model_name": "HTMLModel",
          "model_module_version": "1.5.0",
          "state": {
            "_dom_classes": [],
            "_model_module": "@jupyter-widgets/controls",
            "_model_module_version": "1.5.0",
            "_model_name": "HTMLModel",
            "_view_count": null,
            "_view_module": "@jupyter-widgets/controls",
            "_view_module_version": "1.5.0",
            "_view_name": "HTMLView",
            "description": "",
            "description_tooltip": null,
            "layout": "IPY_MODEL_fc9bf5d668ab43258b9690e937bdcb6c",
            "placeholder": "​",
            "style": "IPY_MODEL_1c87150a6e964e4a8ff2e42ed85e8a91",
            "value": "Downloading (…)lve/main/config.json: 100%"
          }
        },
        "6ad9ed89434c4a23b266248ffaf173c8": {
          "model_module": "@jupyter-widgets/controls",
          "model_name": "FloatProgressModel",
          "model_module_version": "1.5.0",
          "state": {
            "_dom_classes": [],
            "_model_module": "@jupyter-widgets/controls",
            "_model_module_version": "1.5.0",
            "_model_name": "FloatProgressModel",
            "_view_count": null,
            "_view_module": "@jupyter-widgets/controls",
            "_view_module_version": "1.5.0",
            "_view_name": "ProgressView",
            "bar_style": "success",
            "description": "",
            "description_tooltip": null,
            "layout": "IPY_MODEL_3b37365b8b66458fa17c98342c3154ac",
            "max": 570,
            "min": 0,
            "orientation": "horizontal",
            "style": "IPY_MODEL_abd50f57a9ad4d78a89dbfcdfdc48a4e",
            "value": 570
          }
        },
        "99b612b3262e42fda9ec9ef4fbed48bd": {
          "model_module": "@jupyter-widgets/controls",
          "model_name": "HTMLModel",
          "model_module_version": "1.5.0",
          "state": {
            "_dom_classes": [],
            "_model_module": "@jupyter-widgets/controls",
            "_model_module_version": "1.5.0",
            "_model_name": "HTMLModel",
            "_view_count": null,
            "_view_module": "@jupyter-widgets/controls",
            "_view_module_version": "1.5.0",
            "_view_name": "HTMLView",
            "description": "",
            "description_tooltip": null,
            "layout": "IPY_MODEL_a4db96a4622041669b991d781d25f1ab",
            "placeholder": "​",
            "style": "IPY_MODEL_f2800d593ec740c492f2decd81542cf0",
            "value": " 570/570 [00:00&lt;00:00, 23.5kB/s]"
          }
        },
        "ed1adc30de854806a544824b8d653254": {
          "model_module": "@jupyter-widgets/base",
          "model_name": "LayoutModel",
          "model_module_version": "1.2.0",
          "state": {
            "_model_module": "@jupyter-widgets/base",
            "_model_module_version": "1.2.0",
            "_model_name": "LayoutModel",
            "_view_count": null,
            "_view_module": "@jupyter-widgets/base",
            "_view_module_version": "1.2.0",
            "_view_name": "LayoutView",
            "align_content": null,
            "align_items": null,
            "align_self": null,
            "border": null,
            "bottom": null,
            "display": null,
            "flex": null,
            "flex_flow": null,
            "grid_area": null,
            "grid_auto_columns": null,
            "grid_auto_flow": null,
            "grid_auto_rows": null,
            "grid_column": null,
            "grid_gap": null,
            "grid_row": null,
            "grid_template_areas": null,
            "grid_template_columns": null,
            "grid_template_rows": null,
            "height": null,
            "justify_content": null,
            "justify_items": null,
            "left": null,
            "margin": null,
            "max_height": null,
            "max_width": null,
            "min_height": null,
            "min_width": null,
            "object_fit": null,
            "object_position": null,
            "order": null,
            "overflow": null,
            "overflow_x": null,
            "overflow_y": null,
            "padding": null,
            "right": null,
            "top": null,
            "visibility": null,
            "width": null
          }
        },
        "fc9bf5d668ab43258b9690e937bdcb6c": {
          "model_module": "@jupyter-widgets/base",
          "model_name": "LayoutModel",
          "model_module_version": "1.2.0",
          "state": {
            "_model_module": "@jupyter-widgets/base",
            "_model_module_version": "1.2.0",
            "_model_name": "LayoutModel",
            "_view_count": null,
            "_view_module": "@jupyter-widgets/base",
            "_view_module_version": "1.2.0",
            "_view_name": "LayoutView",
            "align_content": null,
            "align_items": null,
            "align_self": null,
            "border": null,
            "bottom": null,
            "display": null,
            "flex": null,
            "flex_flow": null,
            "grid_area": null,
            "grid_auto_columns": null,
            "grid_auto_flow": null,
            "grid_auto_rows": null,
            "grid_column": null,
            "grid_gap": null,
            "grid_row": null,
            "grid_template_areas": null,
            "grid_template_columns": null,
            "grid_template_rows": null,
            "height": null,
            "justify_content": null,
            "justify_items": null,
            "left": null,
            "margin": null,
            "max_height": null,
            "max_width": null,
            "min_height": null,
            "min_width": null,
            "object_fit": null,
            "object_position": null,
            "order": null,
            "overflow": null,
            "overflow_x": null,
            "overflow_y": null,
            "padding": null,
            "right": null,
            "top": null,
            "visibility": null,
            "width": null
          }
        },
        "1c87150a6e964e4a8ff2e42ed85e8a91": {
          "model_module": "@jupyter-widgets/controls",
          "model_name": "DescriptionStyleModel",
          "model_module_version": "1.5.0",
          "state": {
            "_model_module": "@jupyter-widgets/controls",
            "_model_module_version": "1.5.0",
            "_model_name": "DescriptionStyleModel",
            "_view_count": null,
            "_view_module": "@jupyter-widgets/base",
            "_view_module_version": "1.2.0",
            "_view_name": "StyleView",
            "description_width": ""
          }
        },
        "3b37365b8b66458fa17c98342c3154ac": {
          "model_module": "@jupyter-widgets/base",
          "model_name": "LayoutModel",
          "model_module_version": "1.2.0",
          "state": {
            "_model_module": "@jupyter-widgets/base",
            "_model_module_version": "1.2.0",
            "_model_name": "LayoutModel",
            "_view_count": null,
            "_view_module": "@jupyter-widgets/base",
            "_view_module_version": "1.2.0",
            "_view_name": "LayoutView",
            "align_content": null,
            "align_items": null,
            "align_self": null,
            "border": null,
            "bottom": null,
            "display": null,
            "flex": null,
            "flex_flow": null,
            "grid_area": null,
            "grid_auto_columns": null,
            "grid_auto_flow": null,
            "grid_auto_rows": null,
            "grid_column": null,
            "grid_gap": null,
            "grid_row": null,
            "grid_template_areas": null,
            "grid_template_columns": null,
            "grid_template_rows": null,
            "height": null,
            "justify_content": null,
            "justify_items": null,
            "left": null,
            "margin": null,
            "max_height": null,
            "max_width": null,
            "min_height": null,
            "min_width": null,
            "object_fit": null,
            "object_position": null,
            "order": null,
            "overflow": null,
            "overflow_x": null,
            "overflow_y": null,
            "padding": null,
            "right": null,
            "top": null,
            "visibility": null,
            "width": null
          }
        },
        "abd50f57a9ad4d78a89dbfcdfdc48a4e": {
          "model_module": "@jupyter-widgets/controls",
          "model_name": "ProgressStyleModel",
          "model_module_version": "1.5.0",
          "state": {
            "_model_module": "@jupyter-widgets/controls",
            "_model_module_version": "1.5.0",
            "_model_name": "ProgressStyleModel",
            "_view_count": null,
            "_view_module": "@jupyter-widgets/base",
            "_view_module_version": "1.2.0",
            "_view_name": "StyleView",
            "bar_color": null,
            "description_width": ""
          }
        },
        "a4db96a4622041669b991d781d25f1ab": {
          "model_module": "@jupyter-widgets/base",
          "model_name": "LayoutModel",
          "model_module_version": "1.2.0",
          "state": {
            "_model_module": "@jupyter-widgets/base",
            "_model_module_version": "1.2.0",
            "_model_name": "LayoutModel",
            "_view_count": null,
            "_view_module": "@jupyter-widgets/base",
            "_view_module_version": "1.2.0",
            "_view_name": "LayoutView",
            "align_content": null,
            "align_items": null,
            "align_self": null,
            "border": null,
            "bottom": null,
            "display": null,
            "flex": null,
            "flex_flow": null,
            "grid_area": null,
            "grid_auto_columns": null,
            "grid_auto_flow": null,
            "grid_auto_rows": null,
            "grid_column": null,
            "grid_gap": null,
            "grid_row": null,
            "grid_template_areas": null,
            "grid_template_columns": null,
            "grid_template_rows": null,
            "height": null,
            "justify_content": null,
            "justify_items": null,
            "left": null,
            "margin": null,
            "max_height": null,
            "max_width": null,
            "min_height": null,
            "min_width": null,
            "object_fit": null,
            "object_position": null,
            "order": null,
            "overflow": null,
            "overflow_x": null,
            "overflow_y": null,
            "padding": null,
            "right": null,
            "top": null,
            "visibility": null,
            "width": null
          }
        },
        "f2800d593ec740c492f2decd81542cf0": {
          "model_module": "@jupyter-widgets/controls",
          "model_name": "DescriptionStyleModel",
          "model_module_version": "1.5.0",
          "state": {
            "_model_module": "@jupyter-widgets/controls",
            "_model_module_version": "1.5.0",
            "_model_name": "DescriptionStyleModel",
            "_view_count": null,
            "_view_module": "@jupyter-widgets/base",
            "_view_module_version": "1.2.0",
            "_view_name": "StyleView",
            "description_width": ""
          }
        }
      }
    }
  },
  "cells": [
    {
      "cell_type": "markdown",
      "metadata": {
        "id": "view-in-github",
        "colab_type": "text"
      },
      "source": [
        "<a href=\"https://colab.research.google.com/github/amhaiskar0921/AmazonProject/blob/main/main_clean.ipynb\" target=\"_parent\"><img src=\"https://colab.research.google.com/assets/colab-badge.svg\" alt=\"Open In Colab\"/></a>"
      ]
    },
    {
      "cell_type": "code",
      "source": [
        "from google.colab import drive\n",
        "drive.mount('/content/drive')\n",
        "\n",
        "import pyarrow.parquet as pq\n",
        "import pandas as pd\n",
        "import numpy as np\n",
        "\n",
        "# For data visualization\n",
        "import seaborn as sns"
      ],
      "metadata": {
        "colab": {
          "base_uri": "https://localhost:8080/"
        },
        "id": "rjr3CeYeRMJv",
        "outputId": "a61f3019-2861-48c7-8b35-3dd47eb46d73"
      },
      "execution_count": null,
      "outputs": [
        {
          "output_type": "stream",
          "name": "stdout",
          "text": [
            "Drive already mounted at /content/drive; to attempt to forcibly remount, call drive.mount(\"/content/drive\", force_remount=True).\n"
          ]
        }
      ]
    },
    {
      "cell_type": "code",
      "source": [
        "np.random.seed(42)\n",
        "\n",
        "sample_size = 10000\n",
        "\n",
        "shopping_data = pq.read_table('/content/drive/MyDrive/Amazon (LA) - Multi-Class Product Classification (Team A)/Datasets/shopping_queries_dataset_examples.parquet')\n",
        "df = shopping_data.to_pandas().sample(n=sample_size, random_state=42)\n",
        "shopping_data_p = pq.read_table('/content/drive/MyDrive/Amazon (LA) - Multi-Class Product Classification (Team A)/Datasets/shopping_queries_dataset_products.parquet')\n",
        "df_p = shopping_data_p.to_pandas().sample(n=sample_size, random_state=42)\n",
        "df_p = df_p.drop(columns=['product_locale']) #this is a duplicate from shopping_data\n",
        "\n",
        "# merging\n",
        "df_merged = pd.merge(df, df_p, on='product_id', how='inner')\n",
        "print(f\"number of products {len(pd.unique(df_merged['product_id']))}\")\n",
        "df_merged_no_null = df_merged.fillna(\"\")\n",
        "missing_values = df_merged_no_null.isnull().sum()\n",
        "print(len(df_merged_no_null))"
      ],
      "metadata": {
        "id": "5ihO4pr28J5Z",
        "outputId": "ae65e959-c9a2-43e7-d696-0e0a506efdd3",
        "colab": {
          "base_uri": "https://localhost:8080/"
        }
      },
      "execution_count": null,
      "outputs": [
        {
          "output_type": "stream",
          "name": "stdout",
          "text": [
            "number of products 5319\n",
            "5548\n"
          ]
        }
      ]
    },
    {
      "cell_type": "code",
      "source": [
        "# Class imbalance exists:\n",
        "class_counts = df_merged['esci_label'].value_counts()\n",
        "print(class_counts)\n",
        "\n",
        "# We will use the Micro averaging F1 Score, because the four classes are unbalanced:\n",
        "# 65.17% Exacts, 21.91% Substitutes, 2.89% Complements and 10.04% Irrelevants; and this metric\n",
        "# is robust enough for this situation."
      ],
      "metadata": {
        "id": "Nm6z1FzrTeU2",
        "outputId": "5d8e5306-69b3-4ff2-b1c3-02ef40f3c8ad",
        "colab": {
          "base_uri": "https://localhost:8080/"
        }
      },
      "execution_count": null,
      "outputs": [
        {
          "output_type": "stream",
          "name": "stdout",
          "text": [
            "E    3606\n",
            "S    1226\n",
            "I     569\n",
            "C     147\n",
            "Name: esci_label, dtype: int64\n"
          ]
        }
      ]
    },
    {
      "cell_type": "code",
      "source": [
        "# concat dat\n",
        "!pip install transformers\n",
        "import torch\n",
        "import transformers\n",
        "from torch.utils.data import DataLoader, Dataset\n",
        "from transformers import AutoTokenizer, AutoModel\n",
        "from transformers import BertTokenizer, BertModel, AdamW, get_linear_schedule_with_warmup, AutoModelForSequenceClassification\n",
        "from sklearn.model_selection import train_test_split\n",
        "from sklearn.metrics import accuracy_score, classification_report\n",
        "import pandas as pd"
      ],
      "metadata": {
        "id": "5OVuXpmF0nmY",
        "outputId": "458f9fdc-446a-4457-bca8-48cfd6c8df37",
        "colab": {
          "base_uri": "https://localhost:8080/"
        }
      },
      "execution_count": null,
      "outputs": [
        {
          "output_type": "stream",
          "name": "stdout",
          "text": [
            "Collecting transformers\n",
            "  Downloading transformers-4.35.0-py3-none-any.whl (7.9 MB)\n",
            "\u001b[2K     \u001b[90m━━━━━━━━━━━━━━━━━━━━━━━━━━━━━━━━━━━━━━━━\u001b[0m \u001b[32m7.9/7.9 MB\u001b[0m \u001b[31m45.8 MB/s\u001b[0m eta \u001b[36m0:00:00\u001b[0m\n",
            "\u001b[?25hRequirement already satisfied: filelock in /usr/local/lib/python3.10/dist-packages (from transformers) (3.12.4)\n",
            "Collecting huggingface-hub<1.0,>=0.16.4 (from transformers)\n",
            "  Downloading huggingface_hub-0.18.0-py3-none-any.whl (301 kB)\n",
            "\u001b[2K     \u001b[90m━━━━━━━━━━━━━━━━━━━━━━━━━━━━━━━━━━━━━━━━\u001b[0m \u001b[32m302.0/302.0 kB\u001b[0m \u001b[31m29.9 MB/s\u001b[0m eta \u001b[36m0:00:00\u001b[0m\n",
            "\u001b[?25hRequirement already satisfied: numpy>=1.17 in /usr/local/lib/python3.10/dist-packages (from transformers) (1.23.5)\n",
            "Requirement already satisfied: packaging>=20.0 in /usr/local/lib/python3.10/dist-packages (from transformers) (23.2)\n",
            "Requirement already satisfied: pyyaml>=5.1 in /usr/local/lib/python3.10/dist-packages (from transformers) (6.0.1)\n",
            "Requirement already satisfied: regex!=2019.12.17 in /usr/local/lib/python3.10/dist-packages (from transformers) (2023.6.3)\n",
            "Requirement already satisfied: requests in /usr/local/lib/python3.10/dist-packages (from transformers) (2.31.0)\n",
            "Collecting tokenizers<0.15,>=0.14 (from transformers)\n",
            "  Downloading tokenizers-0.14.1-cp310-cp310-manylinux_2_17_x86_64.manylinux2014_x86_64.whl (3.8 MB)\n",
            "\u001b[2K     \u001b[90m━━━━━━━━━━━━━━━━━━━━━━━━━━━━━━━━━━━━━━━━\u001b[0m \u001b[32m3.8/3.8 MB\u001b[0m \u001b[31m93.0 MB/s\u001b[0m eta \u001b[36m0:00:00\u001b[0m\n",
            "\u001b[?25hCollecting safetensors>=0.3.1 (from transformers)\n",
            "  Downloading safetensors-0.4.0-cp310-cp310-manylinux_2_17_x86_64.manylinux2014_x86_64.whl (1.3 MB)\n",
            "\u001b[2K     \u001b[90m━━━━━━━━━━━━━━━━━━━━━━━━━━━━━━━━━━━━━━━━\u001b[0m \u001b[32m1.3/1.3 MB\u001b[0m \u001b[31m70.5 MB/s\u001b[0m eta \u001b[36m0:00:00\u001b[0m\n",
            "\u001b[?25hRequirement already satisfied: tqdm>=4.27 in /usr/local/lib/python3.10/dist-packages (from transformers) (4.66.1)\n",
            "Requirement already satisfied: fsspec>=2023.5.0 in /usr/local/lib/python3.10/dist-packages (from huggingface-hub<1.0,>=0.16.4->transformers) (2023.6.0)\n",
            "Requirement already satisfied: typing-extensions>=3.7.4.3 in /usr/local/lib/python3.10/dist-packages (from huggingface-hub<1.0,>=0.16.4->transformers) (4.5.0)\n",
            "Collecting huggingface-hub<1.0,>=0.16.4 (from transformers)\n",
            "  Downloading huggingface_hub-0.17.3-py3-none-any.whl (295 kB)\n",
            "\u001b[2K     \u001b[90m━━━━━━━━━━━━━━━━━━━━━━━━━━━━━━━━━━━━━━━━\u001b[0m \u001b[32m295.0/295.0 kB\u001b[0m \u001b[31m32.7 MB/s\u001b[0m eta \u001b[36m0:00:00\u001b[0m\n",
            "\u001b[?25hRequirement already satisfied: charset-normalizer<4,>=2 in /usr/local/lib/python3.10/dist-packages (from requests->transformers) (3.3.1)\n",
            "Requirement already satisfied: idna<4,>=2.5 in /usr/local/lib/python3.10/dist-packages (from requests->transformers) (3.4)\n",
            "Requirement already satisfied: urllib3<3,>=1.21.1 in /usr/local/lib/python3.10/dist-packages (from requests->transformers) (2.0.7)\n",
            "Requirement already satisfied: certifi>=2017.4.17 in /usr/local/lib/python3.10/dist-packages (from requests->transformers) (2023.7.22)\n",
            "Installing collected packages: safetensors, huggingface-hub, tokenizers, transformers\n",
            "Successfully installed huggingface-hub-0.17.3 safetensors-0.4.0 tokenizers-0.14.1 transformers-4.35.0\n"
          ]
        }
      ]
    },
    {
      "cell_type": "code",
      "source": [
        "import nltk\n",
        "nltk.download('stopwords')\n",
        "from nltk.corpus import stopwords"
      ],
      "metadata": {
        "id": "eJJi90Eh7lSt",
        "outputId": "b383224f-fa6d-4b83-8c6d-4f58aa2f6942",
        "colab": {
          "base_uri": "https://localhost:8080/"
        }
      },
      "execution_count": null,
      "outputs": [
        {
          "output_type": "stream",
          "name": "stderr",
          "text": [
            "[nltk_data] Downloading package stopwords to /root/nltk_data...\n",
            "[nltk_data]   Unzipping corpora/stopwords.zip.\n"
          ]
        }
      ]
    },
    {
      "cell_type": "code",
      "source": [
        "import urllib\n",
        "from urllib.request import urlopen\n",
        "\n",
        "# We looked at the repo with japanese stopwords, and they gave instructions to download it in the shell\n",
        "# in JavaScript.\n",
        "# We looked into how to do the same thing in Python, and came across this stack overflow post: https://stackoverflow.com/questions/72149806/exclude-japanese-stopwords-from-file\n",
        "# Following the code from there:\n",
        "def get_japanese_stopwords():\n",
        "  # print(\"in function\")\n",
        "  iso_path = \"https://raw.githubusercontent.com/stopwords-iso/stopwords-ja/master/stopwords-ja.txt\"\n",
        "  iso_file = urllib.request.urlopen(iso_path)\n",
        "  # print(iso_file)\n",
        "  stopwords = [line.decode(\"utf-8\").strip() for line in iso_file]\n",
        "\n",
        "  stopwords = [ss for ss in stopwords if not ss==u'']\n",
        "  stopwords = set(stopwords)\n",
        "  # print(len(stopwords))\n",
        "  return stopwords\n"
      ],
      "metadata": {
        "id": "QxBluDKwXJHt"
      },
      "execution_count": null,
      "outputs": []
    },
    {
      "cell_type": "code",
      "source": [
        "def get_all_stopwords():\n",
        "  stop_words_english = set(stopwords.words('english'))\n",
        "  stop_words_spanish = set(stopwords.words('spanish'))\n",
        "  stop_words_japanese = get_japanese_stopwords()\n",
        "  return stop_words_english, stop_words_spanish, stop_words_japanese\n",
        "\n",
        "# Add this code before tokenization\n",
        "def remove_stopwords(text, stop_words_english, stop_words_spanish, stop_words_japanese):\n",
        "    words = text.split()\n",
        "    filtered_words = [word for word in words if word.lower() not in stop_words_english and word.lower()\n",
        "    not in stop_words_spanish and word.lower() not in stop_words_japanese]\n",
        "    return ' '.join(filtered_words)"
      ],
      "metadata": {
        "id": "TOOPn7-X79VS"
      },
      "execution_count": null,
      "outputs": []
    },
    {
      "cell_type": "code",
      "source": [
        "# Initialize an empty list to store the modified input sequences\n",
        "input_sequences = []\n",
        "stop_words_english, stop_words_spanish, stop_words_japanese = get_all_stopwords()\n",
        "\n",
        "# Apply stopword removal to each element in the 'input_sequences' list using a for loop\n",
        "for text in df_merged_no_null.apply(lambda x: f\"[CLS] {x['query']} [SEP] {x['product_title']} [SEP] {x['product_description']} [SEP] {x['product_bullet_point']} [SEP] {x['product_color']} [SEP] {x['product_bullet_point']} [SEP]\", axis=1).tolist():\n",
        "# for text in df_merged_no_null.apply(lambda x: f\"[CLS] {x['product_title']} [SEP] {x['product_description']} [SEP] {x['product_bullet_point']} [SEP]\", axis=1).tolist():\n",
        "    cleaned_text = remove_stopwords(text, stop_words_english, stop_words_spanish, stop_words_japanese)\n",
        "    input_sequences.append(cleaned_text)\n",
        "print(input_sequences[0], len(input_sequences))"
      ],
      "metadata": {
        "id": "Y5lZQZLd9d-K",
        "outputId": "752a352f-5ff3-4f46-f501-ccc044e11359",
        "colab": {
          "base_uri": "https://localhost:8080/"
        }
      },
      "execution_count": null,
      "outputs": [
        {
          "output_type": "stream",
          "name": "stdout",
          "text": [
            "[CLS] yunsey tinte amoniaco [SEP] LIGHT IRRIDIANCE OXIGENADA 20VOL 1000ML L.I, Negro, 1000mL-1L [SEP] [SEP] OXIGENADA 20VOL 1000ML L.I. [SEP] Negro [SEP] OXIGENADA 20VOL 1000ML L.I. [SEP] 5548\n"
          ]
        }
      ]
    },
    {
      "cell_type": "code",
      "source": [
        "# Load the BERT tokenizer\n",
        "tokenizer = BertTokenizer.from_pretrained(\"bert-base-uncased\")\n",
        "\n",
        "# Example text to tokenize\n",
        "# text = \"This is an example sentence.\"\n",
        "\n",
        "# Tokenize the text\n",
        "tokens = tokenizer(input_sequences, padding=True, truncation=True, return_tensors=\"pt\")\n",
        "\n",
        "# Convert tokenized text to PyTorch tensors\n",
        "input_ids = tokens['input_ids']\n",
        "attention_mask = tokens['attention_mask']"
      ],
      "metadata": {
        "id": "BkHJCLQk-kZk",
        "outputId": "4a3b0ba5-79a6-4a6d-c3a0-eb5004a5b4fa",
        "colab": {
          "base_uri": "https://localhost:8080/",
          "height": 145,
          "referenced_widgets": [
            "8ec6794fcf7746b287e83994290021f6",
            "a9a6f1916b8e4e8dba5c46d8a651e21d",
            "585abdb2b0e34318aa0dbd436fd0b6e2",
            "f9c4cd6dc9e547d18d71656bfd07991f",
            "577431c61acb4ce98a11ac5fc14376fe",
            "adae5e98f55d47f2b88ee0cdab59948c",
            "660f3b0e675144a88183cf7384be1d0a",
            "7ff5f89574e745fc902e389a39d45099",
            "94c3d20f49c84b08833337f5293efe81",
            "27f507c05dc24028a39b530e702a57f3",
            "552c9c24f1474caf9d3743ed19708148",
            "2f945c5d3dfe4736b45ff83ccd1a3d34",
            "75056adbfdc34ef8b866947cd653eba6",
            "b05cea82a51749da9bb44ec4369b0022",
            "ccdedd851a5140908683f533c54e22e1",
            "560b076e0efe422f85eb98d769999c89",
            "9cd5832610144fc3a643191a348722c3",
            "d5347ee5d04f46fb97bfbab47f0c03b5",
            "cf8c407e5ac140e687fdc6759ca0e422",
            "45c0d5121285446f93fcb2d0d1b33e2f",
            "5957cdd9d76f4549b588ae845bab32b0",
            "98cf9f6b9f934691930483687b23c12b",
            "8e2f5d0ec5064afc96eb1adfe1ad6547",
            "1834034fb01e4e7f90f427f6852d79b2",
            "843d77ed424c4d0b81c086668c4989ad",
            "2107dc7c4d214d2b88ee60e3f4df2f74",
            "29d0923675f549888c0e318c85b54dd6",
            "48e7e61ec56a422ba03bf5603049bae7",
            "09bb4b5b1b1a431eadbb8309b5690ef9",
            "15d1ebe64b6e4e09b2a06e5bacf9b0a9",
            "6097f1b79ef84143afa357927a3d11b9",
            "08b6fa87ad1e46ccb69aa6187895f1a4",
            "9ab39d77a82e4c86a2e6a05f6e0cc030",
            "8d067d3747824887a3e6602e889e7cf9",
            "a5fc2cd7aac94b5a838045f73129e2fe",
            "6ad9ed89434c4a23b266248ffaf173c8",
            "99b612b3262e42fda9ec9ef4fbed48bd",
            "ed1adc30de854806a544824b8d653254",
            "fc9bf5d668ab43258b9690e937bdcb6c",
            "1c87150a6e964e4a8ff2e42ed85e8a91",
            "3b37365b8b66458fa17c98342c3154ac",
            "abd50f57a9ad4d78a89dbfcdfdc48a4e",
            "a4db96a4622041669b991d781d25f1ab",
            "f2800d593ec740c492f2decd81542cf0"
          ]
        }
      },
      "execution_count": null,
      "outputs": [
        {
          "output_type": "display_data",
          "data": {
            "text/plain": [
              "Downloading (…)okenizer_config.json:   0%|          | 0.00/28.0 [00:00<?, ?B/s]"
            ],
            "application/vnd.jupyter.widget-view+json": {
              "version_major": 2,
              "version_minor": 0,
              "model_id": "8ec6794fcf7746b287e83994290021f6"
            }
          },
          "metadata": {}
        },
        {
          "output_type": "display_data",
          "data": {
            "text/plain": [
              "Downloading (…)solve/main/vocab.txt:   0%|          | 0.00/232k [00:00<?, ?B/s]"
            ],
            "application/vnd.jupyter.widget-view+json": {
              "version_major": 2,
              "version_minor": 0,
              "model_id": "2f945c5d3dfe4736b45ff83ccd1a3d34"
            }
          },
          "metadata": {}
        },
        {
          "output_type": "display_data",
          "data": {
            "text/plain": [
              "Downloading (…)/main/tokenizer.json:   0%|          | 0.00/466k [00:00<?, ?B/s]"
            ],
            "application/vnd.jupyter.widget-view+json": {
              "version_major": 2,
              "version_minor": 0,
              "model_id": "8e2f5d0ec5064afc96eb1adfe1ad6547"
            }
          },
          "metadata": {}
        },
        {
          "output_type": "display_data",
          "data": {
            "text/plain": [
              "Downloading (…)lve/main/config.json:   0%|          | 0.00/570 [00:00<?, ?B/s]"
            ],
            "application/vnd.jupyter.widget-view+json": {
              "version_major": 2,
              "version_minor": 0,
              "model_id": "8d067d3747824887a3e6602e889e7cf9"
            }
          },
          "metadata": {}
        }
      ]
    },
    {
      "cell_type": "code",
      "source": [
        "from nltk.tokenize import word_tokenize\n",
        "from nltk.stem import PorterStemmer\n",
        "nltk.download('punkt')\n",
        "\n",
        "stemmer = PorterStemmer()\n",
        "\n",
        "for i in range(len(input_sequences)):\n",
        "  words = word_tokenize(input_sequences[i])\n",
        "  words = [stemmer.stem(word) for word in words]\n",
        "  input_sequences[i] = ' '.join(words)\n",
        "\n",
        "print(input_sequences)"
      ],
      "metadata": {
        "id": "6UYzmqDcG9nY",
        "outputId": "cfa36f1a-9331-4006-d90b-cc5640997687",
        "colab": {
          "base_uri": "https://localhost:8080/"
        }
      },
      "execution_count": null,
      "outputs": [
        {
          "output_type": "stream",
          "name": "stderr",
          "text": [
            "[nltk_data] Downloading package punkt to /root/nltk_data...\n",
            "[nltk_data]   Package punkt is already up-to-date!\n"
          ]
        },
        {
          "output_type": "stream",
          "name": "stdout",
          "text": [
            "['[ cl ] yunsey tint amoniaco [ sep ] light irridi oxigenada 20vol 1000ml l.i , negro , 1000ml-1l [ sep ] [ sep ] oxigenada 20vol 1000ml l.i . [ sep ] negro [ sep ] oxigenada 20vol 1000ml l.i . [ sep ]', \"[ cl ] android phone [ sep ] tracfon carrier-lock samsung galaxi j7 crown 4g lte prepaid smartphon - black - 16gb - sim card includ - cdma ( renew ) [ sep ] [ sep ] 5.5 '' hd screen ; 1.56 ghz octa-cor processor ; android 8.0 oreo 4g lte ; wi-fi capabl ; bluetooth 4.2 wireless technolog ; mp3 player 13mp camera/13mp front face camera ; intern memori 16gb ; support micro sd memori card 400 gb ( not includ ) note : phone carrier lock ; custom must lock devic activ servic fewer 12 month , redeem air time card fewer 12 month , telephon number recycl ported.rear camera resolut : up 4160 x 3120 pixel unlimit talk , text data plan start low $ 20/month [ sep ] black [ sep ] 5.5 '' hd screen ; 1.56 ghz octa-cor processor ; android 8.0 oreo 4g lte ; wi-fi capabl ; bluetooth 4.2 wireless technolog ; mp3 player 13mp camera/13mp front face camera ; intern memori 16gb ; support micro sd memori card 400 gb ( not includ ) note : phone carrier lock ; custom must lock devic activ servic fewer 12 month , redeem air time card fewer 12 month , telephon number recycl ported.rear camera resolut : up 4160 x 3120 pixel unlimit talk , text data plan start low $ 20/month [ sep ]\", '[ cl ] 貝印 ターナー [ sep ] 貝印 kai 穴あき お玉 ブラック new ビート de-5614 [ sep ] [ sep ] サイズ:28×8.5×7cm 本体重量:85g 素材・材質 : 柄部/ポリプロピレン、金属部/ステンレススチール 原産国 : 日本 耐熱温度 : 柄部/110度 [ sep ] [ sep ] サイズ:28×8.5×7cm 本体重量:85g 素材・材質 : 柄部/ポリプロピレン、金属部/ステンレススチール 原産国 : 日本 耐熱温度 : 柄部/110度 [ sep ]', '[ cl ] nmax [ sep ] gener ヤマハnmax 155用 led付き オートバイ背面グリルガードカバー - 青い [ sep ] < p > < b > happi dayへようこそ！お客様に最高水準のカスタマーサービスを提供するために日々努力しております。 < /b > < /p > < br > < p > < b > 説明 : < /b > < /p > < p > - ヤマハnmax 155 2017-2019のledライトトリム付きオートバイリアグリルガードカバー < br > - プレミアムabsプラスチック製で、耐摩耗性があり、頑丈で耐久性があります。 < br > - 新品で高品質。取り付けと取り外しが簡単。 < br > - あなたのバイクにぴったりの装飾。 < br > < b > ヤマハnmax155 2017-2019に適合 < /b > < /p > < p > < b > 仕様 : < /b > < /p > < p > - 素材：absプラスチック < br > - 色：カーボンファイバー < br > - サイズ：約27x13cm / 10.6x5.1インチ < br > < /p > < p > < b > パッケージに含まれるもの : < /b > < /p > < p > 1ピースオートバイカーボンファイバーサイドグリルカバー < /p > < p > < b > 注意 : < /b > < /p > < p > * インストールツールはなく、指示も含まれていません。専門家によるインストールをお勧めします * < /p > < p > 示される絵とまったく同じアイテム。 < /p > [ sep ] 新品で高品質。取り付けと取り外しが簡単。 プレミアムabsプラスチック製で、耐摩耗性があり、頑丈で耐久性があります。 ヤマハnmax155 2017-2019に適合 ヤマハnmax 155 2017-2019のledライトトリム付きオートバイリアグリルガードカバー あなたのバイクにぴったりの装飾。 [ sep ] 青い [ sep ] 新品で高品質。取り付けと取り外しが簡単。 プレミアムabsプラスチック製で、耐摩耗性があり、頑丈で耐久性があります。 ヤマハnmax155 2017-2019に適合 ヤマハnmax 155 2017-2019のledライトトリム付きオートバイリアグリルガードカバー あなたのバイクにぴったりの装飾。 [ sep ]', '[ cl ] leopard clutch [ sep ] charm tailor leopard clutch bag women tassel foldov clutch faux sued dressi purs day even ( brown ) [ sep ] < p > < strong > whi charm tailor ? < /strong > we believ everi woman deserv eleg clutch purs make statement ! ! < /p > < p > charm tailor believ everi woman deserv better everi occas , even much better import moment life busi , like wed , engag , social activ . make-up , hair style , dress , shoe , necklac , clutch accessori , never choosi captur everi best moment . charm tailor offer chic clutch bag wish adorn glamor , realli love see best you ! < /p > < p > < /p > < p > < strong > specif : < /strong > < /p > < p > leopard print faux sued < /p > < p > zipper fold closur < /p > < p > tassel puller detail < /p > < p > 1 detach sturdi chain shoulder strap < /p > < p > 1 interior card slot < /p > < p > cotton line < /p > < p > hardwar : gold-ton hardwar < /p > < p > capac : enough space phone ( fit iphon 8 plu case ) , small portabl charger charg cord , wed card , key , small wallet small cosmet case. < /p > < p > occass : perfect day night occas , wed parti , engag parti , birthday parti , prom , ball , banquet , date formal casual activities. < /p > < p > < /p > < p > < strong > care & clean : < /strong > < /p > < p > thi leopard foldov clutch purs kept dri store cool place , clear soft cloth warm water . pleas notic humid high salt condit may caus metal part oxid rustiness. < /p > < p > < /p > < p > < strong > more charm tailor ( 100 % satisfact guarante ) : < /strong > < /p > < p > whi take quick visit charm tailor store ? might discov top-qual fanci clutch even bag you . guarante 100 % custom satisfact . detail , contact us amazon. < /p > < p > < /p > < p > declar : < strong > charm tailor < /strong > regist us trademark protect intellectu properti right laws. < /p > [ sep ] zipper foldov closur tassel puller 1 detach chain strap , drop 22 inch 1 interior slip pocket size : w11-3/4 x h7 x d1 inch ( w30 x h18 x d2.5 cm ) charm tailor foldov leopard-print clutch purs simpl yet stylish silhouett , swingi tassel lend boho-ch . hold hand , tuck arm , carri shoulder crossbodi , match vari outfit differ occas . [ sep ] brown [ sep ] zipper foldov closur tassel puller 1 detach chain strap , drop 22 inch 1 interior slip pocket size : w11-3/4 x h7 x d1 inch ( w30 x h18 x d2.5 cm ) charm tailor foldov leopard-print clutch purs simpl yet stylish silhouett , swingi tassel lend boho-ch . hold hand , tuck arm , carri shoulder crossbodi , match vari outfit differ occas . [ sep ]', '[ cl ] roca acuario natural [ sep ] nobbi stone - adorno acuario , 15,5 x 13 x 6 cm [ sep ] [ sep ] artículo decoración hecho poliresina ( resina sintética ) , realista detal absolutament tóxico , neutral equilibrio biológico adecuado agua dulc agua salada . [ sep ] [ sep ] artículo decoración hecho poliresina ( resina sintética ) , realista detal absolutament tóxico , neutral equilibrio biológico adecuado agua dulc agua salada . [ sep ]', '[ cl ] chocolov toffe [ sep ] chocolov toffe & almond pure milk 33 % cocoa [ sep ] discov chocolov premium belgian chocol bar . avail nine distinct flavor rang sweet , creami milk chocol 33 % cocoa content extra strong dark impress strong yet smooth 77 % cocoa content . cocoa [ sep ] [ sep ] [ sep ] [ sep ]', '[ cl ] eyeshow palett [ sep ] urban decay naked2 basic eyeshadow palett , 6 taup & brown matt neutral shade - ultra-blend , rich color velveti textur - makeup set includ mirror & full-siz pan - great travel [ sep ] naked2 basic complement naked2 perfectli . cooler tone origin , load indispens palett six taupe-hu matt neutral , includ five never-before-seen shade . shadow neutral enough anyon , cool skin tone oliv complexion darker skin . everi shade naked2 basic featur pigment infus system , proprietari blend ingredi give shade velveti textur , rich color , seriou stay power blend abil . mani brand ’ matt shadow tend chalki powderi , everi shade naked2 basic rich , butteri feel perfect applic . even includ one shade slight satin finish , skimp , that ’ s ideal highlight ad dimens . tip : use shade creat perfect neutral matt eye . then , day you ’ re crave color , pair favorit bolder shadow . [ sep ] look better nake - urban decay naked2 basic compact , travel-readi eyeshadow palett featur 6 neutral matt shade complement rang skin tone , cool oliv complexion deeper hue . high-pig shade - naked2 basic palett shade includ cruelty-fre skimp , stark , frisk , cover , primal , undon . back 2 basic - six ultra-versatil , taupe-hu nude , eyeshadow palett perfect creat simpl eye look base pigment color eyeshadow dramat eye look . pigment infus system - everi shade paraben-fre , sulfate-fre , phthalate-fre eye shadow palett featur proprietari ingredi blend suppli velveti textur , rich color , extrem blendabl . play well other - prep lid eyeshadow primer potion look last day fade creas . maxim color payoff mist eyeshadow brush nighter long-last makeup set spray appli . [ sep ] naked2 basic [ sep ] look better nake - urban decay naked2 basic compact , travel-readi eyeshadow palett featur 6 neutral matt shade complement rang skin tone , cool oliv complexion deeper hue . high-pig shade - naked2 basic palett shade includ cruelty-fre skimp , stark , frisk , cover , primal , undon . back 2 basic - six ultra-versatil , taupe-hu nude , eyeshadow palett perfect creat simpl eye look base pigment color eyeshadow dramat eye look . pigment infus system - everi shade paraben-fre , sulfate-fre , phthalate-fre eye shadow palett featur proprietari ingredi blend suppli velveti textur , rich color , extrem blendabl . play well other - prep lid eyeshadow primer potion look last day fade creas . maxim color payoff mist eyeshadow brush nighter long-last makeup set spray appli . [ sep ]', '[ cl ] dragon ball birthday candl [ sep ] 30 x edibl cupcak topper theme dragon ball z collect edibl cake decor | uncut edibl wafer sheet [ sep ] happi birthday cake topper specialti , took mission provid best birthday decor perfect happi birthday experi . cake topper cupcak decor made thought highest qualiti ingredi ensur that . know easi plan perfect celebr kept simpl you , need simpli cut edibl paper cupcak topper cake topper , appli edibl paper cupcak / cake ice enjoy special day ! [ sep ] ➤ easi use : decor cupcak happi birthday never easier ! simpli cut topper wafer paper . appli topper ice . enjoy birthday cake ! ➤ high qualiti imag : cupcak topper print high qualiti edibl paper ensur highest qualiti birthday cake decor special day ! ➤ ingredi : mission make sure love one celebr happi day best way possibl , product made entir edibl high qualiti materi provid best cake topper . ➤ shelf life : bulk shopper ? you ! cake topper shelf life 12 month long ! keep calm know abl use brand new birthday decor safe futur . ➤ 100 % satisfact warranti : buy confid know product thought made celebr love one happi birthday best possibl way . reason less 100 % satisfi product , refund entir purchas price . [ sep ] color [ sep ] ➤ easi use : decor cupcak happi birthday never easier ! simpli cut topper wafer paper . appli topper ice . enjoy birthday cake ! ➤ high qualiti imag : cupcak topper print high qualiti edibl paper ensur highest qualiti birthday cake decor special day ! ➤ ingredi : mission make sure love one celebr happi day best way possibl , product made entir edibl high qualiti materi provid best cake topper . ➤ shelf life : bulk shopper ? you ! cake topper shelf life 12 month long ! keep calm know abl use brand new birthday decor safe futur . ➤ 100 % satisfact warranti : buy confid know product thought made celebr love one happi birthday best possibl way . reason less 100 % satisfi product , refund entir purchas price . [ sep ]', '[ cl ] float glass shelf 10 inch wide [ sep ] 10 inch float shelf brackets,4 pack solid steel blind shelf support powder coat hidden shelf bracket spirit level hardwar home décor , storag , organ [ sep ] 1 [ sep ] load 100 lb : extend base , stabil bracket improv . load-bear weight increas 75 100 pound , suitabl famili need store materi . long life : everi sturdi steel bracket powder-co prevent rust corros . long-term use float shelf support . easi install-thes float shelf bracket mount wall without special skill . provid spirit level , screw , wall anchor , perfectli instal immedi go home confidence-our wall-mount invis shelf bracket support float shelv farmhous , bathroom , kitchen , studi room , offic , wherev decor , storag , organ requir dimensions-th rod 10 inch long 0.4 inch diamet . backplan 5.5 inch wide 0.98 inch high . support wooden shelv 10 14 inch deep least 2 inch thick . [ sep ] black [ sep ] load 100 lb : extend base , stabil bracket improv . load-bear weight increas 75 100 pound , suitabl famili need store materi . long life : everi sturdi steel bracket powder-co prevent rust corros . long-term use float shelf support . easi install-thes float shelf bracket mount wall without special skill . provid spirit level , screw , wall anchor , perfectli instal immedi go home confidence-our wall-mount invis shelf bracket support float shelv farmhous , bathroom , kitchen , studi room , offic , wherev decor , storag , organ requir dimensions-th rod 10 inch long 0.4 inch diamet . backplan 5.5 inch wide 0.98 inch high . support wooden shelv 10 14 inch deep least 2 inch thick . [ sep ]', \"[ cl ] blue bomber jacket , like h similar [ sep ] shaka wear men ’ s bomber jacket – classic pad relax fit water resist colleg basebal varsiti coat vbj13 royal 3xl [ sep ] < p > '' '' high qualiti premium product best price guarante ! ! '' '' < br / > 100 % premium cotton ( gray bodi - 90 % cotton/10 % polyest , charcoal bodi - 50 % cotton/50 % polyest ) . < /p > < p > basic t-shirt long consid underwear ; simpli someth wear “ real shirt. ” basic t-shirt shift consid underwear fashion statement late 90 earli 2000 , thank popular hip-hop artist , rapper , peopl start look higher qualiti blank disappoint find weren ’ t any. < br / > thi begin shaka wear. < /p > < p > while popular cultur promot blank shirt , apparel compani still suppli low qualiti shirt didn ’ t last long . introduc max heavyweight . heavier fabric longer last color , max heavyweight caught quickli soon , everyon rapper skateboard wear them . today , becom global recogn brand offer anyth t-shirt fleec activewear. < /p > < p > our qualiti consid best industri mani compani suppli satisfi custom decad . basic apparel longer afterthought come fashion becom industri standard come premium shirt apparel. < /p > [ sep ] long-last & durabl – high-qual water resist pad bomber jacket men construct last long time . last multipl wash-cycl longer last color . premium qualiti bomber jacket keep shape time without stretch , sag , wear out . line super soft polyest warmth , nylon exterior perfect protect variou weather condit especi ideal cooler season . versatil basic – classic jacket never goe style , bomber jacket perfect basic essenti everi guy need closet . it ’ s outerwear jacket goe outfit , make easi throw go . style coolest sneaker boot favorit tee jean everyday casual attir . it ’ s made comfort day wear , make sleek , sporti bomber great event occas . choos varieti cool color afford style – essenti jacket come classic button style look good bodi shape size . featur color match snap button , 2 slant hand pocket side , satin finish nylon outer , lightli fill poli pad ad warmth , stripe rib sleev neck collar trim . bomber jacket come raglan shoulder design better wider rang mobil . it ’ s classic athlet design alway stylish ad function ultra-comfort – never sacrific comfort fashion fulli line pad bomber jacket design maximum comfort day night . it ’ s cool , stylish , cozi , breathabl comfi relax fit . whether loung home , go indoor outdoor , go see game hang friend weekend , button nylon util windbreak give comfort rang motion activ rain shine . absolut must-hav everi genuin shaka wear varsiti bomber jacket fulli line colleg basebal varsiti jacket design u.s.a . suppli fitscloth . greatli confid love fitscloth cloth . pleas check size chart purchas . model 6 ' 1 '' ( 185 cm ) , 175 lb ( 79 kg ) wear size l. [ sep ] royal [ sep ] long-last & durabl – high-qual water resist pad bomber jacket men construct last long time . last multipl wash-cycl longer last color . premium qualiti bomber jacket keep shape time without stretch , sag , wear out . line super soft polyest warmth , nylon exterior perfect protect variou weather condit especi ideal cooler season . versatil basic – classic jacket never goe style , bomber jacket perfect basic essenti everi guy need closet . it ’ s outerwear jacket goe outfit , make easi throw go . style coolest sneaker boot favorit tee jean everyday casual attir . it ’ s made comfort day wear , make sleek , sporti bomber great event occas . choos varieti cool color afford style – essenti jacket come classic button style look good bodi shape size . featur color match snap button , 2 slant hand pocket side , satin finish nylon outer , lightli fill poli pad ad warmth , stripe rib sleev neck collar trim . bomber jacket come raglan shoulder design better wider rang mobil . it ’ s classic athlet design alway stylish ad function ultra-comfort – never sacrific comfort fashion fulli line pad bomber jacket design maximum comfort day night . it ’ s cool , stylish , cozi , breathabl comfi relax fit . whether loung home , go indoor outdoor , go see game hang friend weekend , button nylon util windbreak give comfort rang motion activ rain shine . absolut must-hav everi genuin shaka wear varsiti bomber jacket fulli line colleg basebal varsiti jacket design u.s.a . suppli fitscloth . greatli confid love fitscloth cloth . pleas check size chart purchas . model 6 ' 1 '' ( 185 cm ) , 175 lb ( 79 kg ) wear size l. [ sep ]\", '[ cl ] 1 inch/cm ruler bendabl [ sep ] school smart 1473613 lightweight strong plastic ruler 6 inch , pack 6 , high gloss [ sep ] [ sep ] protect import document , surfac , text book glossi finish add luxuri aesthet durabl construct preserv qualiti object lamin countri origin : china [ sep ] high gloss [ sep ] protect import document , surfac , text book glossi finish add luxuri aesthet durabl construct preserv qualiti object lamin countri origin : china [ sep ]', '[ cl ] astrapool escalera piscina [ sep ] escalera piscina modelo ancho 500mm 7 peldaño astralpool [ sep ] < p > escalera especialment concebida piscina ejercicio rehabilitación terapia agua persona requieran elevador . ancho 500 mm do pasamano . ajust altura . fácil instalación . tubo ø 43 mm acero inox aisi-316 pulido . peldaño materi plástico superfici antideslizant . suministrada anclaj fijación , previsto conexión toma equipotencial. < /p > [ sep ] 00119 - escalera piscina publica modelo ancho 500 mm 7 peld . [ sep ] [ sep ] 00119 - escalera piscina publica modelo ancho 500 mm 7 peld . [ sep ]', '[ cl ] イプサ [ sep ] イプサ ( ipsa ) クリエイティブコンシーラー ex [ sep ] [ sep ] 内容量:4.5g [ sep ] ベージュ [ sep ] 内容量:4.5g [ sep ]', '[ cl ] a003sh ケース ベルトなし [ sep ] aquo sense5g / sense4 / sense4 lite / sense4 basic 革屋さんのクイック手帳ケース 【 黒tpu 】 手帳ケース 手帳 手帳型 手帳カバー 手帳型ケース 手帳型カバー ケース カバー aquo sense5g sh-53a shg03 / sense4 sh-41a sh-m15 / sense4 lite sh-rm15 / sense4 basic a003sh アクオスセンス5g sh41a shrm15 スマホケース スマホカバー スマホ ス [ sep ] マグネット式で開閉がスムーズにできる手帳型ケースです < br > 良質なスムースレザーを使用しておりますので、軽量なのに高級感のある手触りを追求しました < br > ストラップホールは上下についております < br > < br > ●※ 置き型充電器等には対応しておりません。 < br > ●それぞれの機種にあわせてカメラ穴をお作りしております。 < br > ●マグネット開閉式、カードポケット付き。 < br > ●内側のケースの素材は、柔軟性のある黒のソフトケース ( tpu ) を使用しております。 < br > ●こちらの商品はみかんねこ正規取り扱い商品です。 [ sep ] マグネット式で開閉がスムーズにできる手帳型ケースです 良質なスムースレザーを使用しておりますので、軽量なのに高級感のある手触りを追求しました ストラップホールは上下についております ※ 置き型充電器等には対応しておりません。 内側のケースの素材は、柔軟性のある黒のソフトケース ( tpu ) を使用しております。 [ sep ] ワインレッド [ sep ] マグネット式で開閉がスムーズにできる手帳型ケースです 良質なスムースレザーを使用しておりますので、軽量なのに高級感のある手触りを追求しました ストラップホールは上下についております ※ 置き型充電器等には対応しておりません。 内側のケースの素材は、柔軟性のある黒のソフトケース ( tpu ) を使用しております。 [ sep ]', '[ cl ] wild wood tarot [ sep ] wild unknown tarot deck guidebook ( offici keepsak box set ) [ sep ] [ sep ] harperelixir durabl long last ensur get best usag longer period [ sep ] [ sep ] harperelixir durabl long last ensur get best usag longer period [ sep ]', '[ cl ] maybellin quad eyeshadow [ sep ] maybellin new york expert wear eyeshadow quad , 20q velvet crush perfect pastel , 0.17 ounc [ sep ] [ sep ] maybellin maybellin maybellin [ sep ] 20q velvet crush [ sep ] maybellin maybellin maybellin [ sep ]', \"[ cl ] levi women short [ sep ] levi 's women 's wedgi skinni jean , arctic tundra , 29 ( us 8 ) [ sep ] [ sep ] high rise : sit waist stretch twill skinni leg snug hip thigh inseam : 27 '' , raw hem front rise : 10 7/8 '' ; back rise : 14 3/4 '' [ sep ] arctic tundra [ sep ] high rise : sit waist stretch twill skinni leg snug hip thigh inseam : 27 '' , raw hem front rise : 10 7/8 '' ; back rise : 14 3/4 '' [ sep ]\", '[ cl ] スティーブンキング [ sep ] シャイニング ( 字幕版 ) [ sep ] [ sep ] [ sep ] [ sep ] [ sep ]', '[ cl ] paul rich [ sep ] frost star dust - gold green [ sep ] < p > < b > inspir cosmo < /b > < /p > < p > frost case bedazzl aventurin dial , paul rich frost star dust men dress watch redefin sparkl . serv remind maintain ice-cold demeanor pursuit aspir . add lumin hand indic mix equival north star guid pursuit excel . beyond aesthet , men watch featur state-of-the-art miyota quartz japanes movement top-tier craftsmanship timepiec highli accur reliabl . < /p > < p > < b > stylish resili < /b > < /p > < p > frost star dust dress watch men known impos appear . stainless steel case measur 45mm 11mm thick . face corn gorilla glass crystal thin , lightweight damag resist . strap width 20mm interchang . deal alway cut comfort offic , paul rich watch water-resist 5 atm , withstand pressur equival depth 50 meter . < /p > < p > < b > fashion watch everi ensembl < /b > < /p > < p > paul rich frost star dust watch avail gold-ton , silver-ton , rose gold black case , choic blue green dial variat . fashion-forward twist stainless steel watch men , perfectli appoint power suit casual attir . men watch arriv tast present box . paul rich watch thought gift young men enter busi world . surpris find bold watch top list gift men want leav mark world . < /p > < p > < b > fashion accessori say arriv , add paul rich men wrist watch cart today . < /b > < /p > [ sep ] keep time boldli paul rich luxuri watch men . frost star dust men dress watch exud tast sophist , signal arriv profession time money . accur reliabl paul rich watch men use global recogn miyota quartz movement accuraci reliabl . second count , men luxuri watch collect keep on-schedul . rug stainless steel pair corn gorilla glass give men ’ s wrist watch optim perform . water resist 5 atm , paul rich male watch endur activ lifestyl eas . distinctli masculin 45mm case side 20mm band width , dress watch men connot swagger worldli . men watch lumin dial remain readabl long night . timeless gift men age , paul rich men dress watch perfect anniversari gift husband colleg graduat gift him . attract box readi bestow . [ sep ] gold [ sep ] keep time boldli paul rich luxuri watch men . frost star dust men dress watch exud tast sophist , signal arriv profession time money . accur reliabl paul rich watch men use global recogn miyota quartz movement accuraci reliabl . second count , men luxuri watch collect keep on-schedul . rug stainless steel pair corn gorilla glass give men ’ s wrist watch optim perform . water resist 5 atm , paul rich male watch endur activ lifestyl eas . distinctli masculin 45mm case side 20mm band width , dress watch men connot swagger worldli . men watch lumin dial remain readabl long night . timeless gift men age , paul rich men dress watch perfect anniversari gift husband colleg graduat gift him . attract box readi bestow . [ sep ]', '[ cl ] mothra [ sep ] bandai movi monster seri godzilla mothra larva [ sep ] bandai- bandai movi monster seri godzilla mothra larva , bandai [ sep ] [ sep ] [ sep ] [ sep ]', '[ cl ] red spray chalk [ sep ] testor spray chalk , 4 count [ sep ] [ sep ] creat temporari chalk design coordin team color varieti exterior surfac concret , asphalt , sand , snow , grass , glass washabl , non-tox chalk formula dissolv natur time exposur rain water instantli turn powder spray cover 80 linear feet fun game durabl spray last 7 day without moistur flat chalk finish vibrant color allow uniqu design easi see [ sep ] assort pastel [ sep ] creat temporari chalk design coordin team color varieti exterior surfac concret , asphalt , sand , snow , grass , glass washabl , non-tox chalk formula dissolv natur time exposur rain water instantli turn powder spray cover 80 linear feet fun game durabl spray last 7 day without moistur flat chalk finish vibrant color allow uniqu design easi see [ sep ]', '[ cl ] doctor costum kid [ sep ] melissa & doug doctor role play costum dress-up set ( 7 pc ) [ sep ] [ sep ] entertain doctor role-play costum : melissa & doug doctor role play costum set dress-up play set featur doctor ’ s jacket , mask , stethoscop , reflex hammer , ear scope , syring , reusabl name tag . high-qual materi : ensur durabl , kid doctor play set made high-qual materi construct precis manufactur standard . jacket mask machin washabl easi cleanup . realist sound effect : includ stethoscop make realist sound effect use . requir aaa batteri , includ . doctor role play costum ideal gift kid age 3 6 year great addit bin dress-up cloth girl boy . add melissa & doug fire chief role play costum round pretend play experi . “ the gold standard childhood play ” : 30 year , melissa & doug creat beauti design imagination- creativity-spark product nbc new call “ the gold standard earli childhood play. ” [ sep ] white [ sep ] entertain doctor role-play costum : melissa & doug doctor role play costum set dress-up play set featur doctor ’ s jacket , mask , stethoscop , reflex hammer , ear scope , syring , reusabl name tag . high-qual materi : ensur durabl , kid doctor play set made high-qual materi construct precis manufactur standard . jacket mask machin washabl easi cleanup . realist sound effect : includ stethoscop make realist sound effect use . requir aaa batteri , includ . doctor role play costum ideal gift kid age 3 6 year great addit bin dress-up cloth girl boy . add melissa & doug fire chief role play costum round pretend play experi . “ the gold standard childhood play ” : 30 year , melissa & doug creat beauti design imagination- creativity-spark product nbc new call “ the gold standard earli childhood play. ” [ sep ]', '[ cl ] ミキハウス 靴 [ sep ] ミキハウス ( mikihous ) シューズ 13-9408-786 16.5cm 紺 [ sep ] [ sep ] 合成皮革 メッシュ （皮革部分）合成皮革 （底材の種類）合成底 ﾍﾞﾄﾅﾑ [ sep ] ネイビー [ sep ] 合成皮革 メッシュ （皮革部分）合成皮革 （底材の種類）合成底 ﾍﾞﾄﾅﾑ [ sep ]', '[ cl ] mailbox bracket granit post [ sep ] mail boss 7161 metro lock secur wall mount mailbox , granit , medium [ sep ] [ sep ] larg capac secur wall mount lock mailbox made 14- 16-gaug electrogalvan steel strength durabl patent anti-pri latch lock mechan 12-wafer disc lock prevent leverag entri includ innov mount bracket quick easi instal surfac stainless steel hing powder-co finish optimum weather resist includ 3 key , reflect hous number , 4 lag bolt drill bit instal [ sep ] granit [ sep ] larg capac secur wall mount lock mailbox made 14- 16-gaug electrogalvan steel strength durabl patent anti-pri latch lock mechan 12-wafer disc lock prevent leverag entri includ innov mount bracket quick easi instal surfac stainless steel hing powder-co finish optimum weather resist includ 3 key , reflect hous number , 4 lag bolt drill bit instal [ sep ]', '[ cl ] light bar truck [ sep ] nilight 18025c-a 26inch 540w tripl row bar 50000lm flood spot combo beam drive boat led road light truck jeep utv atv , 2 year warranti , white [ sep ] [ sep ] super bright : combo beam tripl row nest reflector cup design middl extrem light effici upgrad reflector cup : broad reflect plate side allow multi-angl refract , ideal ambient illumin adjust mount bracket : bracket adjust slid , offer conveni adjust posit flexibl need high perform : ip67 waterproof rate , effici cool , die-cast aluminum alloy hous , 30 , 000 hour lifespan packag includ : 1pc 26 inch led light bar mount bracket [ sep ] white [ sep ] super bright : combo beam tripl row nest reflector cup design middl extrem light effici upgrad reflector cup : broad reflect plate side allow multi-angl refract , ideal ambient illumin adjust mount bracket : bracket adjust slid , offer conveni adjust posit flexibl need high perform : ip67 waterproof rate , effici cool , die-cast aluminum alloy hous , 30 , 000 hour lifespan packag includ : 1pc 26 inch led light bar mount bracket [ sep ]', '[ cl ] 魔法使いで引きこもり [ sep ] 魔法使いで引きこもり？１０ ～モフモフと見守る家族の誕生～ [ sep ] 充実した休みも終わり、魔法学院での日常に戻ったシウだったがひょんなことから白狼獣人のシルトに目を付けられ付き纏われることに。さらにヒルデガルドの傲慢な行いによってシュタイバーン出身の女子生徒たちがいじめを受けていると知ったシウは、生徒会長のティベリオや変わり者の教師オルテンシアの協力を得て彼女たちを守るために動き出す。ところが、そんなトラブル続きで大忙しの中、突然コルから預かった卵石が孵ってしまい―― ! ? 大人気異世界スローライフ物語、第10弾！ [ sep ] [ sep ] [ sep ] [ sep ]', '[ cl ] long sleev men shirt [ sep ] russel athlet men cotton perform long sleev t-shirt , royal , l [ sep ] [ sep ] lightweight cotton blend provid premium soft wash wash dri-pow moistur wick technolog keep cool dri odor protect help keep fabric fresh upf 30+ provid protect harm uv ray tag free comfort [ sep ] royal [ sep ] lightweight cotton blend provid premium soft wash wash dri-pow moistur wick technolog keep cool dri odor protect help keep fabric fresh upf 30+ provid protect harm uv ray tag free comfort [ sep ]', \"[ cl ] cedar elev garden bed [ sep ] quictent rais garden bed 35.5 '' l x 23.6 '' w x 35.5 '' h leg elev garden bed cedar wooden planter kit box 8 grid herb veget flower includ 1 pair glove 3 sholv 50 plant tag [ sep ] < p > description： < br > quictent one top brand sell high qualiti structur like rais garden bed , greenhous , grow tent , marque , gazebo , camp tent etc . < /p > < p > quictent garden product tent busi sinc earli 21st centuri . decad develop , becom one profession tent manufactur core product technology. < /p > < p > quictent 35.5 '' l x 23.6 '' w x 35.5 '' h 8 grid rais garden bed upgrad upon normal product mani detail : deeper inner height , stronger wood assembl structur , bigger weight capac . aim provid best product servic customers. < /p > < p > specif : < br > thick 10mm ; four side four corners\\uf63b25mm < br > 8.5 '' inner height < br > weight capac : 440 lbs. < br > packag weight : 35.9 lb < br > packag size : 36.8x27.7x4.0in < /p > < p > box content : < br > 35.5 '' l x 23.6 '' w x 35.5 '' h garden bed < br > 1 piec base fabric < br > 3 sholv < br > 50 t-type tag < br > 1 pair glove < /p > [ sep ] 【8 grid grow 8 differ plants】 -- - 2 instal method rais garden bed , use sholv make 8 grid grow differ veget herb , disassembl shelv make whole garden box grow more . give conveni use it . 【100 % natur wood material，weight capacity:440lbs】 -- - garden bed made non-paint natur cedar wood resist weather-rel damag , won ’ t warp , shrink swell high humid . weight capac : 440lb , never worri fall leg broken . 35.5 inch tall , it ’ s good struggl bend lean over . 【assembl screw , refus crack】 -- - hole everi part need assembl , connect screw , which stabl easi use screwdriv assembl , refus crack.you use rais garden bed kit year . 【8.5 ’ ’ inner height , great plant rooting】 -- - inner size 8.5 ’ ’ , higher normal size , great plant root absorb nutrient soil.thi rais planter box featur 2 tier plant store garden accessori lower shelf . cultiv plant , like veget , flower , herb patio , yard , garden , greenhous . 【3 sholv , 50 t-type tag , 1 pair gloves，1 fabric weed barrier gifts】 -- - 3 differ sholv rais garden bed leg , make easier plant , especi plant small herb strawberri , need buy separ . 50 t-type tag record plant ’ grow period . 1 pair glove give comfort assembl improv shop happi index . [ sep ] [ sep ] 【8 grid grow 8 differ plants】 -- - 2 instal method rais garden bed , use sholv make 8 grid grow differ veget herb , disassembl shelv make whole garden box grow more . give conveni use it . 【100 % natur wood material，weight capacity:440lbs】 -- - garden bed made non-paint natur cedar wood resist weather-rel damag , won ’ t warp , shrink swell high humid . weight capac : 440lb , never worri fall leg broken . 35.5 inch tall , it ’ s good struggl bend lean over . 【assembl screw , refus crack】 -- - hole everi part need assembl , connect screw , which stabl easi use screwdriv assembl , refus crack.you use rais garden bed kit year . 【8.5 ’ ’ inner height , great plant rooting】 -- - inner size 8.5 ’ ’ , higher normal size , great plant root absorb nutrient soil.thi rais planter box featur 2 tier plant store garden accessori lower shelf . cultiv plant , like veget , flower , herb patio , yard , garden , greenhous . 【3 sholv , 50 t-type tag , 1 pair gloves，1 fabric weed barrier gifts】 -- - 3 differ sholv rais garden bed leg , make easier plant , especi plant small herb strawberri , need buy separ . 50 t-type tag record plant ’ grow period . 1 pair glove give comfort assembl improv shop happi index . [ sep ]\", '[ cl ] plu size cloth women [ sep ] glamoris women full figur plu size magiclift origin wirefre support bra # 1000 , blue , 46j [ sep ] [ sep ] magiclift technolog : cushion band lift , shape support without wire . support : contour cup provid coverag comfort . comfort : wide cushion strap help eas pressur reliev shoulder strain . custom fit : hook-and-ey closur 3 column & 3 row increas size . design new york sinc 1921 : 100 year experi craft bra curvi women . [ sep ] blue [ sep ] magiclift technolog : cushion band lift , shape support without wire . support : contour cup provid coverag comfort . comfort : wide cushion strap help eas pressur reliev shoulder strain . custom fit : hook-and-ey closur 3 column & 3 row increas size . design new york sinc 1921 : 100 year experi craft bra curvi women . [ sep ]', '[ cl ] ipodsプロケース可愛い [ sep ] zugu ipad pro 12.9 ケース 2021 第5世代 極薄 落下衝撃保護 10段階スタンド機能 ペンホルダー ワイヤレス充電 オートスリープ スマートカバー ( ipad pro12.9インチ 5世代 カバー ブラウン ) [ sep ] [ sep ] 【高品質】zuguの ipad pro 12.9 ケース（ipadpro 12.9 カバー）登場。zugu caseは、2010年にアメリカで生まれたipadケースのイノベーションブランドです。zuguは、機能性と見た目の美しさを両立させる理想的なケースを追求し、アメリカでは口コミを通じて人気ブランドへと成長しました。amazon usaでは9割以上のお客様から5つ星の高評価を得ています。商品画像の最後にある商品実演 【抜群の安定感】角度調節ができる一般的なipadケースは２～３段階程度が主流ですが、マグネティック・キックスタンド採用のzugu アイパッド第5世代 ケースなら、10段階の角度調整が可能に。どんな場所でも、そして様々な用途に、しっかりと安定したスタンド機能をお楽しみいただけます。 【衝撃保護とスリムデザインの両立】150cmの高さから落下テスト済。見た目にも高級感あふれるpc+tpu二重構造のラバーシェル（業界最薄レベル2mmのスーパー保護バンパー）を装備した カバー が、ipadをしっかりと全方位保護します。高いインパクトプロテクションと軽量スリムで美しいデザインの両立を実現しました。 【使いやすさへの配慮】しっかりと閉じるスマートカバーは、オートスリープ/ウェイク機能搭載のほか、バッテリーの消耗を防ぐアンチ・スライド仕様。appleペンシル専用伸縮ポケット付き。appleペンシルのワイヤレス充電が可能。 【安心のメーカー保証】2年間メーカー保証 ( zugu case正規店舗よりご購入いただいたお客様に限ります。2021 ipad pro 12.9インチ 第5世代使用時。デバイスおよび別売品の補償は致しかねます ) [ sep ] ブラウン [ sep ] 【高品質】zuguの ipad pro 12.9 ケース（ipadpro 12.9 カバー）登場。zugu caseは、2010年にアメリカで生まれたipadケースのイノベーションブランドです。zuguは、機能性と見た目の美しさを両立させる理想的なケースを追求し、アメリカでは口コミを通じて人気ブランドへと成長しました。amazon usaでは9割以上のお客様から5つ星の高評価を得ています。商品画像の最後にある商品実演 【抜群の安定感】角度調節ができる一般的なipadケースは２～３段階程度が主流ですが、マグネティック・キックスタンド採用のzugu アイパッド第5世代 ケースなら、10段階の角度調整が可能に。どんな場所でも、そして様々な用途に、しっかりと安定したスタンド機能をお楽しみいただけます。 【衝撃保護とスリムデザインの両立】150cmの高さから落下テスト済。見た目にも高級感あふれるpc+tpu二重構造のラバーシェル（業界最薄レベル2mmのスーパー保護バンパー）を装備した カバー が、ipadをしっかりと全方位保護します。高いインパクトプロテクションと軽量スリムで美しいデザインの両立を実現しました。 【使いやすさへの配慮】しっかりと閉じるスマートカバーは、オートスリープ/ウェイク機能搭載のほか、バッテリーの消耗を防ぐアンチ・スライド仕様。appleペンシル専用伸縮ポケット付き。appleペンシルのワイヤレス充電が可能。 【安心のメーカー保証】2年間メーカー保証 ( zugu case正規店舗よりご購入いただいたお客様に限ります。2021 ipad pro 12.9インチ 第5世代使用時。デバイスおよび別売品の補償は致しかねます ) [ sep ]', '[ cl ] autism counsel work book [ sep ] cognit behavior therapi made simpl : 10 strategi manag anxieti , depress , anger , panic , worri [ sep ] [ sep ] [ sep ] [ sep ] [ sep ]', \"[ cl ] wrist brace [ sep ] wrist brace carpal tunnel , comfort adjust wrist support brace arthriti tendin , wrist compress wrap pain relief , fit left hand right hand – singl [ sep ] < p > < b > do need wrist brace ? < /b > < /p > < p > do pain , tingl , numb finger ? feel need `` shake out '' hand wrist long bout type ? < /p > < p > you might wonder carpal tunnel syndrom . happen there ’ s pressur median nerv . common condit affect peopl kind work , data entri meat packing. < /p > < p > if catch earli enough , simpler option like wrist brace might trick. < /p > < p > < /p > < p > < b > wyllielab wrist brace featur : < /b > < /p > < ul > < li > univers size < /li > < li > wrist pain relief < /li > < li > fit hand < /li > < li > easi put adjust < /li > < li > breathabl comfort < /li > < /ul > < p > < /p > < p > < b > what wrist brace do ? < /b > < /p > < ul > < li > help repetit strain , sprain instabl wrist < /li > < li > help carpal tunnel syndrom , tendon tenosynov < /li > < li > the heat therapeut neopren help warm muscl joint < /li > < /ul > < p > < br > < /p > < p > < b > how wrist brace help ? < /b > < /p > < p > typic , wrist brace restrict movement wrist , keep wrist straight allevi pressur median nerv carpal tunnel . < /p > < p > the adjust strap provid addit compress around wrist and/or hand help encourag correct align carpal bone therefor help reduc inflamm wrist , use manag carpal tunnel syndrome. < /p > [ sep ] 【 super comfort 】 best solut wrist brace offer wrist super comfort feel . soft materi bring unsuit feel wrist . adjust design fit perfectli uniqu shape left right hand . ergonom design wrist support , pressur thumb comfort . 【 good support & flexibl 】 wish strong support certain flexibl , wrist brace great altern . copywrit , golf tenni play joy wrist support neither bulki burn . 【 wrist pain relief 】 matter tri keep wrist hurt recov one , wrist brace provid necessari compress keep wrist sprain break . wrist support , offer fast recoveri pain reliev . 【 durabl & breathabl 】 wrist brace made high qualiti materi . finest select materi , come durabl breathabl wrist support . beauti doubl stitch ensur strong durabl . 【 100 % satisfact after-sel servic 】 wyllielab , full confid wrist brace . wrist support brace come 30 day question ask , money-back guarante . found problem suggest wrist wrap , pleas feel free contact us , provid profession support servic 24 hour . [ sep ] black [ sep ] 【 super comfort 】 best solut wrist brace offer wrist super comfort feel . soft materi bring unsuit feel wrist . adjust design fit perfectli uniqu shape left right hand . ergonom design wrist support , pressur thumb comfort . 【 good support & flexibl 】 wish strong support certain flexibl , wrist brace great altern . copywrit , golf tenni play joy wrist support neither bulki burn . 【 wrist pain relief 】 matter tri keep wrist hurt recov one , wrist brace provid necessari compress keep wrist sprain break . wrist support , offer fast recoveri pain reliev . 【 durabl & breathabl 】 wrist brace made high qualiti materi . finest select materi , come durabl breathabl wrist support . beauti doubl stitch ensur strong durabl . 【 100 % satisfact after-sel servic 】 wyllielab , full confid wrist brace . wrist support brace come 30 day question ask , money-back guarante . found problem suggest wrist wrap , pleas feel free contact us , provid profession support servic 24 hour . [ sep ]\", \"[ cl ] 25 bathroom vaniti sink [ sep ] modway render mid-centuri bathroom vaniti sink walnut white [ sep ] [ sep ] dimens : 24 '' w x 18 . 5 '' l x 32 . 5 '' h qualiti construct - sit atop taper leg , vaniti featur mdf particleboard frame walnut grain lamin . ceram basin integr countertop creat function design bathroom storag - organ bathroom keep visual space clean under-sink storag bathroom vaniti . adjust shelf behind two soft-clos door offer ampl storag space vaniti measur - refresh bathroom modern design bathroom sink vaniti . assembl requir . fixtur includ . mid-centuri bathroom vaniti - bring mid-centuri intrigu modern style bathroom powder room organ aesthet , clean line , flare profil sink vaniti [ sep ] walnut white [ sep ] dimens : 24 '' w x 18 . 5 '' l x 32 . 5 '' h qualiti construct - sit atop taper leg , vaniti featur mdf particleboard frame walnut grain lamin . ceram basin integr countertop creat function design bathroom storag - organ bathroom keep visual space clean under-sink storag bathroom vaniti . adjust shelf behind two soft-clos door offer ampl storag space vaniti measur - refresh bathroom modern design bathroom sink vaniti . assembl requir . fixtur includ . mid-centuri bathroom vaniti - bring mid-centuri intrigu modern style bathroom powder room organ aesthet , clean line , flare profil sink vaniti [ sep ]\", '[ cl ] diablo 4 [ sep ] diablo iii battl chest - pc standard edit [ sep ] [ sep ] six charact class campaign mode adventur mode [ sep ] [ sep ] six charact class campaign mode adventur mode [ sep ]', '[ cl ] polohat gift men [ sep ] polo ralph lauren men teddi bear winter knit hat skull cap ( one size , charcoal ) [ sep ] [ sep ] [ sep ] charcoal [ sep ] [ sep ]', '[ cl ] shelv without screw [ sep ] sollasi rustic float corner shelv set 3 , farmhous wood wall shelv kitchen shelf wall , hang wall corner shelf bedroom , live room , bathroom [ sep ] < b > mayb buy corner shelv decor storag , turn hous ? also could decor storag corner . tri corner shelv wall mount set 3 < br > < br > < /b > decor storag shelv wall < br > < br > heavi duti shelv hold 40 lb < br > < br > great gift < br > < br > ador shelv design decor storag , perfect nice gift famili friends. < br > < br > < b > specif < br > < br > < /b > ▶size : larg - 11.2 inch , medium - 9.8 inch , small - 7.9 inch < br > < br > ▶color : brown < br > < br > ▶packag includ : fulli assembl entryway float shelf ; 6 anchor 6 screw < br > < br > < b > you get pay for < br > < br > < /b > gain refund satisfi qualiti . keep promis custom treat like family. < br > < br > < b > enjoy clutter-fre home offic . add corner wall shelf cart today ! < br > < br > < /b > [ sep ] high qualiti float corner shelf set 3 : white corner shelf wall made high qualiti solid wood materi . durabl use mani year . smooth surfac , easi clean cloth . visibl & pre-dril hole readi accessori bag , hang within 1 min ! corner shelf home decor : wall corner shelv come protect shelf help keep valuabl fall floor toilet . simpl design function wall corner shelv rustic white color , help turn corner appeal storag display space . corner shelv help make full use corner space highlight decor object two instal form : two instal form wall mount corner shelf . instal up , protect edg stop thing fall . instal down , get minimalist home decor storag display shelf . choos favorit way display shelv match home decor . versatil corner wall shelf : kitchen , float corner shelf use put season bottl . shelv bedroom . great bookshelf small corner shelf bedsid tabl . great live space show photo friend . risk purchas : noth import satisfact . promis provid full refund satisfi wood wall storag shelv . white float shelv bathroom corner add retro style bedroom , bathroom , live room , offic [ sep ] brown [ sep ] high qualiti float corner shelf set 3 : white corner shelf wall made high qualiti solid wood materi . durabl use mani year . smooth surfac , easi clean cloth . visibl & pre-dril hole readi accessori bag , hang within 1 min ! corner shelf home decor : wall corner shelv come protect shelf help keep valuabl fall floor toilet . simpl design function wall corner shelv rustic white color , help turn corner appeal storag display space . corner shelv help make full use corner space highlight decor object two instal form : two instal form wall mount corner shelf . instal up , protect edg stop thing fall . instal down , get minimalist home decor storag display shelf . choos favorit way display shelv match home decor . versatil corner wall shelf : kitchen , float corner shelf use put season bottl . shelv bedroom . great bookshelf small corner shelf bedsid tabl . great live space show photo friend . risk purchas : noth import satisfact . promis provid full refund satisfi wood wall storag shelv . white float shelv bathroom corner add retro style bedroom , bathroom , live room , offic [ sep ]', '[ cl ] arab outfit women [ sep ] astag girl orient belli danc set costum accessori dark blue s ( fit 3-5 year ) [ sep ] girl ` s belli danc costum , includ accessori show pictur , < br / > size top/belt same , the size differ lie pant : < br / > size ( fit 3-5 year ) : pant length 25.6in ( 65cm ) , fit 39.4in-47.2in ( 100cm -120cm ) < br / > size ( fit 6-8 year ) : pant length 29.5in ( 75cm ) , fit 47.2in-53.1in ( 120cm -135cm ) < br / > size l ( ( fit 9-11 year ) ) : pant length 33.5in ( 85cm ) , fit 53.1in-57.1in ( 135cm -145cm ) < br / > size xl : top pad , top width 15.7in , length 12.9in , bustlin 29.5in , xl ( fit 13-18 year ) pant length 35.4in , waist 25.2in-31.5in , fit height 58in. < br / > < br / > < br / > pleas allow slight differ due manual measurement. < br / > due light differ monitor , real colour may slightli differ pictur < br / > [ sep ] packag include:1 * suit shown photo , ( total : top+pants+waist belt+2 * bracelets+head chain+veil+2 * ear ) , age recommend normal size girl , if girl taller usual age , pleas choos size larger , harem pant / elast ankl , halloween cosplay costum , such shimmer shine , aladdin , geni , or normal birthday princess gift belli danc practis wear . gorgeou perfect perform practis top / belt free size , fit littl girl ` s xs-xl , gorgeou perfect perform practis , girl ` s belli danc dress , halloween perforamnc dress , cosplay costum . [ sep ] dark blue [ sep ] packag include:1 * suit shown photo , ( total : top+pants+waist belt+2 * bracelets+head chain+veil+2 * ear ) , age recommend normal size girl , if girl taller usual age , pleas choos size larger , harem pant / elast ankl , halloween cosplay costum , such shimmer shine , aladdin , geni , or normal birthday princess gift belli danc practis wear . gorgeou perfect perform practis top / belt free size , fit littl girl ` s xs-xl , gorgeou perfect perform practis , girl ` s belli danc dress , halloween perforamnc dress , cosplay costum . [ sep ]', \"[ cl ] mini manicur set [ sep ] spove polka dot flip flop manicur set person care tool manicur kit 6 count orang [ sep ] 6 set flip flop pack beauti pink velvet favor < br > descript detail : < br > color : orang < br > each manicur set measur 6.25 '' x 2 7/8 '' ~ < br > case made orang black faux leather dual level pouch white stitch detail shape flip flop base ~ < br > front clear vinyl silkscreen white polka dot black flip flop strap design snap hold tool tuck place ~ < br > four all-met manicur tool silver chrome finish , includ nail file , scissor , nail clipper tweezer . < br > lot fun also practic set come bulk pack poli bag < br > good bulk babi shower gift guest , the flip flop manicur kit suit girl , women , teen , also well travel manicur set small size well design . [ sep ] pack 6 count manicur set , manicur kit measur 5 1/2 '' x 2 7/8 '' easi carri store cute polka dot flip flop design,6 set flip flop pack one pink velvet bag kit includ four metal manicur tool silver chrome finish -nail file , scissor , clipper , tweezer ear pick give girl gift that 's real keeper ador flip flop design manicur set . manicur set teen , children , bulk nail set good babi shower gift guest , the flip flop manicur kit travel manicur set girl , [ sep ] orang [ sep ] pack 6 count manicur set , manicur kit measur 5 1/2 '' x 2 7/8 '' easi carri store cute polka dot flip flop design,6 set flip flop pack one pink velvet bag kit includ four metal manicur tool silver chrome finish -nail file , scissor , clipper , tweezer ear pick give girl gift that 's real keeper ador flip flop design manicur set . manicur set teen , children , bulk nail set good babi shower gift guest , the flip flop manicur kit travel manicur set girl , [ sep ]\", \"[ cl ] walton season [ sep ] brook walton seri 1-3 [ sep ] < b > < h4 > think ca n't root serial killer ? < /h4 > < br > from usa today bestsel author jenif ruff—thre dark suspens thriller featur fascin , twist protagonist . brook walton seri make wonder well know friend , neighbor , classmat . fan jame patterson , karin slaughter , hannib lecter , dexter seri , gone girl hooked. < /b > < br > < br > < b > < h4 > find reader love brook , even shouldn ’ t . . . < /b > < /h4 > < br > < b > book 1 - everett < /b > < br > < br > perfect dark side everett colleg . beauti brilliant brook , transfer student mysteri past , aim graduat first class attend medic school . jessica , wealthi socialit , sens there 's someth quit right < i > the perfect student . < /i > what happen histor blizzard settl differ all. < br > < br > < b > book 2 - rothak < /b > < br > < br > it take perfect student commit perfect crime. < br > < br > medic school rothak univers cutthroat , perfect first-year student brook walton . thrive work stress—it ’ s peopl without . except xander cross , handsom former colleg footbal player complet tour afghanistan . brook intrigu xander ’ s troubl past want get bottom darkest secrets. < br > < br > but brook ’ s anatomi partner , rachael , insist brook violat honor code , brook ’ s accomplish year hard work jeopardi could expel prestigi rothaker. < br > < br > then rachael mysteri disappears. < br > < br > desper clue , detect descend campu interview everyon : faculti , staff , student . one person desper truth stay hidden , whatev take keep way. < br > < br > < b > book 3 - intern < /b > < br > < br > two young american tourist brutal murder cancun . privat investig connecticut desper uncov truth miss co . heart matter brook walton , young medic student . summer internship medic examin ’ s offic expos disturb mysteri ruthless brillianc , author take closer look . brook save beauti skin someon watch everi move ? one murder solv urgent problem , dig even deeper grave ? < br > < br > < i > “ from delight creativ mind jenif ruff , intern deliv chill , suspens , end complet unpredictable. ” < /i > - -allison maruska , author fourth descend < br > < br > < i > “ a nail biter compel psycholog portrait. ” < /i > – reita pendri , author china white < br > < br > e-thriller.com thriller month < br > < br > review amazon custom : < br > < i > '' after read 3 book 3 day , left want 4th & 5th . bravo . '' < /i > ★★★★★ < br > < i > '' i could put down ! suspens ! thrill ! love everi page ! ! ! '' < /i > ★★★★★ < br > < i > '' wow ! finish 3 book . critic start read , may night . `` < /i > ★★★★★ < br > < i > “ jame patterson , competit ! ” < /i > ★★★★★ < br > < i > '' reminisc modern-day hitchcock . [ sep ] [ sep ] [ sep ] [ sep ]\", '[ cl ] milani lip gloss [ sep ] amor metal lip creme - prismatt touch [ sep ] [ sep ] metal liquid lip color shine soft luster dri smooth matt finish without dri lip [ sep ] prismatt touch [ sep ] metal liquid lip color shine soft luster dri smooth matt finish without dri lip [ sep ]', \"[ cl ] larg travel backpack men [ sep ] travel laptop backpack , extra larg 18.4 inch laptop rfid anti theft tsa friendli backpack usb charg port , water resist colleg school bookbag , comput bag women men notebook & basketbal [ sep ] < b > feactur : < /b > < br > ★rfid pocket rfid-radio frequenc identif help secur person data encod credit card , id passports. < br > ★adjust chest strap secur lock firmly. < br > ★two pocket design game lover place keyboard/mous game accessories. < br > ★luggag / suitcas strap back great slide luggag tube attach roll luggag secur easier transport. < br > ★the hidden theft proof pocket design back sit wearer 's bodi . anti-pickpocket back pocket difficult steal person item , store valuabl passport money traveling. < br > ★extern pocket side made elastic mesh , expand secur variou size water bottl compact umbrella < br > ★backpack charg port hole headphon . usb charger port conveni extern connect , offer easi access charg devic . handi fashion . hook phone go < br > ★multi-panel airflow system provid relief carri heavi load . mani pad back , shoulder strap grab handl make comfort carry. < br > < br > < b > larg multi-compart : < /b > < br > ★laptop compart : fit 18.4 inch laptop macbook < br > ★main compart : thin cloth , headset , book , magazin , camera , cd 's , etc < br > ★front compart : phone , pen , key , wallet , purs , glass small item < br > ★side pocket : durabl elastic mesh pocket side , fit water bottl , small compact umbrella item < br > ★theft proof back pocket : passport , cellphon , wallet , earphon < br > -extern dimens : 21.5 * 16.3 * 9.9 inch < br > -capac : 55l < br > -fit laptop size : 15.6,17,17.3,18.4 inch < br > -occas : airplan travel , vacat , day hike , school , camp , busi , comic exhibit , game show , shop , leisur trip , outdoor hike camp overnight backpack men women.best electron gift birthday , christmas. < br > [ sep ] travel extra larg : size 21.5 * 16.3 * 9.9inch.capacity:55l , durabl pad laptop compart hold ipad,15.6,17,17.3 , up to18.4inch laptop backpack/comput , largest main compart hold 3-4 day travel clothing.mani hidden pocket accommod lot travel accessori , stationeri , notebook , person toiletri , side zipper pocket easi access essenti , heavi duti backpack made high qualiti polyest nylon fabric better tear , xl backpack perfect intern travel tsa approv rfid anti-theft : checkpoint , unfold extra larg backpack freeli 90-180 degre make quickli airport secur keep item tidi , design airplan travel . big backpack perfect indoor/outdoor activ , serv durabl larg colleg school backpack.rfid pocket rfid-radio frequenc identif help secur person data encod credit card , id passports.th anti-theft pocket back backpack , easi put phone sport backpack : perfect young player , room sport equip school gear lose anyth , place everyth : water bottl , umbrella , cleat , sock , shin guard , jacket , snack . special outsid pocket , adjust compress strap full size basketbal , rugbi volleyball.th best love sport women , men young colleg student high school . usb charg port & headphon hole : extern usb port set-in charg cabl offer conveni charg cellphon electron devices.a hole headphon outsid give easi access earphon usag . also , student backpack sturdi rug handl steel cabl top carri , side compress strap keep exclus backpack whatev size requir . mens/women 's backpack , enjoy fashion , comfort conveni everywher . back luggag strap & chest strap : back u-shap ventil design help air convect . adjust shoulder strap pad help reliev stress shoulder . luggag strap allow backpack fit luggage/suitcas , slide luggag upright handl tube easier carri ; the adjust chest strap bring shoulder strap tighter chest , help lock backpack place secur , prevent shoulder strap fall off . [ sep ] black [ sep ] travel extra larg : size 21.5 * 16.3 * 9.9inch.capacity:55l , durabl pad laptop compart hold ipad,15.6,17,17.3 , up to18.4inch laptop backpack/comput , largest main compart hold 3-4 day travel clothing.mani hidden pocket accommod lot travel accessori , stationeri , notebook , person toiletri , side zipper pocket easi access essenti , heavi duti backpack made high qualiti polyest nylon fabric better tear , xl backpack perfect intern travel tsa approv rfid anti-theft : checkpoint , unfold extra larg backpack freeli 90-180 degre make quickli airport secur keep item tidi , design airplan travel . big backpack perfect indoor/outdoor activ , serv durabl larg colleg school backpack.rfid pocket rfid-radio frequenc identif help secur person data encod credit card , id passports.th anti-theft pocket back backpack , easi put phone sport backpack : perfect young player , room sport equip school gear lose anyth , place everyth : water bottl , umbrella , cleat , sock , shin guard , jacket , snack . special outsid pocket , adjust compress strap full size basketbal , rugbi volleyball.th best love sport women , men young colleg student high school . usb charg port & headphon hole : extern usb port set-in charg cabl offer conveni charg cellphon electron devices.a hole headphon outsid give easi access earphon usag . also , student backpack sturdi rug handl steel cabl top carri , side compress strap keep exclus backpack whatev size requir . mens/women 's backpack , enjoy fashion , comfort conveni everywher . back luggag strap & chest strap : back u-shap ventil design help air convect . adjust shoulder strap pad help reliev stress shoulder . luggag strap allow backpack fit luggage/suitcas , slide luggag upright handl tube easier carri ; the adjust chest strap bring shoulder strap tighter chest , help lock backpack place secur , prevent shoulder strap fall off . [ sep ]\", \"[ cl ] night time mask women [ sep ] cerav skin renew night cream | niacinamid , peptid complex , hyaluron acid moistur face | 1.7 ounc [ sep ] [ sep ] [ peptid complex ] help reduc look fine line wrinkl support skin elast [ overnight moistur ] help soften , hydrat retain skin 's moistur hyaluron acid : renew look tire skin overnight [ essenti ceramid ] skin ’ s ceramid balanc disrupt age contribut dri skin : cerav skin renew formul three essenti ceramid ( 1 , 3 , 6-ii ) help restor maintain skin ’ s natur barrier [ dermatologist recommend ] cerav skincar develop dermatologist product suitabl dri skin , sensit skin , oili skin , acne-pron , [ gentl skin ] fragranc free , non-comedogen , non-irrit formula [ sep ] [ sep ] [ peptid complex ] help reduc look fine line wrinkl support skin elast [ overnight moistur ] help soften , hydrat retain skin 's moistur hyaluron acid : renew look tire skin overnight [ essenti ceramid ] skin ’ s ceramid balanc disrupt age contribut dri skin : cerav skin renew formul three essenti ceramid ( 1 , 3 , 6-ii ) help restor maintain skin ’ s natur barrier [ dermatologist recommend ] cerav skincar develop dermatologist product suitabl dri skin , sensit skin , oili skin , acne-pron , [ gentl skin ] fragranc free , non-comedogen , non-irrit formula [ sep ]\", '[ cl ] 2 way splitter perdida [ sep ] cerrxian 10-inch rj45 splitter rj45 1 macho 3 hembra lan ethernet network splitter adapt cabl ( est producto pued utilizar divisor red ) [ sep ] nota : use producto asignador red < br > < br > descripción función producto : < br > producto pued utilizar convertir señal red tre dispositivo conectado , pued evitar efectivament pérdida causada inserción desconexión repetida cabl red . < br > conectar cabl , primer dispositivo conect prioridad conectars red . < br > operación engorrosa , adecuada comprador necesitan usar múltipl dispositivo frecuencia . < br > ¡lea atentament instruccion comprar evitar pérdida innecesaria ! actualment , asignador red mercado forma caja deben conectars fuent alimentación , completament diferent forma función cabl . [ sep ] 1 . conect adaptador red rj45 1-3 tre dispositivo . pued seleccionar tre dispositivo acced red . solo necesita conectar desconectar adaptador cambiar red , extendiendo así vida útil puerto dispositivo . 2. tre puerto adaptador pueden conectars red mismo tiempo . solo pued conectar dispositivo adaptador vez . evit tre puerto puedan transmitir señal red debido múltipl dispositivo ocupan red . 3.el cabl internet alto rendimiento clasificación cat6 ; cabl ethernet cabl cobr 24 awg proporciona conectividad univers component red lan , pc , servidor , impresora , enrutador , caja conmutador , reproductor multimedia red , na , teléfono voip , dispositivo poe má . 4.el cabl rj45 flexibl duradero gran ancho banda 550 mhz garantiza transferencia dato alta velocidad aplicacion servidor , computación nube , videovigilancia transmisión video línea alta definición . 5.lo conector contacto chapado oro , bota moldeada alivio tensión mold enganch resisten corrosión , proporcionan durabilidad garantizan conexión segura ; cabl cobr ethernet mejoran rendimiento cabl cumplen especificacion cabl comunicacion . [ sep ] negro [ sep ] 1 . conect adaptador red rj45 1-3 tre dispositivo . pued seleccionar tre dispositivo acced red . solo necesita conectar desconectar adaptador cambiar red , extendiendo así vida útil puerto dispositivo . 2. tre puerto adaptador pueden conectars red mismo tiempo . solo pued conectar dispositivo adaptador vez . evit tre puerto puedan transmitir señal red debido múltipl dispositivo ocupan red . 3.el cabl internet alto rendimiento clasificación cat6 ; cabl ethernet cabl cobr 24 awg proporciona conectividad univers component red lan , pc , servidor , impresora , enrutador , caja conmutador , reproductor multimedia red , na , teléfono voip , dispositivo poe má . 4.el cabl rj45 flexibl duradero gran ancho banda 550 mhz garantiza transferencia dato alta velocidad aplicacion servidor , computación nube , videovigilancia transmisión video línea alta definición . 5.lo conector contacto chapado oro , bota moldeada alivio tensión mold enganch resisten corrosión , proporcionan durabilidad garantizan conexión segura ; cabl cobr ethernet mejoran rendimiento cabl cumplen especificacion cabl comunicacion . [ sep ]', \"[ cl ] [ sep ] he 's [ sep ] [ sep ] [ sep ] [ sep ] [ sep ]\", \"[ cl ] craftsman router tabl [ sep ] kreg prs5000 precis router lift [ sep ] [ sep ] allow precis above-the-t setup chang table-mount router above-t collet access allow fast , easi , above-t bit chang 3⁄8 '' x 9 1⁄4 '' x 11 3⁄4 '' ( 9.5 mm x 235mm x 298mm ) hard-anod aluminum plate won ’ t sag , resist scratch fit kreg router tabl mani competit brand bearing-guid carriag provid smooth oper [ sep ] [ sep ] allow precis above-the-t setup chang table-mount router above-t collet access allow fast , easi , above-t bit chang 3⁄8 '' x 9 1⁄4 '' x 11 3⁄4 '' ( 9.5 mm x 235mm x 298mm ) hard-anod aluminum plate won ’ t sag , resist scratch fit kreg router tabl mani competit brand bearing-guid carriag provid smooth oper [ sep ]\", '[ cl ] thermal curtain [ sep ] wontex 100 % thermal blackout curtain bedroom - winter insul rod pocket window curtain panel , nois reduc sun block line live room curtain , grey , 52 x 72 inch , set 2 [ sep ] < p > effortlessli add finish touch style sophist home offic total blackout curtain wontex . thermal curtain craft premium durabl polyest complet rod pocket construct creat eleg , loos drape fold . block window curtain perfect combin fashion perform . 100 % sun block curtain avail select size beauti vibrant solid color . < /p > < p > < /p > < p > < strong > where perform meet style < /strong > < /p > < ul > < li > 100 % blackout & uv ray : thermal blackout curtain featur innov triple-weav fabric block 100 % sunlight protect wooden floor , carpet upholsteri color fade caus sun . make bedroom pitch-dark block street light car light night , help fall sleep easier. < /li > < li > thermal insul curtain : effect keep cold winter block heat summer , thermal insul light block curtain properti make ideal seasons. < /li > < li > total privaci & nois reduc curtain : heavi microfib blackout curtain bedroom live room help reduc outsid nois provid total privaci protect unwant view viewer . offer quit studi , work rest environment. < /li > < li > energi efficient/sav curtain : winter curtain allow save energi cost . set air condition back cold winter hot summer month . reduc summer heat come cool air go out , provid comfort room relax. < /li > < /ul > < p > < /p > < p > < strong > fabric & care < /strong > < /p > < ul > < li > machin washabl < /li > < li > gentl cycl , bleach < /li > < li > warm iron < /li > < /ul > < p > < /p > < p > < em > < strong > for question product , pleas contact us . we ’ re alway help. < /strong > < /em > < /p > [ sep ] total blackout curtain sold pair : receiv grey curtain panel . classic line curtain measur 52 72 inch long , panel total width 104 inch . construct 2.7 inch height rod pocket top , fit 1.7 inch curtain rod easi instal slide . curtain make room pitch black day : craft 3-layer line blackout polyest weight fabric , heavi thick rod pocket curtain guarante total dark room . bock 100 % sunlight uv ray even sunniest day . awesom solut night shift worker , kid , light sleeper . reduc energi usag thermal insul curtain : wontex bedroom live room thermal curtain energi save barrier . retain heat indoor winter reject heat summer , result lower cool heat bill . energi effici curtain featur line attach back . line made materi heavi block sun summer keep heat escap winter . nois reduc total privaci curtain : heavi weight , wontex full rod pocket blackout curtain provid total privaci could use room divid prevent unwant view viewer room . thick premium , curtain also consider reduc nois come outsid . perfect peopl live busi neighborhood . super easi care : block bedroom curtain machin washabl . wash warm cold water , use mild deterg , bleach , tumbl dri low hang dri . low temperatur iron . there ’ s more ! 60-day easi return polici curtain panel you ’ re happi purchas . [ sep ] grey [ sep ] total blackout curtain sold pair : receiv grey curtain panel . classic line curtain measur 52 72 inch long , panel total width 104 inch . construct 2.7 inch height rod pocket top , fit 1.7 inch curtain rod easi instal slide . curtain make room pitch black day : craft 3-layer line blackout polyest weight fabric , heavi thick rod pocket curtain guarante total dark room . bock 100 % sunlight uv ray even sunniest day . awesom solut night shift worker , kid , light sleeper . reduc energi usag thermal insul curtain : wontex bedroom live room thermal curtain energi save barrier . retain heat indoor winter reject heat summer , result lower cool heat bill . energi effici curtain featur line attach back . line made materi heavi block sun summer keep heat escap winter . nois reduc total privaci curtain : heavi weight , wontex full rod pocket blackout curtain provid total privaci could use room divid prevent unwant view viewer room . thick premium , curtain also consider reduc nois come outsid . perfect peopl live busi neighborhood . super easi care : block bedroom curtain machin washabl . wash warm cold water , use mild deterg , bleach , tumbl dri low hang dri . low temperatur iron . there ’ s more ! 60-day easi return polici curtain panel you ’ re happi purchas . [ sep ]', \"[ cl ] marvel decor [ sep ] rubi 's marvel univers wall breaker , captain america shield [ sep ] [ sep ] rigid polyurethan captain america shield hollow back eas hang measur 16.5 ” x 31.25 ” x 14.5 ” offici licens marvel décor , item ship sold directli amazon guarante authent overs wall breaker décor fit perfectli media room , bedroom , famili room , man cave - room weigh approxim 5 pound [ sep ] multi-color [ sep ] rigid polyurethan captain america shield hollow back eas hang measur 16.5 ” x 31.25 ” x 14.5 ” offici licens marvel décor , item ship sold directli amazon guarante authent overs wall breaker décor fit perfectli media room , bedroom , famili room , man cave - room weigh approxim 5 pound [ sep ]\", '[ cl ] ベツコミ [ sep ] ベツコミ 2019年5月号 ( 2019年4月12日発売 ) [ 雑誌 ] [ sep ] ※高橋海人「僕のスーパーラブストーリー！！～王子と男子は紙一重！？～」のデジタル版での掲載はありません。あらかじめご了承ください。 < br > < br > ●表紙＆巻頭カラー『black bird 番外編』桜小路かのこ < br > ●『スパイスとカスタード』宇佐美真紀 < br > ●『みらいのダンナさま』吉永ゆう < br > ●『柚木さんちの四兄弟。』藤沢志月 < br > ●『やからねこ』新井理恵 < br > ●『クイーンズ・クオリティ』最富キョウスケ < br > ●『藤原くんはだいたい正しい』ヒナチなお < br > ●『うさギョロ！』まめもやし < br > ●『セーラー服と向日葵』中島ベガ < br > ●『くま子さんな日々』ちひろ < br > ●『1／3さんぶんのいち』千葉コズエ < br > ●『たのしい4角関係のすすめ 後編』八寿子 < br > ●『恋に毒針』手島ちあ < br > ●『だってもうスキになっちゃったし』後藤みさき < br > ●『いじわる作家の専属担当 番外編』由季よしの < br > ●『チア・アップ！』維村米人 < br > ●『檻の中のうそつきハニー』田村ことゆ < br > ●『彼女がイケメンすぎる件ですが』黒田ノア < br > ●『いつか見た、星をなぞって』依月リリー [ sep ] [ sep ] [ sep ] [ sep ]', \"[ cl ] nuloom rug 5x8 [ sep ] nuloom rodolfo faux sheepskin shag area rug , 5 ' x 8 ' , white [ sep ] [ sep ] 100 % acryl , made china step comfort soft fluffi textur faux sheepskin shag durabl built last small rug place wherev desir touch eleg comfort home easi care for , recommend vacuum regularli reduc potenti shed spot clean stain carpet cleaner [ sep ] white [ sep ] 100 % acryl , made china step comfort soft fluffi textur faux sheepskin shag durabl built last small rug place wherev desir touch eleg comfort home easi care for , recommend vacuum regularli reduc potenti shed spot clean stain carpet cleaner [ sep ]\", '[ cl ] niña [ sep ] ozbozz sv13988 unicorn scooter 2 rueda iluminada [ sep ] [ sep ] unicorn scooter 2 rueda iluminada luce encienden automáticament montan luce apagarán patinet dejado movers altura ajust excelent patinet mecanismo plegado bloqueo fácil fácil plegar [ sep ] multicolor [ sep ] unicorn scooter 2 rueda iluminada luce encienden automáticament montan luce apagarán patinet dejado movers altura ajust excelent patinet mecanismo plegado bloqueo fácil fácil plegar [ sep ]', '[ cl ] airtight pop canist [ sep ] airtight food storag contain set - 7 pc - pantri organ storag 100 % airtight , bpa free clear plastic , kitchen canist flour , sugar cereal , label & marker ( black ) [ sep ] < p > < strong > your search perfect food storag contain set final over < /strong > < /p > < p > when < strong > premium food storag contain set < /strong > arriv door , rip cute amazon brown box open first chanc get . take contain admir eleg design . hand complet food storag contain set amazon < /p > < p > < strong > what separ premium food storag contain set competit . simpl really. < /strong > < /p > < p > < strong > it start with < /strong > < /p > < ul > < li > it come 7 premium clear storag contain higher total store capac set < /li > < li > free reusabl chalkboard label < /li > < li > includ 1 larg contain ( 8.0 cup /1.9 liter ) , 2 medium contain ( 5.1 cup /1.2 liter ) , 2 small contain ( 3.4 cup /0.8 liter ) , 2 mini contain ( 2.1 cup /0.5 liter ) . < /li > < li > new improv lid made high impact resist durabl ab plastic < /li > < li > special lid-lock mechan ensur air water enter in < /li > < li > made high-qual durabl bpa-fre plastic < /li > < li > space save design - stackabl squar shape contain free space pantry. < /li > < li > liquid friendli < /li > < /ul > [ sep ] ✮ built last - taken meticul care ensur contain receiv last year come . unlik seller amazon lid easili break use , contain come new improv lid made high impact resist durabl ab plastic mean don ’ t need worri lid break . addit lid-lock mechan ensur maximum fresh prolong food storage.bi creat 100 % airtight . ✮ best bang buck - provid higher total store capac unlik other amazon . includ 1 larg contain ( 8.0 cup /1.9 liter ) , 2 medium contain ( 5.1 cup /1.2 liter ) , 2 small contain ( 3.4 cup /0.8 liter ) , 2 mini contain ( 2.1 cup /0.5 liter ) . air tight contain come wide varieti shape size storag need . ✮ superior bundl - complet bundl come 7 bpa-fre premium food-storag canist , reusabl chalkboard label allow organ pantri like never befor . set come beauti box make ideal gift famili . nobodi els market provid valu us ✮ versatil contain - mani great use : air-tight food-saf keeper ideal store dri food flour , sugar , rice , grain , cereal , nut , bean , snack , pasta , spaghetti , noodl , coffe tea also perfect hold liquid water , juic , soup , more . need worri liquid spill out , push handl let airtight technolog it ’ s magic ✮ space save design - durabl squar contain especi design minim space , stackabl easili fit refriger , freezer cupboard enabl get kitchen organ free space pantri . clear contain also easi clean , extrem user friendli readi use . [ sep ] black [ sep ] ✮ built last - taken meticul care ensur contain receiv last year come . unlik seller amazon lid easili break use , contain come new improv lid made high impact resist durabl ab plastic mean don ’ t need worri lid break . addit lid-lock mechan ensur maximum fresh prolong food storage.bi creat 100 % airtight . ✮ best bang buck - provid higher total store capac unlik other amazon . includ 1 larg contain ( 8.0 cup /1.9 liter ) , 2 medium contain ( 5.1 cup /1.2 liter ) , 2 small contain ( 3.4 cup /0.8 liter ) , 2 mini contain ( 2.1 cup /0.5 liter ) . air tight contain come wide varieti shape size storag need . ✮ superior bundl - complet bundl come 7 bpa-fre premium food-storag canist , reusabl chalkboard label allow organ pantri like never befor . set come beauti box make ideal gift famili . nobodi els market provid valu us ✮ versatil contain - mani great use : air-tight food-saf keeper ideal store dri food flour , sugar , rice , grain , cereal , nut , bean , snack , pasta , spaghetti , noodl , coffe tea also perfect hold liquid water , juic , soup , more . need worri liquid spill out , push handl let airtight technolog it ’ s magic ✮ space save design - durabl squar contain especi design minim space , stackabl easili fit refriger , freezer cupboard enabl get kitchen organ free space pantri . clear contain also easi clean , extrem user friendli readi use . [ sep ]', '[ cl ] コードレスキーボードマウスセット テンキーなし [ sep ] エレコム テンキー ワイヤレス ( レシーバー付属 ) メンブレン 1000万回高耐久 ブラック tk-tdm017bk [ sep ] [ sep ] 安定した通信で快適に操作できる2.4ghzのワイヤレステンキーパッドです。 最大1000万回のキーストロークに耐える丈夫なキーを採用しています。 excelでの作業に便利な [ tab ] キーと、数字の入力に便利な [ 00 ] キーが付いています。 numlockのオン/オフの状態がひと目でわかるledランプを装備しています。 本体側面に電源on/offスイッチを装備しています。 [ sep ] [ sep ] 安定した通信で快適に操作できる2.4ghzのワイヤレステンキーパッドです。 最大1000万回のキーストロークに耐える丈夫なキーを採用しています。 excelでの作業に便利な [ tab ] キーと、数字の入力に便利な [ 00 ] キーが付いています。 numlockのオン/オフの状態がひと目でわかるledランプを装備しています。 本体側面に電源on/offスイッチを装備しています。 [ sep ]', \"[ cl ] one desktop comput [ sep ] acer aspir c24-865-aci5nt aio desktop , 23.8 '' full hd , 8th gen intel core i5-8250u , 12gb ddr4 , 1tb hdd , 802.11ac wifi , wireless keyboard mous , window 10 home [ sep ] [ sep ] 8th gener intel core i5 8250u processor 1.6ghz ( up 3.4ghz ) ; oper system architectur : 64 bit 23.8 inch full hd ( 1920 x 1080 ) widescreen edg edg led back lit display 12gb ddr4 2400mhz memori & 1tb 5400rpm sata hard drive 802.11ac wi fi , gigabit ethernet lan & bluetooth 4.2le built stereo speaker ; extern 1 mp webcam ( via usb connector ) ; wireless keyboard mouse.pow supply:65 w [ sep ] silver [ sep ] 8th gener intel core i5 8250u processor 1.6ghz ( up 3.4ghz ) ; oper system architectur : 64 bit 23.8 inch full hd ( 1920 x 1080 ) widescreen edg edg led back lit display 12gb ddr4 2400mhz memori & 1tb 5400rpm sata hard drive 802.11ac wi fi , gigabit ethernet lan & bluetooth 4.2le built stereo speaker ; extern 1 mp webcam ( via usb connector ) ; wireless keyboard mouse.pow supply:65 w [ sep ]\"]\n"
          ]
        }
      ]
    },
    {
      "cell_type": "code",
      "source": [
        "from nltk.stem import WordNetLemmatizer\n",
        "nltk.download('wordnet')\n",
        "\n",
        "lemmatizer = WordNetLemmatizer()\n",
        "\n",
        "for i in range(len(input_sequences)):\n",
        "  words = word_tokenize(input_sequences[i])\n",
        "  words = [lemmatizer.lemmatize(word) for word in words]\n",
        "  input_sequences[i] = ' '.join(words)\n",
        "\n",
        "print(input_sequences)"
      ],
      "metadata": {
        "id": "5j2JBYhfHovf",
        "outputId": "4f622b6f-f11d-44ed-fb03-90e1956f6490",
        "colab": {
          "base_uri": "https://localhost:8080/"
        }
      },
      "execution_count": null,
      "outputs": [
        {
          "output_type": "stream",
          "name": "stderr",
          "text": [
            "[nltk_data] Downloading package wordnet to /root/nltk_data...\n",
            "[nltk_data]   Package wordnet is already up-to-date!\n"
          ]
        },
        {
          "output_type": "stream",
          "name": "stdout",
          "text": [
            "['[ cl ] yunsey tint amoniaco [ sep ] light irridi oxigenada 20vol 1000ml l.i , negro , 1000ml-1l [ sep ] [ sep ] oxigenada 20vol 1000ml l.i . [ sep ] negro [ sep ] oxigenada 20vol 1000ml l.i . [ sep ]', '[ cl ] android phone [ sep ] tracfon carrier-lock samsung galaxi j7 crown 4g lte prepaid smartphon - black - 16gb - sim card includ - cdma ( renew ) [ sep ] [ sep ] 5.5 `` hd screen ; 1.56 ghz octa-cor processor ; android 8.0 oreo 4g lte ; wi-fi capabl ; bluetooth 4.2 wireless technolog ; mp3 player 13mp camera/13mp front face camera ; intern memori 16gb ; support micro sd memori card 400 gb ( not includ ) note : phone carrier lock ; custom must lock devic activ servic fewer 12 month , redeem air time card fewer 12 month , telephon number recycl ported.rear camera resolut : up 4160 x 3120 pixel unlimit talk , text data plan start low $ 20/month [ sep ] black [ sep ] 5.5 `` hd screen ; 1.56 ghz octa-cor processor ; android 8.0 oreo 4g lte ; wi-fi capabl ; bluetooth 4.2 wireless technolog ; mp3 player 13mp camera/13mp front face camera ; intern memori 16gb ; support micro sd memori card 400 gb ( not includ ) note : phone carrier lock ; custom must lock devic activ servic fewer 12 month , redeem air time card fewer 12 month , telephon number recycl ported.rear camera resolut : up 4160 x 3120 pixel unlimit talk , text data plan start low $ 20/month [ sep ]', '[ cl ] 貝印 ターナー [ sep ] 貝印 kai 穴あき お玉 ブラック new ビート de-5614 [ sep ] [ sep ] サイズ:28×8.5×7cm 本体重量:85g 素材・材質 : 柄部/ポリプロピレン、金属部/ステンレススチール 原産国 : 日本 耐熱温度 : 柄部/110度 [ sep ] [ sep ] サイズ:28×8.5×7cm 本体重量:85g 素材・材質 : 柄部/ポリプロピレン、金属部/ステンレススチール 原産国 : 日本 耐熱温度 : 柄部/110度 [ sep ]', '[ cl ] nmax [ sep ] gener ヤマハnmax 155用 led付き オートバイ背面グリルガードカバー - 青い [ sep ] < p > < b > happi dayへようこそ！お客様に最高水準のカスタマーサービスを提供するために日々努力しております。 < /b > < /p > < br > < p > < b > 説明 : < /b > < /p > < p > - ヤマハnmax 155 2017-2019のledライトトリム付きオートバイリアグリルガードカバー < br > - プレミアムabsプラスチック製で、耐摩耗性があり、頑丈で耐久性があります。 < br > - 新品で高品質。取り付けと取り外しが簡単。 < br > - あなたのバイクにぴったりの装飾。 < br > < b > ヤマハnmax155 2017-2019に適合 < /b > < /p > < p > < b > 仕様 : < /b > < /p > < p > - 素材：absプラスチック < br > - 色：カーボンファイバー < br > - サイズ：約27x13cm / 10.6x5.1インチ < br > < /p > < p > < b > パッケージに含まれるもの : < /b > < /p > < p > 1ピースオートバイカーボンファイバーサイドグリルカバー < /p > < p > < b > 注意 : < /b > < /p > < p > * インストールツールはなく、指示も含まれていません。専門家によるインストールをお勧めします * < /p > < p > 示される絵とまったく同じアイテム。 < /p > [ sep ] 新品で高品質。取り付けと取り外しが簡単。 プレミアムabsプラスチック製で、耐摩耗性があり、頑丈で耐久性があります。 ヤマハnmax155 2017-2019に適合 ヤマハnmax 155 2017-2019のledライトトリム付きオートバイリアグリルガードカバー あなたのバイクにぴったりの装飾。 [ sep ] 青い [ sep ] 新品で高品質。取り付けと取り外しが簡単。 プレミアムabsプラスチック製で、耐摩耗性があり、頑丈で耐久性があります。 ヤマハnmax155 2017-2019に適合 ヤマハnmax 155 2017-2019のledライトトリム付きオートバイリアグリルガードカバー あなたのバイクにぴったりの装飾。 [ sep ]', '[ cl ] leopard clutch [ sep ] charm tailor leopard clutch bag woman tassel foldov clutch faux sued dressi purs day even ( brown ) [ sep ] < p > < strong > whi charm tailor ? < /strong > we believ everi woman deserv eleg clutch purs make statement ! ! < /p > < p > charm tailor believ everi woman deserv better everi occas , even much better import moment life busi , like wed , engag , social activ . make-up , hair style , dress , shoe , necklac , clutch accessori , never choosi captur everi best moment . charm tailor offer chic clutch bag wish adorn glamor , realli love see best you ! < /p > < p > < /p > < p > < strong > specif : < /strong > < /p > < p > leopard print faux sued < /p > < p > zipper fold closur < /p > < p > tassel puller detail < /p > < p > 1 detach sturdi chain shoulder strap < /p > < p > 1 interior card slot < /p > < p > cotton line < /p > < p > hardwar : gold-ton hardwar < /p > < p > capac : enough space phone ( fit iphon 8 plu case ) , small portabl charger charg cord , wed card , key , small wallet small cosmet case . < /p > < p > occass : perfect day night occas , wed parti , engag parti , birthday parti , prom , ball , banquet , date formal casual activity . < /p > < p > < /p > < p > < strong > care & clean : < /strong > < /p > < p > thi leopard foldov clutch purs kept dri store cool place , clear soft cloth warm water . plea notic humid high salt condit may caus metal part oxid rustiness . < /p > < p > < /p > < p > < strong > more charm tailor ( 100 % satisfact guarante ) : < /strong > < /p > < p > whi take quick visit charm tailor store ? might discov top-qual fanci clutch even bag you . guarante 100 % custom satisfact . detail , contact u amazon . < /p > < p > < /p > < p > declar : < strong > charm tailor < /strong > regist u trademark protect intellectu properti right law . < /p > [ sep ] zipper foldov closur tassel puller 1 detach chain strap , drop 22 inch 1 interior slip pocket size : w11-3/4 x h7 x d1 inch ( w30 x h18 x d2.5 cm ) charm tailor foldov leopard-print clutch purs simpl yet stylish silhouett , swingi tassel lend boho-ch . hold hand , tuck arm , carri shoulder crossbodi , match vari outfit differ occas . [ sep ] brown [ sep ] zipper foldov closur tassel puller 1 detach chain strap , drop 22 inch 1 interior slip pocket size : w11-3/4 x h7 x d1 inch ( w30 x h18 x d2.5 cm ) charm tailor foldov leopard-print clutch purs simpl yet stylish silhouett , swingi tassel lend boho-ch . hold hand , tuck arm , carri shoulder crossbodi , match vari outfit differ occas . [ sep ]', '[ cl ] roca acuario natural [ sep ] nobbi stone - adorno acuario , 15,5 x 13 x 6 cm [ sep ] [ sep ] artículo decoración hecho poliresina ( resina sintética ) , realista detal absolutament tóxico , neutral equilibrio biológico adecuado agua dulc agua salada . [ sep ] [ sep ] artículo decoración hecho poliresina ( resina sintética ) , realista detal absolutament tóxico , neutral equilibrio biológico adecuado agua dulc agua salada . [ sep ]', '[ cl ] chocolov toffe [ sep ] chocolov toffe & almond pure milk 33 % cocoa [ sep ] discov chocolov premium belgian chocol bar . avail nine distinct flavor rang sweet , creami milk chocol 33 % cocoa content extra strong dark impress strong yet smooth 77 % cocoa content . cocoa [ sep ] [ sep ] [ sep ] [ sep ]', '[ cl ] eyeshow palett [ sep ] urban decay naked2 basic eyeshadow palett , 6 taup & brown matt neutral shade - ultra-blend , rich color velveti textur - makeup set includ mirror & full-siz pan - great travel [ sep ] naked2 basic complement naked2 perfectli . cooler tone origin , load indispens palett six taupe-hu matt neutral , includ five never-before-seen shade . shadow neutral enough anyon , cool skin tone oliv complexion darker skin . everi shade naked2 basic featur pigment infus system , proprietari blend ingredi give shade velveti textur , rich color , seriou stay power blend abil . mani brand ’ matt shadow tend chalki powderi , everi shade naked2 basic rich , butteri feel perfect applic . even includ one shade slight satin finish , skimp , that ’ s ideal highlight ad dimens . tip : use shade creat perfect neutral matt eye . then , day you ’ re crave color , pair favorit bolder shadow . [ sep ] look better nake - urban decay naked2 basic compact , travel-readi eyeshadow palett featur 6 neutral matt shade complement rang skin tone , cool oliv complexion deeper hue . high-pig shade - naked2 basic palett shade includ cruelty-fre skimp , stark , frisk , cover , primal , undon . back 2 basic - six ultra-versatil , taupe-hu nude , eyeshadow palett perfect creat simpl eye look base pigment color eyeshadow dramat eye look . pigment infus system - everi shade paraben-fre , sulfate-fre , phthalate-fre eye shadow palett featur proprietari ingredi blend suppli velveti textur , rich color , extrem blendabl . play well other - prep lid eyeshadow primer potion look last day fade creas . maxim color payoff mist eyeshadow brush nighter long-last makeup set spray appli . [ sep ] naked2 basic [ sep ] look better nake - urban decay naked2 basic compact , travel-readi eyeshadow palett featur 6 neutral matt shade complement rang skin tone , cool oliv complexion deeper hue . high-pig shade - naked2 basic palett shade includ cruelty-fre skimp , stark , frisk , cover , primal , undon . back 2 basic - six ultra-versatil , taupe-hu nude , eyeshadow palett perfect creat simpl eye look base pigment color eyeshadow dramat eye look . pigment infus system - everi shade paraben-fre , sulfate-fre , phthalate-fre eye shadow palett featur proprietari ingredi blend suppli velveti textur , rich color , extrem blendabl . play well other - prep lid eyeshadow primer potion look last day fade creas . maxim color payoff mist eyeshadow brush nighter long-last makeup set spray appli . [ sep ]', '[ cl ] dragon ball birthday candl [ sep ] 30 x edibl cupcak topper theme dragon ball z collect edibl cake decor | uncut edibl wafer sheet [ sep ] happi birthday cake topper specialti , took mission provid best birthday decor perfect happi birthday experi . cake topper cupcak decor made thought highest qualiti ingredi ensur that . know easi plan perfect celebr kept simpl you , need simpli cut edibl paper cupcak topper cake topper , appli edibl paper cupcak / cake ice enjoy special day ! [ sep ] ➤ easi use : decor cupcak happi birthday never easier ! simpli cut topper wafer paper . appli topper ice . enjoy birthday cake ! ➤ high qualiti imag : cupcak topper print high qualiti edibl paper ensur highest qualiti birthday cake decor special day ! ➤ ingredi : mission make sure love one celebr happi day best way possibl , product made entir edibl high qualiti materi provid best cake topper . ➤ shelf life : bulk shopper ? you ! cake topper shelf life 12 month long ! keep calm know abl use brand new birthday decor safe futur . ➤ 100 % satisfact warranti : buy confid know product thought made celebr love one happi birthday best possibl way . reason le 100 % satisfi product , refund entir purchas price . [ sep ] color [ sep ] ➤ easi use : decor cupcak happi birthday never easier ! simpli cut topper wafer paper . appli topper ice . enjoy birthday cake ! ➤ high qualiti imag : cupcak topper print high qualiti edibl paper ensur highest qualiti birthday cake decor special day ! ➤ ingredi : mission make sure love one celebr happi day best way possibl , product made entir edibl high qualiti materi provid best cake topper . ➤ shelf life : bulk shopper ? you ! cake topper shelf life 12 month long ! keep calm know abl use brand new birthday decor safe futur . ➤ 100 % satisfact warranti : buy confid know product thought made celebr love one happi birthday best possibl way . reason le 100 % satisfi product , refund entir purchas price . [ sep ]', '[ cl ] float glass shelf 10 inch wide [ sep ] 10 inch float shelf brackets,4 pack solid steel blind shelf support powder coat hidden shelf bracket spirit level hardwar home décor , storag , organ [ sep ] 1 [ sep ] load 100 lb : extend base , stabil bracket improv . load-bear weight increas 75 100 pound , suitabl famili need store materi . long life : everi sturdi steel bracket powder-co prevent rust corros . long-term use float shelf support . easi install-thes float shelf bracket mount wall without special skill . provid spirit level , screw , wall anchor , perfectli instal immedi go home confidence-our wall-mount invis shelf bracket support float shelv farmhous , bathroom , kitchen , studi room , offic , wherev decor , storag , organ requir dimensions-th rod 10 inch long 0.4 inch diamet . backplan 5.5 inch wide 0.98 inch high . support wooden shelv 10 14 inch deep least 2 inch thick . [ sep ] black [ sep ] load 100 lb : extend base , stabil bracket improv . load-bear weight increas 75 100 pound , suitabl famili need store materi . long life : everi sturdi steel bracket powder-co prevent rust corros . long-term use float shelf support . easi install-thes float shelf bracket mount wall without special skill . provid spirit level , screw , wall anchor , perfectli instal immedi go home confidence-our wall-mount invis shelf bracket support float shelv farmhous , bathroom , kitchen , studi room , offic , wherev decor , storag , organ requir dimensions-th rod 10 inch long 0.4 inch diamet . backplan 5.5 inch wide 0.98 inch high . support wooden shelv 10 14 inch deep least 2 inch thick . [ sep ]', \"[ cl ] blue bomber jacket , like h similar [ sep ] shaka wear men ’ s bomber jacket – classic pad relax fit water resist colleg basebal varsiti coat vbj13 royal 3xl [ sep ] < p > `` `` high qualiti premium product best price guarante ! ! `` '' < br / > 100 % premium cotton ( gray bodi - 90 % cotton/10 % polyest , charcoal bodi - 50 % cotton/50 % polyest ) . < /p > < p > basic t-shirt long consid underwear ; simpli someth wear “ real shirt . ” basic t-shirt shift consid underwear fashion statement late 90 earli 2000 , thank popular hip-hop artist , rapper , peopl start look higher qualiti blank disappoint find weren ’ t any . < br / > thi begin shaka wear . < /p > < p > while popular cultur promot blank shirt , apparel compani still suppli low qualiti shirt didn ’ t last long . introduc max heavyweight . heavier fabric longer last color , max heavyweight caught quickli soon , everyon rapper skateboard wear them . today , becom global recogn brand offer anyth t-shirt fleec activewear . < /p > < p > our qualiti consid best industri mani compani suppli satisfi custom decad . basic apparel longer afterthought come fashion becom industri standard come premium shirt apparel . < /p > [ sep ] long-last & durabl – high-qual water resist pad bomber jacket men construct last long time . last multipl wash-cycl longer last color . premium qualiti bomber jacket keep shape time without stretch , sag , wear out . line super soft polyest warmth , nylon exterior perfect protect variou weather condit especi ideal cooler season . versatil basic – classic jacket never goe style , bomber jacket perfect basic essenti everi guy need closet . it ’ s outerwear jacket goe outfit , make easi throw go . style coolest sneaker boot favorit tee jean everyday casual attir . it ’ s made comfort day wear , make sleek , sporti bomber great event occas . choos varieti cool color afford style – essenti jacket come classic button style look good bodi shape size . featur color match snap button , 2 slant hand pocket side , satin finish nylon outer , lightli fill poli pad ad warmth , stripe rib sleev neck collar trim . bomber jacket come raglan shoulder design better wider rang mobil . it ’ s classic athlet design alway stylish ad function ultra-comfort – never sacrific comfort fashion fulli line pad bomber jacket design maximum comfort day night . it ’ s cool , stylish , cozi , breathabl comfi relax fit . whether loung home , go indoor outdoor , go see game hang friend weekend , button nylon util windbreak give comfort rang motion activ rain shine . absolut must-hav everi genuin shaka wear varsiti bomber jacket fulli line colleg basebal varsiti jacket design u.s.a . suppli fitscloth . greatli confid love fitscloth cloth . plea check size chart purchas . model 6 ' 1 `` ( 185 cm ) , 175 lb ( 79 kg ) wear size l. [ sep ] royal [ sep ] long-last & durabl – high-qual water resist pad bomber jacket men construct last long time . last multipl wash-cycl longer last color . premium qualiti bomber jacket keep shape time without stretch , sag , wear out . line super soft polyest warmth , nylon exterior perfect protect variou weather condit especi ideal cooler season . versatil basic – classic jacket never goe style , bomber jacket perfect basic essenti everi guy need closet . it ’ s outerwear jacket goe outfit , make easi throw go . style coolest sneaker boot favorit tee jean everyday casual attir . it ’ s made comfort day wear , make sleek , sporti bomber great event occas . choos varieti cool color afford style – essenti jacket come classic button style look good bodi shape size . featur color match snap button , 2 slant hand pocket side , satin finish nylon outer , lightli fill poli pad ad warmth , stripe rib sleev neck collar trim . bomber jacket come raglan shoulder design better wider rang mobil . it ’ s classic athlet design alway stylish ad function ultra-comfort – never sacrific comfort fashion fulli line pad bomber jacket design maximum comfort day night . it ’ s cool , stylish , cozi , breathabl comfi relax fit . whether loung home , go indoor outdoor , go see game hang friend weekend , button nylon util windbreak give comfort rang motion activ rain shine . absolut must-hav everi genuin shaka wear varsiti bomber jacket fulli line colleg basebal varsiti jacket design u.s.a . suppli fitscloth . greatli confid love fitscloth cloth . plea check size chart purchas . model 6 ' 1 `` ( 185 cm ) , 175 lb ( 79 kg ) wear size l. [ sep ]\", '[ cl ] 1 inch/cm ruler bendabl [ sep ] school smart 1473613 lightweight strong plastic ruler 6 inch , pack 6 , high gloss [ sep ] [ sep ] protect import document , surfac , text book glossi finish add luxuri aesthet durabl construct preserv qualiti object lamin countri origin : china [ sep ] high gloss [ sep ] protect import document , surfac , text book glossi finish add luxuri aesthet durabl construct preserv qualiti object lamin countri origin : china [ sep ]', '[ cl ] astrapool escalera piscina [ sep ] escalera piscina modelo ancho 500mm 7 peldaño astralpool [ sep ] < p > escalera especialment concebida piscina ejercicio rehabilitación terapia agua persona requieran elevador . ancho 500 mm do pasamano . ajust altura . fácil instalación . tubo ø 43 mm acero inox aisi-316 pulido . peldaño materi plástico superfici antideslizant . suministrada anclaj fijación , previsto conexión toma equipotencial . < /p > [ sep ] 00119 - escalera piscina publica modelo ancho 500 mm 7 peld . [ sep ] [ sep ] 00119 - escalera piscina publica modelo ancho 500 mm 7 peld . [ sep ]', '[ cl ] イプサ [ sep ] イプサ ( ipsa ) クリエイティブコンシーラー ex [ sep ] [ sep ] 内容量:4.5g [ sep ] ベージュ [ sep ] 内容量:4.5g [ sep ]', '[ cl ] a003sh ケース ベルトなし [ sep ] aquo sense5g / sense4 / sense4 lite / sense4 basic 革屋さんのクイック手帳ケース 【 黒tpu 】 手帳ケース 手帳 手帳型 手帳カバー 手帳型ケース 手帳型カバー ケース カバー aquo sense5g sh-53a shg03 / sense4 sh-41a sh-m15 / sense4 lite sh-rm15 / sense4 basic a003sh アクオスセンス5g sh41a shrm15 スマホケース スマホカバー スマホ ス [ sep ] マグネット式で開閉がスムーズにできる手帳型ケースです < br > 良質なスムースレザーを使用しておりますので、軽量なのに高級感のある手触りを追求しました < br > ストラップホールは上下についております < br > < br > ●※ 置き型充電器等には対応しておりません。 < br > ●それぞれの機種にあわせてカメラ穴をお作りしております。 < br > ●マグネット開閉式、カードポケット付き。 < br > ●内側のケースの素材は、柔軟性のある黒のソフトケース ( tpu ) を使用しております。 < br > ●こちらの商品はみかんねこ正規取り扱い商品です。 [ sep ] マグネット式で開閉がスムーズにできる手帳型ケースです 良質なスムースレザーを使用しておりますので、軽量なのに高級感のある手触りを追求しました ストラップホールは上下についております ※ 置き型充電器等には対応しておりません。 内側のケースの素材は、柔軟性のある黒のソフトケース ( tpu ) を使用しております。 [ sep ] ワインレッド [ sep ] マグネット式で開閉がスムーズにできる手帳型ケースです 良質なスムースレザーを使用しておりますので、軽量なのに高級感のある手触りを追求しました ストラップホールは上下についております ※ 置き型充電器等には対応しておりません。 内側のケースの素材は、柔軟性のある黒のソフトケース ( tpu ) を使用しております。 [ sep ]', '[ cl ] wild wood tarot [ sep ] wild unknown tarot deck guidebook ( offici keepsak box set ) [ sep ] [ sep ] harperelixir durabl long last ensur get best usag longer period [ sep ] [ sep ] harperelixir durabl long last ensur get best usag longer period [ sep ]', '[ cl ] maybellin quad eyeshadow [ sep ] maybellin new york expert wear eyeshadow quad , 20q velvet crush perfect pastel , 0.17 ounc [ sep ] [ sep ] maybellin maybellin maybellin [ sep ] 20q velvet crush [ sep ] maybellin maybellin maybellin [ sep ]', \"[ cl ] levi woman short [ sep ] levi 's woman 's wedgi skinni jean , arctic tundra , 29 ( u 8 ) [ sep ] [ sep ] high rise : sit waist stretch twill skinni leg snug hip thigh inseam : 27 `` , raw hem front rise : 10 7/8 `` ; back rise : 14 3/4 `` [ sep ] arctic tundra [ sep ] high rise : sit waist stretch twill skinni leg snug hip thigh inseam : 27 `` , raw hem front rise : 10 7/8 `` ; back rise : 14 3/4 `` [ sep ]\", '[ cl ] スティーブンキング [ sep ] シャイニング ( 字幕版 ) [ sep ] [ sep ] [ sep ] [ sep ] [ sep ]', '[ cl ] paul rich [ sep ] frost star dust - gold green [ sep ] < p > < b > inspir cosmo < /b > < /p > < p > frost case bedazzl aventurin dial , paul rich frost star dust men dress watch redefin sparkl . serv remind maintain ice-cold demeanor pursuit aspir . add lumin hand indic mix equival north star guid pursuit excel . beyond aesthet , men watch featur state-of-the-art miyota quartz japanes movement top-tier craftsmanship timepiec highli accur reliabl . < /p > < p > < b > stylish resili < /b > < /p > < p > frost star dust dress watch men known impos appear . stainless steel case measur 45mm 11mm thick . face corn gorilla glass crystal thin , lightweight damag resist . strap width 20mm interchang . deal alway cut comfort offic , paul rich watch water-resist 5 atm , withstand pressur equival depth 50 meter . < /p > < p > < b > fashion watch everi ensembl < /b > < /p > < p > paul rich frost star dust watch avail gold-ton , silver-ton , rose gold black case , choic blue green dial variat . fashion-forward twist stainless steel watch men , perfectli appoint power suit casual attir . men watch arriv tast present box . paul rich watch thought gift young men enter busi world . surpris find bold watch top list gift men want leav mark world . < /p > < p > < b > fashion accessori say arriv , add paul rich men wrist watch cart today . < /b > < /p > [ sep ] keep time boldli paul rich luxuri watch men . frost star dust men dress watch exud tast sophist , signal arriv profession time money . accur reliabl paul rich watch men use global recogn miyota quartz movement accuraci reliabl . second count , men luxuri watch collect keep on-schedul . rug stainless steel pair corn gorilla glass give men ’ s wrist watch optim perform . water resist 5 atm , paul rich male watch endur activ lifestyl ea . distinctli masculin 45mm case side 20mm band width , dress watch men connot swagger worldli . men watch lumin dial remain readabl long night . timeless gift men age , paul rich men dress watch perfect anniversari gift husband colleg graduat gift him . attract box readi bestow . [ sep ] gold [ sep ] keep time boldli paul rich luxuri watch men . frost star dust men dress watch exud tast sophist , signal arriv profession time money . accur reliabl paul rich watch men use global recogn miyota quartz movement accuraci reliabl . second count , men luxuri watch collect keep on-schedul . rug stainless steel pair corn gorilla glass give men ’ s wrist watch optim perform . water resist 5 atm , paul rich male watch endur activ lifestyl ea . distinctli masculin 45mm case side 20mm band width , dress watch men connot swagger worldli . men watch lumin dial remain readabl long night . timeless gift men age , paul rich men dress watch perfect anniversari gift husband colleg graduat gift him . attract box readi bestow . [ sep ]', '[ cl ] mothra [ sep ] bandai movi monster seri godzilla mothra larva [ sep ] bandai- bandai movi monster seri godzilla mothra larva , bandai [ sep ] [ sep ] [ sep ] [ sep ]', '[ cl ] red spray chalk [ sep ] testor spray chalk , 4 count [ sep ] [ sep ] creat temporari chalk design coordin team color varieti exterior surfac concret , asphalt , sand , snow , grass , glass washabl , non-tox chalk formula dissolv natur time exposur rain water instantli turn powder spray cover 80 linear foot fun game durabl spray last 7 day without moistur flat chalk finish vibrant color allow uniqu design easi see [ sep ] assort pastel [ sep ] creat temporari chalk design coordin team color varieti exterior surfac concret , asphalt , sand , snow , grass , glass washabl , non-tox chalk formula dissolv natur time exposur rain water instantli turn powder spray cover 80 linear foot fun game durabl spray last 7 day without moistur flat chalk finish vibrant color allow uniqu design easi see [ sep ]', '[ cl ] doctor costum kid [ sep ] melissa & doug doctor role play costum dress-up set ( 7 pc ) [ sep ] [ sep ] entertain doctor role-play costum : melissa & doug doctor role play costum set dress-up play set featur doctor ’ s jacket , mask , stethoscop , reflex hammer , ear scope , syring , reusabl name tag . high-qual materi : ensur durabl , kid doctor play set made high-qual materi construct precis manufactur standard . jacket mask machin washabl easi cleanup . realist sound effect : includ stethoscop make realist sound effect use . requir aaa batteri , includ . doctor role play costum ideal gift kid age 3 6 year great addit bin dress-up cloth girl boy . add melissa & doug fire chief role play costum round pretend play experi . “ the gold standard childhood play ” : 30 year , melissa & doug creat beauti design imagination- creativity-spark product nbc new call “ the gold standard earli childhood play . ” [ sep ] white [ sep ] entertain doctor role-play costum : melissa & doug doctor role play costum set dress-up play set featur doctor ’ s jacket , mask , stethoscop , reflex hammer , ear scope , syring , reusabl name tag . high-qual materi : ensur durabl , kid doctor play set made high-qual materi construct precis manufactur standard . jacket mask machin washabl easi cleanup . realist sound effect : includ stethoscop make realist sound effect use . requir aaa batteri , includ . doctor role play costum ideal gift kid age 3 6 year great addit bin dress-up cloth girl boy . add melissa & doug fire chief role play costum round pretend play experi . “ the gold standard childhood play ” : 30 year , melissa & doug creat beauti design imagination- creativity-spark product nbc new call “ the gold standard earli childhood play . ” [ sep ]', '[ cl ] ミキハウス 靴 [ sep ] ミキハウス ( mikihous ) シューズ 13-9408-786 16.5cm 紺 [ sep ] [ sep ] 合成皮革 メッシュ （皮革部分）合成皮革 （底材の種類）合成底 ﾍﾞﾄﾅﾑ [ sep ] ネイビー [ sep ] 合成皮革 メッシュ （皮革部分）合成皮革 （底材の種類）合成底 ﾍﾞﾄﾅﾑ [ sep ]', '[ cl ] mailbox bracket granit post [ sep ] mail bos 7161 metro lock secur wall mount mailbox , granit , medium [ sep ] [ sep ] larg capac secur wall mount lock mailbox made 14- 16-gaug electrogalvan steel strength durabl patent anti-pri latch lock mechan 12-wafer disc lock prevent leverag entri includ innov mount bracket quick easi instal surfac stainless steel hing powder-co finish optimum weather resist includ 3 key , reflect hous number , 4 lag bolt drill bit instal [ sep ] granit [ sep ] larg capac secur wall mount lock mailbox made 14- 16-gaug electrogalvan steel strength durabl patent anti-pri latch lock mechan 12-wafer disc lock prevent leverag entri includ innov mount bracket quick easi instal surfac stainless steel hing powder-co finish optimum weather resist includ 3 key , reflect hous number , 4 lag bolt drill bit instal [ sep ]', '[ cl ] light bar truck [ sep ] nilight 18025c-a 26inch 540w tripl row bar 50000lm flood spot combo beam drive boat led road light truck jeep utv atv , 2 year warranti , white [ sep ] [ sep ] super bright : combo beam tripl row nest reflector cup design middl extrem light effici upgrad reflector cup : broad reflect plate side allow multi-angl refract , ideal ambient illumin adjust mount bracket : bracket adjust slid , offer conveni adjust posit flexibl need high perform : ip67 waterproof rate , effici cool , die-cast aluminum alloy hous , 30 , 000 hour lifespan packag includ : 1pc 26 inch led light bar mount bracket [ sep ] white [ sep ] super bright : combo beam tripl row nest reflector cup design middl extrem light effici upgrad reflector cup : broad reflect plate side allow multi-angl refract , ideal ambient illumin adjust mount bracket : bracket adjust slid , offer conveni adjust posit flexibl need high perform : ip67 waterproof rate , effici cool , die-cast aluminum alloy hous , 30 , 000 hour lifespan packag includ : 1pc 26 inch led light bar mount bracket [ sep ]', '[ cl ] 魔法使いで引きこもり [ sep ] 魔法使いで引きこもり？１０ ～モフモフと見守る家族の誕生～ [ sep ] 充実した休みも終わり、魔法学院での日常に戻ったシウだったがひょんなことから白狼獣人のシルトに目を付けられ付き纏われることに。さらにヒルデガルドの傲慢な行いによってシュタイバーン出身の女子生徒たちがいじめを受けていると知ったシウは、生徒会長のティベリオや変わり者の教師オルテンシアの協力を得て彼女たちを守るために動き出す。ところが、そんなトラブル続きで大忙しの中、突然コルから預かった卵石が孵ってしまい―― ! ? 大人気異世界スローライフ物語、第10弾！ [ sep ] [ sep ] [ sep ] [ sep ]', '[ cl ] long sleev men shirt [ sep ] russel athlet men cotton perform long sleev t-shirt , royal , l [ sep ] [ sep ] lightweight cotton blend provid premium soft wash wash dri-pow moistur wick technolog keep cool dri odor protect help keep fabric fresh upf 30+ provid protect harm uv ray tag free comfort [ sep ] royal [ sep ] lightweight cotton blend provid premium soft wash wash dri-pow moistur wick technolog keep cool dri odor protect help keep fabric fresh upf 30+ provid protect harm uv ray tag free comfort [ sep ]', '[ cl ] cedar elev garden bed [ sep ] quictent rais garden bed 35.5 `` l x 23.6 `` w x 35.5 `` h leg elev garden bed cedar wooden planter kit box 8 grid herb veget flower includ 1 pair glove 3 sholv 50 plant tag [ sep ] < p > description： < br > quictent one top brand sell high qualiti structur like rais garden bed , greenhous , grow tent , marque , gazebo , camp tent etc . < /p > < p > quictent garden product tent busi sinc earli 21st centuri . decad develop , becom one profession tent manufactur core product technology . < /p > < p > quictent 35.5 `` l x 23.6 `` w x 35.5 `` h 8 grid rais garden bed upgrad upon normal product mani detail : deeper inner height , stronger wood assembl structur , bigger weight capac . aim provid best product servic customer . < /p > < p > specif : < br > thick 10mm ; four side four corners\\uf63b25mm < br > 8.5 `` inner height < br > weight capac : 440 lb . < br > packag weight : 35.9 lb < br > packag size : 36.8x27.7x4.0in < /p > < p > box content : < br > 35.5 `` l x 23.6 `` w x 35.5 `` h garden bed < br > 1 piec base fabric < br > 3 sholv < br > 50 t-type tag < br > 1 pair glove < /p > [ sep ] 【8 grid grow 8 differ plants】 -- - 2 instal method rais garden bed , use sholv make 8 grid grow differ veget herb , disassembl shelv make whole garden box grow more . give conveni use it . 【100 % natur wood material，weight capacity:440lbs】 -- - garden bed made non-paint natur cedar wood resist weather-rel damag , won ’ t warp , shrink swell high humid . weight capac : 440lb , never worri fall leg broken . 35.5 inch tall , it ’ s good struggl bend lean over . 【assembl screw , refus crack】 -- - hole everi part need assembl , connect screw , which stabl easi use screwdriv assembl , refus crack.you use rais garden bed kit year . 【8.5 ’ ’ inner height , great plant rooting】 -- - inner size 8.5 ’ ’ , higher normal size , great plant root absorb nutrient soil.thi rais planter box featur 2 tier plant store garden accessori lower shelf . cultiv plant , like veget , flower , herb patio , yard , garden , greenhous . 【3 sholv , 50 t-type tag , 1 pair gloves，1 fabric weed barrier gifts】 -- - 3 differ sholv rais garden bed leg , make easier plant , especi plant small herb strawberri , need buy separ . 50 t-type tag record plant ’ grow period . 1 pair glove give comfort assembl improv shop happi index . [ sep ] [ sep ] 【8 grid grow 8 differ plants】 -- - 2 instal method rais garden bed , use sholv make 8 grid grow differ veget herb , disassembl shelv make whole garden box grow more . give conveni use it . 【100 % natur wood material，weight capacity:440lbs】 -- - garden bed made non-paint natur cedar wood resist weather-rel damag , won ’ t warp , shrink swell high humid . weight capac : 440lb , never worri fall leg broken . 35.5 inch tall , it ’ s good struggl bend lean over . 【assembl screw , refus crack】 -- - hole everi part need assembl , connect screw , which stabl easi use screwdriv assembl , refus crack.you use rais garden bed kit year . 【8.5 ’ ’ inner height , great plant rooting】 -- - inner size 8.5 ’ ’ , higher normal size , great plant root absorb nutrient soil.thi rais planter box featur 2 tier plant store garden accessori lower shelf . cultiv plant , like veget , flower , herb patio , yard , garden , greenhous . 【3 sholv , 50 t-type tag , 1 pair gloves，1 fabric weed barrier gifts】 -- - 3 differ sholv rais garden bed leg , make easier plant , especi plant small herb strawberri , need buy separ . 50 t-type tag record plant ’ grow period . 1 pair glove give comfort assembl improv shop happi index . [ sep ]', '[ cl ] plu size cloth woman [ sep ] glamoris woman full figur plu size magiclift origin wirefre support bra # 1000 , blue , 46j [ sep ] [ sep ] magiclift technolog : cushion band lift , shape support without wire . support : contour cup provid coverag comfort . comfort : wide cushion strap help ea pressur reliev shoulder strain . custom fit : hook-and-ey closur 3 column & 3 row increas size . design new york sinc 1921 : 100 year experi craft bra curvi woman . [ sep ] blue [ sep ] magiclift technolog : cushion band lift , shape support without wire . support : contour cup provid coverag comfort . comfort : wide cushion strap help ea pressur reliev shoulder strain . custom fit : hook-and-ey closur 3 column & 3 row increas size . design new york sinc 1921 : 100 year experi craft bra curvi woman . [ sep ]', '[ cl ] ipodsプロケース可愛い [ sep ] zugu ipad pro 12.9 ケース 2021 第5世代 極薄 落下衝撃保護 10段階スタンド機能 ペンホルダー ワイヤレス充電 オートスリープ スマートカバー ( ipad pro12.9インチ 5世代 カバー ブラウン ) [ sep ] [ sep ] 【高品質】zuguの ipad pro 12.9 ケース（ipadpro 12.9 カバー）登場。zugu caseは、2010年にアメリカで生まれたipadケースのイノベーションブランドです。zuguは、機能性と見た目の美しさを両立させる理想的なケースを追求し、アメリカでは口コミを通じて人気ブランドへと成長しました。amazon usaでは9割以上のお客様から5つ星の高評価を得ています。商品画像の最後にある商品実演 【抜群の安定感】角度調節ができる一般的なipadケースは２～３段階程度が主流ですが、マグネティック・キックスタンド採用のzugu アイパッド第5世代 ケースなら、10段階の角度調整が可能に。どんな場所でも、そして様々な用途に、しっかりと安定したスタンド機能をお楽しみいただけます。 【衝撃保護とスリムデザインの両立】150cmの高さから落下テスト済。見た目にも高級感あふれるpc+tpu二重構造のラバーシェル（業界最薄レベル2mmのスーパー保護バンパー）を装備した カバー が、ipadをしっかりと全方位保護します。高いインパクトプロテクションと軽量スリムで美しいデザインの両立を実現しました。 【使いやすさへの配慮】しっかりと閉じるスマートカバーは、オートスリープ/ウェイク機能搭載のほか、バッテリーの消耗を防ぐアンチ・スライド仕様。appleペンシル専用伸縮ポケット付き。appleペンシルのワイヤレス充電が可能。 【安心のメーカー保証】2年間メーカー保証 ( zugu case正規店舗よりご購入いただいたお客様に限ります。2021 ipad pro 12.9インチ 第5世代使用時。デバイスおよび別売品の補償は致しかねます ) [ sep ] ブラウン [ sep ] 【高品質】zuguの ipad pro 12.9 ケース（ipadpro 12.9 カバー）登場。zugu caseは、2010年にアメリカで生まれたipadケースのイノベーションブランドです。zuguは、機能性と見た目の美しさを両立させる理想的なケースを追求し、アメリカでは口コミを通じて人気ブランドへと成長しました。amazon usaでは9割以上のお客様から5つ星の高評価を得ています。商品画像の最後にある商品実演 【抜群の安定感】角度調節ができる一般的なipadケースは２～３段階程度が主流ですが、マグネティック・キックスタンド採用のzugu アイパッド第5世代 ケースなら、10段階の角度調整が可能に。どんな場所でも、そして様々な用途に、しっかりと安定したスタンド機能をお楽しみいただけます。 【衝撃保護とスリムデザインの両立】150cmの高さから落下テスト済。見た目にも高級感あふれるpc+tpu二重構造のラバーシェル（業界最薄レベル2mmのスーパー保護バンパー）を装備した カバー が、ipadをしっかりと全方位保護します。高いインパクトプロテクションと軽量スリムで美しいデザインの両立を実現しました。 【使いやすさへの配慮】しっかりと閉じるスマートカバーは、オートスリープ/ウェイク機能搭載のほか、バッテリーの消耗を防ぐアンチ・スライド仕様。appleペンシル専用伸縮ポケット付き。appleペンシルのワイヤレス充電が可能。 【安心のメーカー保証】2年間メーカー保証 ( zugu case正規店舗よりご購入いただいたお客様に限ります。2021 ipad pro 12.9インチ 第5世代使用時。デバイスおよび別売品の補償は致しかねます ) [ sep ]', '[ cl ] autism counsel work book [ sep ] cognit behavior therapi made simpl : 10 strategi manag anxieti , depress , anger , panic , worri [ sep ] [ sep ] [ sep ] [ sep ] [ sep ]', '[ cl ] wrist brace [ sep ] wrist brace carpal tunnel , comfort adjust wrist support brace arthriti tendin , wrist compress wrap pain relief , fit left hand right hand – singl [ sep ] < p > < b > do need wrist brace ? < /b > < /p > < p > do pain , tingl , numb finger ? feel need `` shake out `` hand wrist long bout type ? < /p > < p > you might wonder carpal tunnel syndrom . happen there ’ s pressur median nerv . common condit affect peopl kind work , data entri meat packing . < /p > < p > if catch earli enough , simpler option like wrist brace might trick . < /p > < p > < /p > < p > < b > wyllielab wrist brace featur : < /b > < /p > < ul > < li > univers size < /li > < li > wrist pain relief < /li > < li > fit hand < /li > < li > easi put adjust < /li > < li > breathabl comfort < /li > < /ul > < p > < /p > < p > < b > what wrist brace do ? < /b > < /p > < ul > < li > help repetit strain , sprain instabl wrist < /li > < li > help carpal tunnel syndrom , tendon tenosynov < /li > < li > the heat therapeut neopren help warm muscl joint < /li > < /ul > < p > < br > < /p > < p > < b > how wrist brace help ? < /b > < /p > < p > typic , wrist brace restrict movement wrist , keep wrist straight allevi pressur median nerv carpal tunnel . < /p > < p > the adjust strap provid addit compress around wrist and/or hand help encourag correct align carpal bone therefor help reduc inflamm wrist , use manag carpal tunnel syndrome . < /p > [ sep ] 【 super comfort 】 best solut wrist brace offer wrist super comfort feel . soft materi bring unsuit feel wrist . adjust design fit perfectli uniqu shape left right hand . ergonom design wrist support , pressur thumb comfort . 【 good support & flexibl 】 wish strong support certain flexibl , wrist brace great altern . copywrit , golf tenni play joy wrist support neither bulki burn . 【 wrist pain relief 】 matter tri keep wrist hurt recov one , wrist brace provid necessari compress keep wrist sprain break . wrist support , offer fast recoveri pain reliev . 【 durabl & breathabl 】 wrist brace made high qualiti materi . finest select materi , come durabl breathabl wrist support . beauti doubl stitch ensur strong durabl . 【 100 % satisfact after-sel servic 】 wyllielab , full confid wrist brace . wrist support brace come 30 day question ask , money-back guarante . found problem suggest wrist wrap , plea feel free contact u , provid profession support servic 24 hour . [ sep ] black [ sep ] 【 super comfort 】 best solut wrist brace offer wrist super comfort feel . soft materi bring unsuit feel wrist . adjust design fit perfectli uniqu shape left right hand . ergonom design wrist support , pressur thumb comfort . 【 good support & flexibl 】 wish strong support certain flexibl , wrist brace great altern . copywrit , golf tenni play joy wrist support neither bulki burn . 【 wrist pain relief 】 matter tri keep wrist hurt recov one , wrist brace provid necessari compress keep wrist sprain break . wrist support , offer fast recoveri pain reliev . 【 durabl & breathabl 】 wrist brace made high qualiti materi . finest select materi , come durabl breathabl wrist support . beauti doubl stitch ensur strong durabl . 【 100 % satisfact after-sel servic 】 wyllielab , full confid wrist brace . wrist support brace come 30 day question ask , money-back guarante . found problem suggest wrist wrap , plea feel free contact u , provid profession support servic 24 hour . [ sep ]', '[ cl ] 25 bathroom vaniti sink [ sep ] modway render mid-centuri bathroom vaniti sink walnut white [ sep ] [ sep ] dimens : 24 `` w x 18 . 5 `` l x 32 . 5 `` h qualiti construct - sit atop taper leg , vaniti featur mdf particleboard frame walnut grain lamin . ceram basin integr countertop creat function design bathroom storag - organ bathroom keep visual space clean under-sink storag bathroom vaniti . adjust shelf behind two soft-clos door offer ampl storag space vaniti measur - refresh bathroom modern design bathroom sink vaniti . assembl requir . fixtur includ . mid-centuri bathroom vaniti - bring mid-centuri intrigu modern style bathroom powder room organ aesthet , clean line , flare profil sink vaniti [ sep ] walnut white [ sep ] dimens : 24 `` w x 18 . 5 `` l x 32 . 5 `` h qualiti construct - sit atop taper leg , vaniti featur mdf particleboard frame walnut grain lamin . ceram basin integr countertop creat function design bathroom storag - organ bathroom keep visual space clean under-sink storag bathroom vaniti . adjust shelf behind two soft-clos door offer ampl storag space vaniti measur - refresh bathroom modern design bathroom sink vaniti . assembl requir . fixtur includ . mid-centuri bathroom vaniti - bring mid-centuri intrigu modern style bathroom powder room organ aesthet , clean line , flare profil sink vaniti [ sep ]', '[ cl ] diablo 4 [ sep ] diablo iii battl chest - pc standard edit [ sep ] [ sep ] six charact class campaign mode adventur mode [ sep ] [ sep ] six charact class campaign mode adventur mode [ sep ]', '[ cl ] polohat gift men [ sep ] polo ralph lauren men teddi bear winter knit hat skull cap ( one size , charcoal ) [ sep ] [ sep ] [ sep ] charcoal [ sep ] [ sep ]', '[ cl ] shelv without screw [ sep ] sollasi rustic float corner shelv set 3 , farmhous wood wall shelv kitchen shelf wall , hang wall corner shelf bedroom , live room , bathroom [ sep ] < b > mayb buy corner shelv decor storag , turn hous ? also could decor storag corner . tri corner shelv wall mount set 3 < br > < br > < /b > decor storag shelv wall < br > < br > heavi duti shelv hold 40 lb < br > < br > great gift < br > < br > ador shelv design decor storag , perfect nice gift famili friend . < br > < br > < b > specif < br > < br > < /b > ▶size : larg - 11.2 inch , medium - 9.8 inch , small - 7.9 inch < br > < br > ▶color : brown < br > < br > ▶packag includ : fulli assembl entryway float shelf ; 6 anchor 6 screw < br > < br > < b > you get pay for < br > < br > < /b > gain refund satisfi qualiti . keep promis custom treat like family . < br > < br > < b > enjoy clutter-fre home offic . add corner wall shelf cart today ! < br > < br > < /b > [ sep ] high qualiti float corner shelf set 3 : white corner shelf wall made high qualiti solid wood materi . durabl use mani year . smooth surfac , easi clean cloth . visibl & pre-dril hole readi accessori bag , hang within 1 min ! corner shelf home decor : wall corner shelv come protect shelf help keep valuabl fall floor toilet . simpl design function wall corner shelv rustic white color , help turn corner appeal storag display space . corner shelv help make full use corner space highlight decor object two instal form : two instal form wall mount corner shelf . instal up , protect edg stop thing fall . instal down , get minimalist home decor storag display shelf . choos favorit way display shelv match home decor . versatil corner wall shelf : kitchen , float corner shelf use put season bottl . shelv bedroom . great bookshelf small corner shelf bedsid tabl . great live space show photo friend . risk purchas : noth import satisfact . promis provid full refund satisfi wood wall storag shelv . white float shelv bathroom corner add retro style bedroom , bathroom , live room , offic [ sep ] brown [ sep ] high qualiti float corner shelf set 3 : white corner shelf wall made high qualiti solid wood materi . durabl use mani year . smooth surfac , easi clean cloth . visibl & pre-dril hole readi accessori bag , hang within 1 min ! corner shelf home decor : wall corner shelv come protect shelf help keep valuabl fall floor toilet . simpl design function wall corner shelv rustic white color , help turn corner appeal storag display space . corner shelv help make full use corner space highlight decor object two instal form : two instal form wall mount corner shelf . instal up , protect edg stop thing fall . instal down , get minimalist home decor storag display shelf . choos favorit way display shelv match home decor . versatil corner wall shelf : kitchen , float corner shelf use put season bottl . shelv bedroom . great bookshelf small corner shelf bedsid tabl . great live space show photo friend . risk purchas : noth import satisfact . promis provid full refund satisfi wood wall storag shelv . white float shelv bathroom corner add retro style bedroom , bathroom , live room , offic [ sep ]', '[ cl ] arab outfit woman [ sep ] astag girl orient belli danc set costum accessori dark blue s ( fit 3-5 year ) [ sep ] girl ` s belli danc costum , includ accessori show pictur , < br / > size top/belt same , the size differ lie pant : < br / > size ( fit 3-5 year ) : pant length 25.6in ( 65cm ) , fit 39.4in-47.2in ( 100cm -120cm ) < br / > size ( fit 6-8 year ) : pant length 29.5in ( 75cm ) , fit 47.2in-53.1in ( 120cm -135cm ) < br / > size l ( ( fit 9-11 year ) ) : pant length 33.5in ( 85cm ) , fit 53.1in-57.1in ( 135cm -145cm ) < br / > size xl : top pad , top width 15.7in , length 12.9in , bustlin 29.5in , xl ( fit 13-18 year ) pant length 35.4in , waist 25.2in-31.5in , fit height 58in . < br / > < br / > < br / > plea allow slight differ due manual measurement . < br / > due light differ monitor , real colour may slightli differ pictur < br / > [ sep ] packag include:1 * suit shown photo , ( total : top+pants+waist belt+2 * bracelets+head chain+veil+2 * ear ) , age recommend normal size girl , if girl taller usual age , plea choos size larger , harem pant / elast ankl , halloween cosplay costum , such shimmer shine , aladdin , geni , or normal birthday princess gift belli danc practis wear . gorgeou perfect perform practis top / belt free size , fit littl girl ` s xs-xl , gorgeou perfect perform practis , girl ` s belli danc dress , halloween perforamnc dress , cosplay costum . [ sep ] dark blue [ sep ] packag include:1 * suit shown photo , ( total : top+pants+waist belt+2 * bracelets+head chain+veil+2 * ear ) , age recommend normal size girl , if girl taller usual age , plea choos size larger , harem pant / elast ankl , halloween cosplay costum , such shimmer shine , aladdin , geni , or normal birthday princess gift belli danc practis wear . gorgeou perfect perform practis top / belt free size , fit littl girl ` s xs-xl , gorgeou perfect perform practis , girl ` s belli danc dress , halloween perforamnc dress , cosplay costum . [ sep ]', \"[ cl ] mini manicur set [ sep ] spove polka dot flip flop manicur set person care tool manicur kit 6 count orang [ sep ] 6 set flip flop pack beauti pink velvet favor < br > descript detail : < br > color : orang < br > each manicur set measur 6.25 `` x 2 7/8 `` ~ < br > case made orang black faux leather dual level pouch white stitch detail shape flip flop base ~ < br > front clear vinyl silkscreen white polka dot black flip flop strap design snap hold tool tuck place ~ < br > four all-met manicur tool silver chrome finish , includ nail file , scissor , nail clipper tweezer . < br > lot fun also practic set come bulk pack poli bag < br > good bulk babi shower gift guest , the flip flop manicur kit suit girl , woman , teen , also well travel manicur set small size well design . [ sep ] pack 6 count manicur set , manicur kit measur 5 1/2 `` x 2 7/8 `` easi carri store cute polka dot flip flop design,6 set flip flop pack one pink velvet bag kit includ four metal manicur tool silver chrome finish -nail file , scissor , clipper , tweezer ear pick give girl gift that 's real keeper ador flip flop design manicur set . manicur set teen , child , bulk nail set good babi shower gift guest , the flip flop manicur kit travel manicur set girl , [ sep ] orang [ sep ] pack 6 count manicur set , manicur kit measur 5 1/2 `` x 2 7/8 `` easi carri store cute polka dot flip flop design,6 set flip flop pack one pink velvet bag kit includ four metal manicur tool silver chrome finish -nail file , scissor , clipper , tweezer ear pick give girl gift that 's real keeper ador flip flop design manicur set . manicur set teen , child , bulk nail set good babi shower gift guest , the flip flop manicur kit travel manicur set girl , [ sep ]\", \"[ cl ] walton season [ sep ] brook walton seri 1-3 [ sep ] < b > < h4 > think ca n't root serial killer ? < /h4 > < br > from usa today bestsel author jenif ruff—thre dark suspens thriller featur fascin , twist protagonist . brook walton seri make wonder well know friend , neighbor , classmat . fan jame patterson , karin slaughter , hannib lecter , dexter seri , gone girl hooked . < /b > < br > < br > < b > < h4 > find reader love brook , even shouldn ’ t . . . < /b > < /h4 > < br > < b > book 1 - everett < /b > < br > < br > perfect dark side everett colleg . beauti brilliant brook , transfer student mysteri past , aim graduat first class attend medic school . jessica , wealthi socialit , sen there 's someth quit right < i > the perfect student . < /i > what happen histor blizzard settl differ all . < br > < br > < b > book 2 - rothak < /b > < br > < br > it take perfect student commit perfect crime . < br > < br > medic school rothak univers cutthroat , perfect first-year student brook walton . thrive work stress—it ’ s peopl without . except xander cross , handsom former colleg footbal player complet tour afghanistan . brook intrigu xander ’ s troubl past want get bottom darkest secret . < br > < br > but brook ’ s anatomi partner , rachael , insist brook violat honor code , brook ’ s accomplish year hard work jeopardi could expel prestigi rothaker . < br > < br > then rachael mysteri disappears . < br > < br > desper clue , detect descend campu interview everyon : faculti , staff , student . one person desper truth stay hidden , whatev take keep way . < br > < br > < b > book 3 - intern < /b > < br > < br > two young american tourist brutal murder cancun . privat investig connecticut desper uncov truth miss co . heart matter brook walton , young medic student . summer internship medic examin ’ s offic expo disturb mysteri ruthless brillianc , author take closer look . brook save beauti skin someon watch everi move ? one murder solv urgent problem , dig even deeper grave ? < br > < br > < i > “ from delight creativ mind jenif ruff , intern deliv chill , suspens , end complet unpredictable . ” < /i > - -allison maruska , author fourth descend < br > < br > < i > “ a nail biter compel psycholog portrait . ” < /i > – reita pendri , author china white < br > < br > e-thriller.com thriller month < br > < br > review amazon custom : < br > < i > `` after read 3 book 3 day , left want 4th & 5th . bravo . `` < /i > ★★★★★ < br > < i > `` i could put down ! suspens ! thrill ! love everi page ! ! ! `` < /i > ★★★★★ < br > < i > `` wow ! finish 3 book . critic start read , may night . `` < /i > ★★★★★ < br > < i > “ jame patterson , competit ! ” < /i > ★★★★★ < br > < i > `` reminisc modern-day hitchcock . [ sep ] [ sep ] [ sep ] [ sep ]\", '[ cl ] milani lip gloss [ sep ] amor metal lip creme - prismatt touch [ sep ] [ sep ] metal liquid lip color shine soft luster dri smooth matt finish without dri lip [ sep ] prismatt touch [ sep ] metal liquid lip color shine soft luster dri smooth matt finish without dri lip [ sep ]', \"[ cl ] larg travel backpack men [ sep ] travel laptop backpack , extra larg 18.4 inch laptop rfid anti theft tsa friendli backpack usb charg port , water resist colleg school bookbag , comput bag woman men notebook & basketbal [ sep ] < b > feactur : < /b > < br > ★rfid pocket rfid-radio frequenc identif help secur person data encod credit card , id passport . < br > ★adjust chest strap secur lock firmly . < br > ★two pocket design game lover place keyboard/mous game accessory . < br > ★luggag / suitcas strap back great slide luggag tube attach roll luggag secur easier transport . < br > ★the hidden theft proof pocket design back sit wearer 's bodi . anti-pickpocket back pocket difficult steal person item , store valuabl passport money traveling . < br > ★extern pocket side made elastic mesh , expand secur variou size water bottl compact umbrella < br > ★backpack charg port hole headphon . usb charger port conveni extern connect , offer easi access charg devic . handi fashion . hook phone go < br > ★multi-panel airflow system provid relief carri heavi load . mani pad back , shoulder strap grab handl make comfort carry . < br > < br > < b > larg multi-compart : < /b > < br > ★laptop compart : fit 18.4 inch laptop macbook < br > ★main compart : thin cloth , headset , book , magazin , camera , cd 's , etc < br > ★front compart : phone , pen , key , wallet , purs , glass small item < br > ★side pocket : durabl elastic mesh pocket side , fit water bottl , small compact umbrella item < br > ★theft proof back pocket : passport , cellphon , wallet , earphon < br > -extern dimens : 21.5 * 16.3 * 9.9 inch < br > -capac : 55l < br > -fit laptop size : 15.6,17,17.3,18.4 inch < br > -occas : airplan travel , vacat , day hike , school , camp , busi , comic exhibit , game show , shop , leisur trip , outdoor hike camp overnight backpack men women.best electron gift birthday , christmas . < br > [ sep ] travel extra larg : size 21.5 * 16.3 * 9.9inch.capacity:55l , durabl pad laptop compart hold ipad,15.6,17,17.3 , up to18.4inch laptop backpack/comput , largest main compart hold 3-4 day travel clothing.mani hidden pocket accommod lot travel accessori , stationeri , notebook , person toiletri , side zipper pocket easi access essenti , heavi duti backpack made high qualiti polyest nylon fabric better tear , xl backpack perfect intern travel tsa approv rfid anti-theft : checkpoint , unfold extra larg backpack freeli 90-180 degre make quickli airport secur keep item tidi , design airplan travel . big backpack perfect indoor/outdoor activ , serv durabl larg colleg school backpack.rfid pocket rfid-radio frequenc identif help secur person data encod credit card , id passports.th anti-theft pocket back backpack , easi put phone sport backpack : perfect young player , room sport equip school gear lose anyth , place everyth : water bottl , umbrella , cleat , sock , shin guard , jacket , snack . special outsid pocket , adjust compress strap full size basketbal , rugbi volleyball.th best love sport woman , men young colleg student high school . usb charg port & headphon hole : extern usb port set-in charg cabl offer conveni charg cellphon electron devices.a hole headphon outsid give easi access earphon usag . also , student backpack sturdi rug handl steel cabl top carri , side compress strap keep exclus backpack whatev size requir . mens/women 's backpack , enjoy fashion , comfort conveni everywher . back luggag strap & chest strap : back u-shap ventil design help air convect . adjust shoulder strap pad help reliev stress shoulder . luggag strap allow backpack fit luggage/suitcas , slide luggag upright handl tube easier carri ; the adjust chest strap bring shoulder strap tighter chest , help lock backpack place secur , prevent shoulder strap fall off . [ sep ] black [ sep ] travel extra larg : size 21.5 * 16.3 * 9.9inch.capacity:55l , durabl pad laptop compart hold ipad,15.6,17,17.3 , up to18.4inch laptop backpack/comput , largest main compart hold 3-4 day travel clothing.mani hidden pocket accommod lot travel accessori , stationeri , notebook , person toiletri , side zipper pocket easi access essenti , heavi duti backpack made high qualiti polyest nylon fabric better tear , xl backpack perfect intern travel tsa approv rfid anti-theft : checkpoint , unfold extra larg backpack freeli 90-180 degre make quickli airport secur keep item tidi , design airplan travel . big backpack perfect indoor/outdoor activ , serv durabl larg colleg school backpack.rfid pocket rfid-radio frequenc identif help secur person data encod credit card , id passports.th anti-theft pocket back backpack , easi put phone sport backpack : perfect young player , room sport equip school gear lose anyth , place everyth : water bottl , umbrella , cleat , sock , shin guard , jacket , snack . special outsid pocket , adjust compress strap full size basketbal , rugbi volleyball.th best love sport woman , men young colleg student high school . usb charg port & headphon hole : extern usb port set-in charg cabl offer conveni charg cellphon electron devices.a hole headphon outsid give easi access earphon usag . also , student backpack sturdi rug handl steel cabl top carri , side compress strap keep exclus backpack whatev size requir . mens/women 's backpack , enjoy fashion , comfort conveni everywher . back luggag strap & chest strap : back u-shap ventil design help air convect . adjust shoulder strap pad help reliev stress shoulder . luggag strap allow backpack fit luggage/suitcas , slide luggag upright handl tube easier carri ; the adjust chest strap bring shoulder strap tighter chest , help lock backpack place secur , prevent shoulder strap fall off . [ sep ]\", \"[ cl ] night time mask woman [ sep ] cerav skin renew night cream | niacinamid , peptid complex , hyaluron acid moistur face | 1.7 ounc [ sep ] [ sep ] [ peptid complex ] help reduc look fine line wrinkl support skin elast [ overnight moistur ] help soften , hydrat retain skin 's moistur hyaluron acid : renew look tire skin overnight [ essenti ceramid ] skin ’ s ceramid balanc disrupt age contribut dri skin : cerav skin renew formul three essenti ceramid ( 1 , 3 , 6-ii ) help restor maintain skin ’ s natur barrier [ dermatologist recommend ] cerav skincar develop dermatologist product suitabl dri skin , sensit skin , oili skin , acne-pron , [ gentl skin ] fragranc free , non-comedogen , non-irrit formula [ sep ] [ sep ] [ peptid complex ] help reduc look fine line wrinkl support skin elast [ overnight moistur ] help soften , hydrat retain skin 's moistur hyaluron acid : renew look tire skin overnight [ essenti ceramid ] skin ’ s ceramid balanc disrupt age contribut dri skin : cerav skin renew formul three essenti ceramid ( 1 , 3 , 6-ii ) help restor maintain skin ’ s natur barrier [ dermatologist recommend ] cerav skincar develop dermatologist product suitabl dri skin , sensit skin , oili skin , acne-pron , [ gentl skin ] fragranc free , non-comedogen , non-irrit formula [ sep ]\", '[ cl ] 2 way splitter perdida [ sep ] cerrxian 10-inch rj45 splitter rj45 1 macho 3 hembra lan ethernet network splitter adapt cabl ( est producto pued utilizar divisor red ) [ sep ] nota : use producto asignador red < br > < br > descripción función producto : < br > producto pued utilizar convertir señal red tre dispositivo conectado , pued evitar efectivament pérdida causada inserción desconexión repetida cabl red . < br > conectar cabl , primer dispositivo conect prioridad conectars red . < br > operación engorrosa , adecuada comprador necesitan usar múltipl dispositivo frecuencia . < br > ¡lea atentament instruccion comprar evitar pérdida innecesaria ! actualment , asignador red mercado forma caja deben conectars fuent alimentación , completament diferent forma función cabl . [ sep ] 1 . conect adaptador red rj45 1-3 tre dispositivo . pued seleccionar tre dispositivo acced red . solo necesita conectar desconectar adaptador cambiar red , extendiendo así vida útil puerto dispositivo . 2. tre puerto adaptador pueden conectars red mismo tiempo . solo pued conectar dispositivo adaptador vez . evit tre puerto puedan transmitir señal red debido múltipl dispositivo ocupan red . 3.el cabl internet alto rendimiento clasificación cat6 ; cabl ethernet cabl cobr 24 awg proporciona conectividad univers component red lan , pc , servidor , impresora , enrutador , caja conmutador , reproductor multimedia red , na , teléfono voip , dispositivo poe má . 4.el cabl rj45 flexibl duradero gran ancho banda 550 mhz garantiza transferencia dato alta velocidad aplicacion servidor , computación nube , videovigilancia transmisión video línea alta definición . 5.lo conector contacto chapado oro , bota moldeada alivio tensión mold enganch resisten corrosión , proporcionan durabilidad garantizan conexión segura ; cabl cobr ethernet mejoran rendimiento cabl cumplen especificacion cabl comunicacion . [ sep ] negro [ sep ] 1 . conect adaptador red rj45 1-3 tre dispositivo . pued seleccionar tre dispositivo acced red . solo necesita conectar desconectar adaptador cambiar red , extendiendo así vida útil puerto dispositivo . 2. tre puerto adaptador pueden conectars red mismo tiempo . solo pued conectar dispositivo adaptador vez . evit tre puerto puedan transmitir señal red debido múltipl dispositivo ocupan red . 3.el cabl internet alto rendimiento clasificación cat6 ; cabl ethernet cabl cobr 24 awg proporciona conectividad univers component red lan , pc , servidor , impresora , enrutador , caja conmutador , reproductor multimedia red , na , teléfono voip , dispositivo poe má . 4.el cabl rj45 flexibl duradero gran ancho banda 550 mhz garantiza transferencia dato alta velocidad aplicacion servidor , computación nube , videovigilancia transmisión video línea alta definición . 5.lo conector contacto chapado oro , bota moldeada alivio tensión mold enganch resisten corrosión , proporcionan durabilidad garantizan conexión segura ; cabl cobr ethernet mejoran rendimiento cabl cumplen especificacion cabl comunicacion . [ sep ]', \"[ cl ] [ sep ] he 's [ sep ] [ sep ] [ sep ] [ sep ] [ sep ]\", '[ cl ] craftsman router tabl [ sep ] kreg prs5000 precis router lift [ sep ] [ sep ] allow precis above-the-t setup chang table-mount router above-t collet access allow fast , easi , above-t bit chang 3⁄8 `` x 9 1⁄4 `` x 11 3⁄4 `` ( 9.5 mm x 235mm x 298mm ) hard-anod aluminum plate won ’ t sag , resist scratch fit kreg router tabl mani competit brand bearing-guid carriag provid smooth oper [ sep ] [ sep ] allow precis above-the-t setup chang table-mount router above-t collet access allow fast , easi , above-t bit chang 3⁄8 `` x 9 1⁄4 `` x 11 3⁄4 `` ( 9.5 mm x 235mm x 298mm ) hard-anod aluminum plate won ’ t sag , resist scratch fit kreg router tabl mani competit brand bearing-guid carriag provid smooth oper [ sep ]', '[ cl ] thermal curtain [ sep ] wontex 100 % thermal blackout curtain bedroom - winter insul rod pocket window curtain panel , nois reduc sun block line live room curtain , grey , 52 x 72 inch , set 2 [ sep ] < p > effortlessli add finish touch style sophist home offic total blackout curtain wontex . thermal curtain craft premium durabl polyest complet rod pocket construct creat eleg , loo drape fold . block window curtain perfect combin fashion perform . 100 % sun block curtain avail select size beauti vibrant solid color . < /p > < p > < /p > < p > < strong > where perform meet style < /strong > < /p > < ul > < li > 100 % blackout & uv ray : thermal blackout curtain featur innov triple-weav fabric block 100 % sunlight protect wooden floor , carpet upholsteri color fade caus sun . make bedroom pitch-dark block street light car light night , help fall sleep easier . < /li > < li > thermal insul curtain : effect keep cold winter block heat summer , thermal insul light block curtain properti make ideal season . < /li > < li > total privaci & nois reduc curtain : heavi microfib blackout curtain bedroom live room help reduc outsid nois provid total privaci protect unwant view viewer . offer quit studi , work rest environment . < /li > < li > energi efficient/sav curtain : winter curtain allow save energi cost . set air condition back cold winter hot summer month . reduc summer heat come cool air go out , provid comfort room relax . < /li > < /ul > < p > < /p > < p > < strong > fabric & care < /strong > < /p > < ul > < li > machin washabl < /li > < li > gentl cycl , bleach < /li > < li > warm iron < /li > < /ul > < p > < /p > < p > < em > < strong > for question product , plea contact u . we ’ re alway help . < /strong > < /em > < /p > [ sep ] total blackout curtain sold pair : receiv grey curtain panel . classic line curtain measur 52 72 inch long , panel total width 104 inch . construct 2.7 inch height rod pocket top , fit 1.7 inch curtain rod easi instal slide . curtain make room pitch black day : craft 3-layer line blackout polyest weight fabric , heavi thick rod pocket curtain guarante total dark room . bock 100 % sunlight uv ray even sunniest day . awesom solut night shift worker , kid , light sleeper . reduc energi usag thermal insul curtain : wontex bedroom live room thermal curtain energi save barrier . retain heat indoor winter reject heat summer , result lower cool heat bill . energi effici curtain featur line attach back . line made materi heavi block sun summer keep heat escap winter . nois reduc total privaci curtain : heavi weight , wontex full rod pocket blackout curtain provid total privaci could use room divid prevent unwant view viewer room . thick premium , curtain also consider reduc nois come outsid . perfect peopl live busi neighborhood . super easi care : block bedroom curtain machin washabl . wash warm cold water , use mild deterg , bleach , tumbl dri low hang dri . low temperatur iron . there ’ s more ! 60-day easi return polici curtain panel you ’ re happi purchas . [ sep ] grey [ sep ] total blackout curtain sold pair : receiv grey curtain panel . classic line curtain measur 52 72 inch long , panel total width 104 inch . construct 2.7 inch height rod pocket top , fit 1.7 inch curtain rod easi instal slide . curtain make room pitch black day : craft 3-layer line blackout polyest weight fabric , heavi thick rod pocket curtain guarante total dark room . bock 100 % sunlight uv ray even sunniest day . awesom solut night shift worker , kid , light sleeper . reduc energi usag thermal insul curtain : wontex bedroom live room thermal curtain energi save barrier . retain heat indoor winter reject heat summer , result lower cool heat bill . energi effici curtain featur line attach back . line made materi heavi block sun summer keep heat escap winter . nois reduc total privaci curtain : heavi weight , wontex full rod pocket blackout curtain provid total privaci could use room divid prevent unwant view viewer room . thick premium , curtain also consider reduc nois come outsid . perfect peopl live busi neighborhood . super easi care : block bedroom curtain machin washabl . wash warm cold water , use mild deterg , bleach , tumbl dri low hang dri . low temperatur iron . there ’ s more ! 60-day easi return polici curtain panel you ’ re happi purchas . [ sep ]', \"[ cl ] marvel decor [ sep ] rubi 's marvel univers wall breaker , captain america shield [ sep ] [ sep ] rigid polyurethan captain america shield hollow back ea hang measur 16.5 ” x 31.25 ” x 14.5 ” offici licens marvel décor , item ship sold directli amazon guarante authent over wall breaker décor fit perfectli medium room , bedroom , famili room , man cave - room weigh approxim 5 pound [ sep ] multi-color [ sep ] rigid polyurethan captain america shield hollow back ea hang measur 16.5 ” x 31.25 ” x 14.5 ” offici licens marvel décor , item ship sold directli amazon guarante authent over wall breaker décor fit perfectli medium room , bedroom , famili room , man cave - room weigh approxim 5 pound [ sep ]\", '[ cl ] ベツコミ [ sep ] ベツコミ 2019年5月号 ( 2019年4月12日発売 ) [ 雑誌 ] [ sep ] ※高橋海人「僕のスーパーラブストーリー！！～王子と男子は紙一重！？～」のデジタル版での掲載はありません。あらかじめご了承ください。 < br > < br > ●表紙＆巻頭カラー『black bird 番外編』桜小路かのこ < br > ●『スパイスとカスタード』宇佐美真紀 < br > ●『みらいのダンナさま』吉永ゆう < br > ●『柚木さんちの四兄弟。』藤沢志月 < br > ●『やからねこ』新井理恵 < br > ●『クイーンズ・クオリティ』最富キョウスケ < br > ●『藤原くんはだいたい正しい』ヒナチなお < br > ●『うさギョロ！』まめもやし < br > ●『セーラー服と向日葵』中島ベガ < br > ●『くま子さんな日々』ちひろ < br > ●『1／3さんぶんのいち』千葉コズエ < br > ●『たのしい4角関係のすすめ 後編』八寿子 < br > ●『恋に毒針』手島ちあ < br > ●『だってもうスキになっちゃったし』後藤みさき < br > ●『いじわる作家の専属担当 番外編』由季よしの < br > ●『チア・アップ！』維村米人 < br > ●『檻の中のうそつきハニー』田村ことゆ < br > ●『彼女がイケメンすぎる件ですが』黒田ノア < br > ●『いつか見た、星をなぞって』依月リリー [ sep ] [ sep ] [ sep ] [ sep ]', \"[ cl ] nuloom rug 5x8 [ sep ] nuloom rodolfo faux sheepskin shag area rug , 5 ' x 8 ' , white [ sep ] [ sep ] 100 % acryl , made china step comfort soft fluffi textur faux sheepskin shag durabl built last small rug place wherev desir touch eleg comfort home easi care for , recommend vacuum regularli reduc potenti shed spot clean stain carpet cleaner [ sep ] white [ sep ] 100 % acryl , made china step comfort soft fluffi textur faux sheepskin shag durabl built last small rug place wherev desir touch eleg comfort home easi care for , recommend vacuum regularli reduc potenti shed spot clean stain carpet cleaner [ sep ]\", '[ cl ] niña [ sep ] ozbozz sv13988 unicorn scooter 2 rueda iluminada [ sep ] [ sep ] unicorn scooter 2 rueda iluminada luce encienden automáticament montan luce apagarán patinet dejado mover altura ajust excelent patinet mecanismo plegado bloqueo fácil fácil plegar [ sep ] multicolor [ sep ] unicorn scooter 2 rueda iluminada luce encienden automáticament montan luce apagarán patinet dejado mover altura ajust excelent patinet mecanismo plegado bloqueo fácil fácil plegar [ sep ]', '[ cl ] airtight pop canist [ sep ] airtight food storag contain set - 7 pc - pantri organ storag 100 % airtight , bpa free clear plastic , kitchen canist flour , sugar cereal , label & marker ( black ) [ sep ] < p > < strong > your search perfect food storag contain set final over < /strong > < /p > < p > when < strong > premium food storag contain set < /strong > arriv door , rip cute amazon brown box open first chanc get . take contain admir eleg design . hand complet food storag contain set amazon < /p > < p > < strong > what separ premium food storag contain set competit . simpl really . < /strong > < /p > < p > < strong > it start with < /strong > < /p > < ul > < li > it come 7 premium clear storag contain higher total store capac set < /li > < li > free reusabl chalkboard label < /li > < li > includ 1 larg contain ( 8.0 cup /1.9 liter ) , 2 medium contain ( 5.1 cup /1.2 liter ) , 2 small contain ( 3.4 cup /0.8 liter ) , 2 mini contain ( 2.1 cup /0.5 liter ) . < /li > < li > new improv lid made high impact resist durabl ab plastic < /li > < li > special lid-lock mechan ensur air water enter in < /li > < li > made high-qual durabl bpa-fre plastic < /li > < li > space save design - stackabl squar shape contain free space pantry . < /li > < li > liquid friendli < /li > < /ul > [ sep ] ✮ built last - taken meticul care ensur contain receiv last year come . unlik seller amazon lid easili break use , contain come new improv lid made high impact resist durabl ab plastic mean don ’ t need worri lid break . addit lid-lock mechan ensur maximum fresh prolong food storage.bi creat 100 % airtight . ✮ best bang buck - provid higher total store capac unlik other amazon . includ 1 larg contain ( 8.0 cup /1.9 liter ) , 2 medium contain ( 5.1 cup /1.2 liter ) , 2 small contain ( 3.4 cup /0.8 liter ) , 2 mini contain ( 2.1 cup /0.5 liter ) . air tight contain come wide varieti shape size storag need . ✮ superior bundl - complet bundl come 7 bpa-fre premium food-storag canist , reusabl chalkboard label allow organ pantri like never befor . set come beauti box make ideal gift famili . nobodi el market provid valu u ✮ versatil contain - mani great use : air-tight food-saf keeper ideal store dri food flour , sugar , rice , grain , cereal , nut , bean , snack , pasta , spaghetti , noodl , coffe tea also perfect hold liquid water , juic , soup , more . need worri liquid spill out , push handl let airtight technolog it ’ s magic ✮ space save design - durabl squar contain especi design minim space , stackabl easili fit refriger , freezer cupboard enabl get kitchen organ free space pantri . clear contain also easi clean , extrem user friendli readi use . [ sep ] black [ sep ] ✮ built last - taken meticul care ensur contain receiv last year come . unlik seller amazon lid easili break use , contain come new improv lid made high impact resist durabl ab plastic mean don ’ t need worri lid break . addit lid-lock mechan ensur maximum fresh prolong food storage.bi creat 100 % airtight . ✮ best bang buck - provid higher total store capac unlik other amazon . includ 1 larg contain ( 8.0 cup /1.9 liter ) , 2 medium contain ( 5.1 cup /1.2 liter ) , 2 small contain ( 3.4 cup /0.8 liter ) , 2 mini contain ( 2.1 cup /0.5 liter ) . air tight contain come wide varieti shape size storag need . ✮ superior bundl - complet bundl come 7 bpa-fre premium food-storag canist , reusabl chalkboard label allow organ pantri like never befor . set come beauti box make ideal gift famili . nobodi el market provid valu u ✮ versatil contain - mani great use : air-tight food-saf keeper ideal store dri food flour , sugar , rice , grain , cereal , nut , bean , snack , pasta , spaghetti , noodl , coffe tea also perfect hold liquid water , juic , soup , more . need worri liquid spill out , push handl let airtight technolog it ’ s magic ✮ space save design - durabl squar contain especi design minim space , stackabl easili fit refriger , freezer cupboard enabl get kitchen organ free space pantri . clear contain also easi clean , extrem user friendli readi use . [ sep ]', '[ cl ] コードレスキーボードマウスセット テンキーなし [ sep ] エレコム テンキー ワイヤレス ( レシーバー付属 ) メンブレン 1000万回高耐久 ブラック tk-tdm017bk [ sep ] [ sep ] 安定した通信で快適に操作できる2.4ghzのワイヤレステンキーパッドです。 最大1000万回のキーストロークに耐える丈夫なキーを採用しています。 excelでの作業に便利な [ tab ] キーと、数字の入力に便利な [ 00 ] キーが付いています。 numlockのオン/オフの状態がひと目でわかるledランプを装備しています。 本体側面に電源on/offスイッチを装備しています。 [ sep ] [ sep ] 安定した通信で快適に操作できる2.4ghzのワイヤレステンキーパッドです。 最大1000万回のキーストロークに耐える丈夫なキーを採用しています。 excelでの作業に便利な [ tab ] キーと、数字の入力に便利な [ 00 ] キーが付いています。 numlockのオン/オフの状態がひと目でわかるledランプを装備しています。 本体側面に電源on/offスイッチを装備しています。 [ sep ]', '[ cl ] one desktop comput [ sep ] acer aspir c24-865-aci5nt aio desktop , 23.8 `` full hd , 8th gen intel core i5-8250u , 12gb ddr4 , 1tb hdd , 802.11ac wifi , wireless keyboard mous , window 10 home [ sep ] [ sep ] 8th gener intel core i5 8250u processor 1.6ghz ( up 3.4ghz ) ; oper system architectur : 64 bit 23.8 inch full hd ( 1920 x 1080 ) widescreen edg edg led back lit display 12gb ddr4 2400mhz memori & 1tb 5400rpm sata hard drive 802.11ac wi fi , gigabit ethernet lan & bluetooth 4.2le built stereo speaker ; extern 1 mp webcam ( via usb connector ) ; wireless keyboard mouse.pow supply:65 w [ sep ] silver [ sep ] 8th gener intel core i5 8250u processor 1.6ghz ( up 3.4ghz ) ; oper system architectur : 64 bit 23.8 inch full hd ( 1920 x 1080 ) widescreen edg edg led back lit display 12gb ddr4 2400mhz memori & 1tb 5400rpm sata hard drive 802.11ac wi fi , gigabit ethernet lan & bluetooth 4.2le built stereo speaker ; extern 1 mp webcam ( via usb connector ) ; wireless keyboard mouse.pow supply:65 w [ sep ]']\n"
          ]
        }
      ]
    },
    {
      "cell_type": "code",
      "source": [
        "from torch.utils.data import DataLoader, TensorDataset\n",
        "def get_data_loader(features, max_seq_length, batch_size, shuffle=True):\n",
        "\n",
        "    all_input_ids = torch.tensor([f.input_ids for f in features], dtype=torch.long)\n",
        "    all_input_mask = torch.tensor([f.input_mask for f in features], dtype=torch.long)\n",
        "    all_segment_ids = torch.tensor([f.segment_ids for f in features], dtype=torch.long)\n",
        "    all_label_ids = torch.tensor([f.label_id for f in features], dtype=torch.long)\n",
        "    data = TensorDataset(all_input_ids, all_input_mask, all_segment_ids, all_label_ids)\n",
        "\n",
        "    dataloader = DataLoader(data, shuffle=shuffle, batch_size=batch_size)\n",
        "    return dataloader\n",
        "class BertInputItem(object):\n",
        "  \"\"\"An item with all the necessary attributes for finetuning BERT.\"\"\"\n",
        "\n",
        "  def __init__(self, text, input_ids, input_mask, segment_ids, label_id):\n",
        "      self.text = text\n",
        "      self.input_ids = input_ids\n",
        "      self.input_mask = input_mask\n",
        "      self.segment_ids = segment_ids\n",
        "      self.label_id = label_id\n"
      ],
      "metadata": {
        "id": "6YGNCQu4DPPv"
      },
      "execution_count": null,
      "outputs": []
    },
    {
      "cell_type": "code",
      "source": [
        "def convert_examples_to_inputs(example_texts, example_labels, label2idx, max_seq_length, tokenizer, verbose=0):\n",
        "      \"\"\"Loads a data file into a list of `InputBatch`s.\"\"\"\n",
        "\n",
        "      input_items = []\n",
        "      examples = zip(example_texts, example_labels)\n",
        "      for (ex_index, (text, label)) in enumerate(examples):\n",
        "\n",
        "          # Create a list of token ids\n",
        "          input_ids = tokenizer.encode(f\"[CLS] {text} [SEP]\")\n",
        "          if len(input_ids) > max_seq_length:\n",
        "              input_ids = input_ids[:max_seq_length]\n",
        "\n",
        "          # All our tokens are in the first input segment (id 0).\n",
        "          segment_ids = [0] * len(input_ids)\n",
        "\n",
        "          # The mask has 1 for real tokens and 0 for padding tokens. Only real\n",
        "          # tokens are attended to.\n",
        "          input_mask = [1] * len(input_ids)\n",
        "\n",
        "          # Zero-pad up to the sequence length.\n",
        "          padding = [0] * (max_seq_length - len(input_ids))\n",
        "          input_ids += padding\n",
        "          input_mask += padding\n",
        "          segment_ids += padding\n",
        "\n",
        "          assert len(input_ids) == max_seq_length\n",
        "          assert len(input_mask) == max_seq_length\n",
        "          assert len(segment_ids) == max_seq_length\n",
        "\n",
        "          label_id = label2idx[label]\n",
        "\n",
        "          input_items.append(\n",
        "              BertInputItem(text=text,\n",
        "                            input_ids=input_ids,\n",
        "                            input_mask=input_mask,\n",
        "                            segment_ids=segment_ids,\n",
        "                            label_id=label_id))\n",
        "\n",
        "\n",
        "      return input_items"
      ],
      "metadata": {
        "id": "Rbl3mmrWA2YQ"
      },
      "execution_count": null,
      "outputs": []
    },
    {
      "cell_type": "code",
      "source": [
        "rest_texts, test_texts, rest_labels, test_labels = train_test_split(input_sequences, df_merged_no_null['esci_label'].tolist(), test_size=0.1, random_state=1)\n",
        "train_texts, dev_texts, train_labels, dev_labels = train_test_split(rest_texts, rest_labels, test_size=0.1, random_state=1)\n",
        "\n",
        "target_names = list(set(df_merged_no_null['esci_label'].tolist()))\n",
        "label2idx = {label: idx for idx, label in enumerate(target_names)}\n",
        "print(label2idx)"
      ],
      "metadata": {
        "id": "SIz5qNzOBDhJ",
        "outputId": "2da676da-e3be-4965-dda3-d0196b2c3f6f",
        "colab": {
          "base_uri": "https://localhost:8080/"
        }
      },
      "execution_count": null,
      "outputs": [
        {
          "output_type": "stream",
          "name": "stdout",
          "text": [
            "{'C': 0, 'S': 1, 'E': 2, 'I': 3}\n"
          ]
        }
      ]
    },
    {
      "cell_type": "code",
      "source": [
        "# inputItem = BertInputItem()\n",
        "MAX_SEQ_LENGTH = 512\n",
        "train_features = convert_examples_to_inputs(train_texts, train_labels, label2idx, MAX_SEQ_LENGTH, tokenizer, verbose=0)\n",
        "dev_features = convert_examples_to_inputs(dev_texts, dev_labels, label2idx, MAX_SEQ_LENGTH, tokenizer)\n",
        "test_features = convert_examples_to_inputs(test_texts, test_labels, label2idx, MAX_SEQ_LENGTH, tokenizer)\n",
        "\n",
        "BATCH_SIZE = 16\n",
        "\n",
        "train_dataloader = get_data_loader(train_features, MAX_SEQ_LENGTH, BATCH_SIZE, shuffle=True)\n",
        "dev_dataloader = get_data_loader(dev_features, MAX_SEQ_LENGTH, BATCH_SIZE, shuffle=False)\n",
        "test_dataloader = get_data_loader(test_features, MAX_SEQ_LENGTH, BATCH_SIZE, shuffle=False)"
      ],
      "metadata": {
        "id": "3adi06gV_JxY",
        "outputId": "0ddec020-fa09-4529-9ece-1880280b367b",
        "colab": {
          "base_uri": "https://localhost:8080/"
        }
      },
      "execution_count": null,
      "outputs": [
        {
          "output_type": "stream",
          "name": "stderr",
          "text": [
            "Token indices sequence length is longer than the specified maximum sequence length for this model (808 > 512). Running this sequence through the model will result in indexing errors\n"
          ]
        }
      ]
    },
    {
      "cell_type": "code",
      "source": [
        "df_merged_no_null.shape"
      ],
      "metadata": {
        "id": "0e2pIdQjMG56",
        "outputId": "ce3304e3-9861-4411-fe56-7bb56b4001a1",
        "colab": {
          "base_uri": "https://localhost:8080/"
        }
      },
      "execution_count": null,
      "outputs": [
        {
          "output_type": "execute_result",
          "data": {
            "text/plain": [
              "(10220, 14)"
            ]
          },
          "metadata": {},
          "execution_count": 79
        }
      ]
    },
    {
      "cell_type": "code",
      "source": [
        "# Evaluation method with full classification report (from nlp notebooks repo)\n",
        "\n",
        "def evaluate(model, dataloader):\n",
        "    model.eval()\n",
        "\n",
        "    eval_loss = 0\n",
        "    nb_eval_steps = 0\n",
        "    predicted_labels, correct_labels = [], []\n",
        "\n",
        "    for step, batch in enumerate(tqdm(dataloader, desc=\"Evaluation iteration\")):\n",
        "        batch = tuple(t.to(device) for t in batch)\n",
        "        input_ids, input_mask, segment_ids, label_ids = batch\n",
        "\n",
        "        with torch.no_grad():\n",
        "            tmp_eval_loss, logits = model(input_ids, attention_mask=input_mask,\n",
        "                                          token_type_ids=segment_ids, labels=label_ids)\n",
        "\n",
        "        outputs = np.argmax(logits.to('cpu'), axis=1)\n",
        "        label_ids = label_ids.to('cpu').numpy()\n",
        "\n",
        "        predicted_labels += list(outputs)\n",
        "        correct_labels += list(label_ids)\n",
        "\n",
        "        eval_loss += tmp_eval_loss.mean().item()\n",
        "        nb_eval_steps += 1\n",
        "\n",
        "    eval_loss = eval_loss / nb_eval_steps\n",
        "\n",
        "    correct_labels = np.array(correct_labels)\n",
        "    predicted_labels = np.array(predicted_labels)\n",
        "\n",
        "    return eval_loss, correct_labels, predicted_labels"
      ],
      "metadata": {
        "id": "tgojWz0xSaPE"
      },
      "execution_count": null,
      "outputs": []
    },
    {
      "cell_type": "code",
      "source": [
        "# TRAINING BEGINS HERE"
      ],
      "metadata": {
        "id": "kQ1na4e4t1Vp"
      },
      "execution_count": null,
      "outputs": []
    },
    {
      "cell_type": "code",
      "source": [
        "#creating custom model with numerical features\n",
        "model = AutoModelForSequenceClassification.from_pretrained(\"ashnadua01/bert-based-multilingual-cased-finetuned-lid\")\n",
        "additional_features = df_merged_no_null[[\"large_version\", \"small_version\"]] #should we include this in the model?\n",
        "\n",
        "#work in progress, need to create base model\n",
        "import torch.optim as optim\n",
        "from torch import nn\n",
        "\n",
        "EPOCHS = 1\n",
        "\n",
        "criterion = nn.CrossEntropyLoss()\n",
        "optimizer = optim.Adam(model.parameters(), lr=0.001)\n",
        "\n",
        "# Training loop\n",
        "for epoch in range(EPOCHS):\n",
        "    model.train()\n",
        "    for batch in train_dataloader:\n",
        "        print(len(batch))\n",
        "        input_ids, input_mask, segment_ids, label_ids = batch # originally there were 3 values being unpacked here, resulted in an error\n",
        "\n",
        "        # Clear gradients\n",
        "        optimizer.zero_grad()\n",
        "\n",
        "        # Forward pass ,results in RAM overflow\n",
        "        outputs = model(input_ids, attention_mask=input_mask, token_type_ids=segment_ids, labels=label_ids)\n",
        "\n",
        "        # Calculate loss\n",
        "        loss = outputs[0]\n",
        "\n",
        "        # Backpropagation\n",
        "        loss.backward()\n",
        "        optimizer.step()\n"
      ],
      "metadata": {
        "id": "-Vf7-H0gMPNp"
      },
      "execution_count": null,
      "outputs": []
    },
    {
      "cell_type": "code",
      "source": [],
      "metadata": {
        "id": "gUkw2YOfVTrG"
      },
      "execution_count": null,
      "outputs": []
    }
  ]
}